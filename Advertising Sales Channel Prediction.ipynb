{
 "cells": [
  {
   "cell_type": "markdown",
   "metadata": {},
   "source": [
    "# Importing Dataset"
   ]
  },
  {
   "cell_type": "code",
   "execution_count": 13,
   "metadata": {},
   "outputs": [],
   "source": [
    "import pandas as pd\n",
    "import numpy as np\n",
    "import seaborn as sns\n",
    "import warnings\n",
    "warnings.filterwarnings('ignore')"
   ]
  },
  {
   "cell_type": "code",
   "execution_count": 14,
   "metadata": {},
   "outputs": [
    {
     "data": {
      "text/html": [
       "<div>\n",
       "<style scoped>\n",
       "    .dataframe tbody tr th:only-of-type {\n",
       "        vertical-align: middle;\n",
       "    }\n",
       "\n",
       "    .dataframe tbody tr th {\n",
       "        vertical-align: top;\n",
       "    }\n",
       "\n",
       "    .dataframe thead th {\n",
       "        text-align: right;\n",
       "    }\n",
       "</style>\n",
       "<table border=\"1\" class=\"dataframe\">\n",
       "  <thead>\n",
       "    <tr style=\"text-align: right;\">\n",
       "      <th></th>\n",
       "      <th>Unnamed: 0</th>\n",
       "      <th>TV</th>\n",
       "      <th>radio</th>\n",
       "      <th>newspaper</th>\n",
       "      <th>sales</th>\n",
       "    </tr>\n",
       "  </thead>\n",
       "  <tbody>\n",
       "    <tr>\n",
       "      <th>0</th>\n",
       "      <td>1</td>\n",
       "      <td>230.1</td>\n",
       "      <td>37.8</td>\n",
       "      <td>69.2</td>\n",
       "      <td>22.1</td>\n",
       "    </tr>\n",
       "    <tr>\n",
       "      <th>1</th>\n",
       "      <td>2</td>\n",
       "      <td>44.5</td>\n",
       "      <td>39.3</td>\n",
       "      <td>45.1</td>\n",
       "      <td>10.4</td>\n",
       "    </tr>\n",
       "    <tr>\n",
       "      <th>2</th>\n",
       "      <td>3</td>\n",
       "      <td>17.2</td>\n",
       "      <td>45.9</td>\n",
       "      <td>69.3</td>\n",
       "      <td>9.3</td>\n",
       "    </tr>\n",
       "    <tr>\n",
       "      <th>3</th>\n",
       "      <td>4</td>\n",
       "      <td>151.5</td>\n",
       "      <td>41.3</td>\n",
       "      <td>58.5</td>\n",
       "      <td>18.5</td>\n",
       "    </tr>\n",
       "    <tr>\n",
       "      <th>4</th>\n",
       "      <td>5</td>\n",
       "      <td>180.8</td>\n",
       "      <td>10.8</td>\n",
       "      <td>58.4</td>\n",
       "      <td>12.9</td>\n",
       "    </tr>\n",
       "  </tbody>\n",
       "</table>\n",
       "</div>"
      ],
      "text/plain": [
       "   Unnamed: 0     TV  radio  newspaper  sales\n",
       "0           1  230.1   37.8       69.2   22.1\n",
       "1           2   44.5   39.3       45.1   10.4\n",
       "2           3   17.2   45.9       69.3    9.3\n",
       "3           4  151.5   41.3       58.5   18.5\n",
       "4           5  180.8   10.8       58.4   12.9"
      ]
     },
     "execution_count": 14,
     "metadata": {},
     "output_type": "execute_result"
    }
   ],
   "source": [
    "df=pd.read_csv(r'C:\\Users\\HP-15\\Data Trained Projects\\Advertising.csv')\n",
    "#Visualizing first 5 rows of dataset\n",
    "df.head()"
   ]
  },
  {
   "cell_type": "markdown",
   "metadata": {},
   "source": [
    "# Checking Null Values in the DataFrame"
   ]
  },
  {
   "cell_type": "code",
   "execution_count": 3,
   "metadata": {},
   "outputs": [
    {
     "data": {
      "text/plain": [
       "Unnamed: 0    0\n",
       "TV            0\n",
       "radio         0\n",
       "newspaper     0\n",
       "sales         0\n",
       "dtype: int64"
      ]
     },
     "execution_count": 3,
     "metadata": {},
     "output_type": "execute_result"
    }
   ],
   "source": [
    "df.isnull().sum()"
   ]
  },
  {
   "cell_type": "code",
   "execution_count": 4,
   "metadata": {},
   "outputs": [
    {
     "data": {
      "text/plain": [
       "<matplotlib.axes._subplots.AxesSubplot at 0x230eb0a6ef0>"
      ]
     },
     "execution_count": 4,
     "metadata": {},
     "output_type": "execute_result"
    },
    {
     "data": {
      "image/png": "[encoded data removed]",
      "text/plain": [
       "<Figure size 432x288 with 2 Axes>"
      ]
     },
     "metadata": {
      "needs_background": "light"
     },
     "output_type": "display_data"
    }
   ],
   "source": [
    "sns.heatmap(df.isnull())"
   ]
  },
  {
   "cell_type": "markdown",
   "metadata": {},
   "source": [
    "We can see that there are no null values in the dataset"
   ]
  },
  {
   "cell_type": "markdown",
   "metadata": {},
   "source": [
    "# Visualization of Data"
   ]
  },
  {
   "cell_type": "code",
   "execution_count": 5,
   "metadata": {},
   "outputs": [],
   "source": [
    "import matplotlib.pyplot as plt\n",
    "import seaborn as sns"
   ]
  },
  {
   "cell_type": "code",
   "execution_count": 6,
   "metadata": {},
   "outputs": [
    {
     "data": {
      "image/png": "[encoded data removed]",
      "text/plain": [
       "<Figure size 432x288 with 1 Axes>"
      ]
     },
     "metadata": {
      "needs_background": "light"
     },
     "output_type": "display_data"
    }
   ],
   "source": [
    "plt.scatter(df[\"TV\"],df[\"sales\"])\n",
    "plt.show()"
   ]
  },
  {
   "cell_type": "markdown",
   "metadata": {},
   "source": [
    "We can see positive linear correlation between TV and sales data"
   ]
  },
  {
   "cell_type": "code",
   "execution_count": 8,
   "metadata": {},
   "outputs": [
    {
     "data": {
      "image/png": "[encoded data removed]",
      "text/plain": [
       "<Figure size 432x288 with 1 Axes>"
      ]
     },
     "metadata": {
      "needs_background": "light"
     },
     "output_type": "display_data"
    }
   ],
   "source": [
    "plt.scatter(df[\"radio\"],df[\"sales\"])\n",
    "plt.show()"
   ]
  },
  {
   "cell_type": "markdown",
   "metadata": {},
   "source": [
    "Here also the radio data is almost positively correlated with sales data"
   ]
  },
  {
   "cell_type": "code",
   "execution_count": 9,
   "metadata": {},
   "outputs": [
    {
     "data": {
      "image/png": "[encoded data removed]",
      "text/plain": [
       "<Figure size 432x288 with 1 Axes>"
      ]
     },
     "metadata": {
      "needs_background": "light"
     },
     "output_type": "display_data"
    }
   ],
   "source": [
    "plt.scatter(df[\"newspaper\"],df[\"sales\"])\n",
    "plt.show()"
   ]
  },
  {
   "cell_type": "markdown",
   "metadata": {},
   "source": [
    "The data here is scattered and does not show much correlation between newspaper and sales data"
   ]
  },
  {
   "cell_type": "code",
   "execution_count": 10,
   "metadata": {},
   "outputs": [
    {
     "data": {
      "text/plain": [
       "(array([47., 41., 35., 30., 21., 13.,  9.,  2.,  1.,  1.]),\n",
       " array([  0.3 ,  11.67,  23.04,  34.41,  45.78,  57.15,  68.52,  79.89,\n",
       "         91.26, 102.63, 114.  ]),\n",
       " <a list of 10 Patch objects>)"
      ]
     },
     "execution_count": 10,
     "metadata": {},
     "output_type": "execute_result"
    },
    {
     "data": {
      "image/png": "[encoded data removed]",
      "text/plain": [
       "<Figure size 432x288 with 1 Axes>"
      ]
     },
     "metadata": {
      "needs_background": "light"
     },
     "output_type": "display_data"
    }
   ],
   "source": [
    "plt.hist(df['newspaper'],bins=10)"
   ]
  },
  {
   "cell_type": "markdown",
   "metadata": {},
   "source": [
    "We can see that more the newspaper score less the sales score"
   ]
  },
  {
   "cell_type": "code",
   "execution_count": 15,
   "metadata": {},
   "outputs": [
    {
     "data": {
      "text/plain": [
       "<matplotlib.axes._subplots.AxesSubplot at 0x230eddda978>"
      ]
     },
     "execution_count": 15,
     "metadata": {},
     "output_type": "execute_result"
    },
    {
     "data": {
      "image/png": "[encoded data removed]",
      "text/plain": [
       "<Figure size 432x288 with 1 Axes>"
      ]
     },
     "metadata": {
      "needs_background": "light"
     },
     "output_type": "display_data"
    }
   ],
   "source": [
    "sns.distplot(df['TV'],bins=20)"
   ]
  },
  {
   "cell_type": "markdown",
   "metadata": {},
   "source": [
    "Data lies between values 0 to 300 and has a normal distribution"
   ]
  },
  {
   "cell_type": "code",
   "execution_count": 16,
   "metadata": {},
   "outputs": [
    {
     "data": {
      "text/plain": [
       "<matplotlib.axes._subplots.AxesSubplot at 0x230ede39748>"
      ]
     },
     "execution_count": 16,
     "metadata": {},
     "output_type": "execute_result"
    },
    {
     "data": {
      "image/png": "[encoded data removed]",
      "text/plain": [
       "<Figure size 432x288 with 1 Axes>"
      ]
     },
     "metadata": {
      "needs_background": "light"
     },
     "output_type": "display_data"
    }
   ],
   "source": [
    "sns.distplot(df['radio'],bins=20)"
   ]
  },
  {
   "cell_type": "markdown",
   "metadata": {},
   "source": [
    "Data lies between values 0 to 50 and shows a normal distribution"
   ]
  },
  {
   "cell_type": "code",
   "execution_count": 17,
   "metadata": {},
   "outputs": [
    {
     "data": {
      "text/plain": [
       "<matplotlib.axes._subplots.AxesSubplot at 0x230edf09be0>"
      ]
     },
     "execution_count": 17,
     "metadata": {},
     "output_type": "execute_result"
    },
    {
     "data": {
      "image/png": "[encoded data removed]",
      "text/plain": [
       "<Figure size 432x288 with 1 Axes>"
      ]
     },
     "metadata": {
      "needs_background": "light"
     },
     "output_type": "display_data"
    }
   ],
   "source": [
    "sns.distplot(df['newspaper'],bins=20)"
   ]
  },
  {
   "cell_type": "markdown",
   "metadata": {},
   "source": [
    "Data lies between values 0 to 110 and shows a lightly right skewed data."
   ]
  },
  {
   "cell_type": "code",
   "execution_count": 21,
   "metadata": {},
   "outputs": [
    {
     "data": {
      "text/plain": [
       "<seaborn.axisgrid.PairGrid at 0x230ef2424e0>"
      ]
     },
     "execution_count": 21,
     "metadata": {},
     "output_type": "execute_result"
    },
    {
     "data": {
      "image/png": "[encoded data removed]",
      "text/plain": [
       "<Figure size 720x720 with 20 Axes>"
      ]
     },
     "metadata": {
      "needs_background": "light"
     },
     "output_type": "display_data"
    }
   ],
   "source": [
    "sns.pairplot(df)"
   ]
  },
  {
   "cell_type": "markdown",
   "metadata": {},
   "source": [
    "We can observe that column unknown is of no importance. So we drop the column."
   ]
  },
  {
   "cell_type": "code",
   "execution_count": 34,
   "metadata": {},
   "outputs": [
    {
     "ename": "KeyError",
     "evalue": "\"['Unnamed: 0'] not found in axis\"",
     "output_type": "error",
     "traceback": [
      "\u001b[1;31m---------------------------------------------------------------------------\u001b[0m",
      "\u001b[1;31mKeyError\u001b[0m                                  Traceback (most recent call last)",
      "\u001b[1;32m<ipython-input-34-f874ac6189f6>\u001b[0m in \u001b[0;36m<module>\u001b[1;34m\u001b[0m\n\u001b[1;32m----> 1\u001b[1;33m \u001b[0mdf\u001b[0m\u001b[1;33m.\u001b[0m\u001b[0mdrop\u001b[0m\u001b[1;33m(\u001b[0m\u001b[1;34m'Unnamed: 0'\u001b[0m\u001b[1;33m,\u001b[0m\u001b[0maxis\u001b[0m\u001b[1;33m=\u001b[0m\u001b[1;36m1\u001b[0m\u001b[1;33m,\u001b[0m\u001b[0minplace\u001b[0m\u001b[1;33m=\u001b[0m\u001b[1;32mTrue\u001b[0m\u001b[1;33m)\u001b[0m\u001b[1;33m\u001b[0m\u001b[1;33m\u001b[0m\u001b[0m\n\u001b[0m",
      "\u001b[1;32m~\\Anaconda3\\lib\\site-packages\\pandas\\core\\frame.py\u001b[0m in \u001b[0;36mdrop\u001b[1;34m(self, labels, axis, index, columns, level, inplace, errors)\u001b[0m\n\u001b[0;32m   3938\u001b[0m                                            \u001b[0mindex\u001b[0m\u001b[1;33m=\u001b[0m\u001b[0mindex\u001b[0m\u001b[1;33m,\u001b[0m \u001b[0mcolumns\u001b[0m\u001b[1;33m=\u001b[0m\u001b[0mcolumns\u001b[0m\u001b[1;33m,\u001b[0m\u001b[1;33m\u001b[0m\u001b[1;33m\u001b[0m\u001b[0m\n\u001b[0;32m   3939\u001b[0m                                            \u001b[0mlevel\u001b[0m\u001b[1;33m=\u001b[0m\u001b[0mlevel\u001b[0m\u001b[1;33m,\u001b[0m \u001b[0minplace\u001b[0m\u001b[1;33m=\u001b[0m\u001b[0minplace\u001b[0m\u001b[1;33m,\u001b[0m\u001b[1;33m\u001b[0m\u001b[1;33m\u001b[0m\u001b[0m\n\u001b[1;32m-> 3940\u001b[1;33m                                            errors=errors)\n\u001b[0m\u001b[0;32m   3941\u001b[0m \u001b[1;33m\u001b[0m\u001b[0m\n\u001b[0;32m   3942\u001b[0m     @rewrite_axis_style_signature('mapper', [('copy', True),\n",
      "\u001b[1;32m~\\Anaconda3\\lib\\site-packages\\pandas\\core\\generic.py\u001b[0m in \u001b[0;36mdrop\u001b[1;34m(self, labels, axis, index, columns, level, inplace, errors)\u001b[0m\n\u001b[0;32m   3778\u001b[0m         \u001b[1;32mfor\u001b[0m \u001b[0maxis\u001b[0m\u001b[1;33m,\u001b[0m \u001b[0mlabels\u001b[0m \u001b[1;32min\u001b[0m \u001b[0maxes\u001b[0m\u001b[1;33m.\u001b[0m\u001b[0mitems\u001b[0m\u001b[1;33m(\u001b[0m\u001b[1;33m)\u001b[0m\u001b[1;33m:\u001b[0m\u001b[1;33m\u001b[0m\u001b[1;33m\u001b[0m\u001b[0m\n\u001b[0;32m   3779\u001b[0m             \u001b[1;32mif\u001b[0m \u001b[0mlabels\u001b[0m \u001b[1;32mis\u001b[0m \u001b[1;32mnot\u001b[0m \u001b[1;32mNone\u001b[0m\u001b[1;33m:\u001b[0m\u001b[1;33m\u001b[0m\u001b[1;33m\u001b[0m\u001b[0m\n\u001b[1;32m-> 3780\u001b[1;33m                 \u001b[0mobj\u001b[0m \u001b[1;33m=\u001b[0m \u001b[0mobj\u001b[0m\u001b[1;33m.\u001b[0m\u001b[0m_drop_axis\u001b[0m\u001b[1;33m(\u001b[0m\u001b[0mlabels\u001b[0m\u001b[1;33m,\u001b[0m \u001b[0maxis\u001b[0m\u001b[1;33m,\u001b[0m \u001b[0mlevel\u001b[0m\u001b[1;33m=\u001b[0m\u001b[0mlevel\u001b[0m\u001b[1;33m,\u001b[0m \u001b[0merrors\u001b[0m\u001b[1;33m=\u001b[0m\u001b[0merrors\u001b[0m\u001b[1;33m)\u001b[0m\u001b[1;33m\u001b[0m\u001b[1;33m\u001b[0m\u001b[0m\n\u001b[0m\u001b[0;32m   3781\u001b[0m \u001b[1;33m\u001b[0m\u001b[0m\n\u001b[0;32m   3782\u001b[0m         \u001b[1;32mif\u001b[0m \u001b[0minplace\u001b[0m\u001b[1;33m:\u001b[0m\u001b[1;33m\u001b[0m\u001b[1;33m\u001b[0m\u001b[0m\n",
      "\u001b[1;32m~\\Anaconda3\\lib\\site-packages\\pandas\\core\\generic.py\u001b[0m in \u001b[0;36m_drop_axis\u001b[1;34m(self, labels, axis, level, errors)\u001b[0m\n\u001b[0;32m   3810\u001b[0m                 \u001b[0mnew_axis\u001b[0m \u001b[1;33m=\u001b[0m \u001b[0maxis\u001b[0m\u001b[1;33m.\u001b[0m\u001b[0mdrop\u001b[0m\u001b[1;33m(\u001b[0m\u001b[0mlabels\u001b[0m\u001b[1;33m,\u001b[0m \u001b[0mlevel\u001b[0m\u001b[1;33m=\u001b[0m\u001b[0mlevel\u001b[0m\u001b[1;33m,\u001b[0m \u001b[0merrors\u001b[0m\u001b[1;33m=\u001b[0m\u001b[0merrors\u001b[0m\u001b[1;33m)\u001b[0m\u001b[1;33m\u001b[0m\u001b[1;33m\u001b[0m\u001b[0m\n\u001b[0;32m   3811\u001b[0m             \u001b[1;32melse\u001b[0m\u001b[1;33m:\u001b[0m\u001b[1;33m\u001b[0m\u001b[1;33m\u001b[0m\u001b[0m\n\u001b[1;32m-> 3812\u001b[1;33m                 \u001b[0mnew_axis\u001b[0m \u001b[1;33m=\u001b[0m \u001b[0maxis\u001b[0m\u001b[1;33m.\u001b[0m\u001b[0mdrop\u001b[0m\u001b[1;33m(\u001b[0m\u001b[0mlabels\u001b[0m\u001b[1;33m,\u001b[0m \u001b[0merrors\u001b[0m\u001b[1;33m=\u001b[0m\u001b[0merrors\u001b[0m\u001b[1;33m)\u001b[0m\u001b[1;33m\u001b[0m\u001b[1;33m\u001b[0m\u001b[0m\n\u001b[0m\u001b[0;32m   3813\u001b[0m             \u001b[0mresult\u001b[0m \u001b[1;33m=\u001b[0m \u001b[0mself\u001b[0m\u001b[1;33m.\u001b[0m\u001b[0mreindex\u001b[0m\u001b[1;33m(\u001b[0m\u001b[1;33m**\u001b[0m\u001b[1;33m{\u001b[0m\u001b[0maxis_name\u001b[0m\u001b[1;33m:\u001b[0m \u001b[0mnew_axis\u001b[0m\u001b[1;33m}\u001b[0m\u001b[1;33m)\u001b[0m\u001b[1;33m\u001b[0m\u001b[1;33m\u001b[0m\u001b[0m\n\u001b[0;32m   3814\u001b[0m \u001b[1;33m\u001b[0m\u001b[0m\n",
      "\u001b[1;32m~\\Anaconda3\\lib\\site-packages\\pandas\\core\\indexes\\base.py\u001b[0m in \u001b[0;36mdrop\u001b[1;34m(self, labels, errors)\u001b[0m\n\u001b[0;32m   4963\u001b[0m             \u001b[1;32mif\u001b[0m \u001b[0merrors\u001b[0m \u001b[1;33m!=\u001b[0m \u001b[1;34m'ignore'\u001b[0m\u001b[1;33m:\u001b[0m\u001b[1;33m\u001b[0m\u001b[1;33m\u001b[0m\u001b[0m\n\u001b[0;32m   4964\u001b[0m                 raise KeyError(\n\u001b[1;32m-> 4965\u001b[1;33m                     '{} not found in axis'.format(labels[mask]))\n\u001b[0m\u001b[0;32m   4966\u001b[0m             \u001b[0mindexer\u001b[0m \u001b[1;33m=\u001b[0m \u001b[0mindexer\u001b[0m\u001b[1;33m[\u001b[0m\u001b[1;33m~\u001b[0m\u001b[0mmask\u001b[0m\u001b[1;33m]\u001b[0m\u001b[1;33m\u001b[0m\u001b[1;33m\u001b[0m\u001b[0m\n\u001b[0;32m   4967\u001b[0m         \u001b[1;32mreturn\u001b[0m \u001b[0mself\u001b[0m\u001b[1;33m.\u001b[0m\u001b[0mdelete\u001b[0m\u001b[1;33m(\u001b[0m\u001b[0mindexer\u001b[0m\u001b[1;33m)\u001b[0m\u001b[1;33m\u001b[0m\u001b[1;33m\u001b[0m\u001b[0m\n",
      "\u001b[1;31mKeyError\u001b[0m: \"['Unnamed: 0'] not found in axis\""
     ]
    }
   ],
   "source": [
    "df.drop('Unnamed: 0',axis=1,inplace=True)"
   ]
  },
  {
   "cell_type": "code",
   "execution_count": 35,
   "metadata": {},
   "outputs": [
    {
     "data": {
      "text/html": [
       "<div>\n",
       "<style scoped>\n",
       "    .dataframe tbody tr th:only-of-type {\n",
       "        vertical-align: middle;\n",
       "    }\n",
       "\n",
       "    .dataframe tbody tr th {\n",
       "        vertical-align: top;\n",
       "    }\n",
       "\n",
       "    .dataframe thead th {\n",
       "        text-align: right;\n",
       "    }\n",
       "</style>\n",
       "<table border=\"1\" class=\"dataframe\">\n",
       "  <thead>\n",
       "    <tr style=\"text-align: right;\">\n",
       "      <th></th>\n",
       "      <th>TV</th>\n",
       "      <th>radio</th>\n",
       "      <th>newspaper</th>\n",
       "      <th>sales</th>\n",
       "    </tr>\n",
       "  </thead>\n",
       "  <tbody>\n",
       "    <tr>\n",
       "      <th>0</th>\n",
       "      <td>230.1</td>\n",
       "      <td>37.8</td>\n",
       "      <td>69.2</td>\n",
       "      <td>22.1</td>\n",
       "    </tr>\n",
       "    <tr>\n",
       "      <th>1</th>\n",
       "      <td>44.5</td>\n",
       "      <td>39.3</td>\n",
       "      <td>45.1</td>\n",
       "      <td>10.4</td>\n",
       "    </tr>\n",
       "    <tr>\n",
       "      <th>2</th>\n",
       "      <td>17.2</td>\n",
       "      <td>45.9</td>\n",
       "      <td>69.3</td>\n",
       "      <td>9.3</td>\n",
       "    </tr>\n",
       "    <tr>\n",
       "      <th>3</th>\n",
       "      <td>151.5</td>\n",
       "      <td>41.3</td>\n",
       "      <td>58.5</td>\n",
       "      <td>18.5</td>\n",
       "    </tr>\n",
       "    <tr>\n",
       "      <th>4</th>\n",
       "      <td>180.8</td>\n",
       "      <td>10.8</td>\n",
       "      <td>58.4</td>\n",
       "      <td>12.9</td>\n",
       "    </tr>\n",
       "  </tbody>\n",
       "</table>\n",
       "</div>"
      ],
      "text/plain": [
       "      TV  radio  newspaper  sales\n",
       "0  230.1   37.8       69.2   22.1\n",
       "1   44.5   39.3       45.1   10.4\n",
       "2   17.2   45.9       69.3    9.3\n",
       "3  151.5   41.3       58.5   18.5\n",
       "4  180.8   10.8       58.4   12.9"
      ]
     },
     "execution_count": 35,
     "metadata": {},
     "output_type": "execute_result"
    }
   ],
   "source": [
    "df.head()"
   ]
  },
  {
   "cell_type": "markdown",
   "metadata": {},
   "source": [
    "# Describe Data"
   ]
  },
  {
   "cell_type": "code",
   "execution_count": 36,
   "metadata": {},
   "outputs": [
    {
     "data": {
      "text/plain": [
       "(200, 4)"
      ]
     },
     "execution_count": 36,
     "metadata": {},
     "output_type": "execute_result"
    }
   ],
   "source": [
    "df.shape"
   ]
  },
  {
   "cell_type": "code",
   "execution_count": 37,
   "metadata": {},
   "outputs": [
    {
     "data": {
      "text/plain": [
       "Index(['TV', 'radio', 'newspaper', 'sales'], dtype='object')"
      ]
     },
     "execution_count": 37,
     "metadata": {},
     "output_type": "execute_result"
    }
   ],
   "source": [
    "df.columns"
   ]
  },
  {
   "cell_type": "code",
   "execution_count": 38,
   "metadata": {},
   "outputs": [
    {
     "name": "stdout",
     "output_type": "stream",
     "text": [
      "<class 'pandas.core.frame.DataFrame'>\n",
      "RangeIndex: 200 entries, 0 to 199\n",
      "Data columns (total 4 columns):\n",
      "TV           200 non-null float64\n",
      "radio        200 non-null float64\n",
      "newspaper    200 non-null float64\n",
      "sales        200 non-null float64\n",
      "dtypes: float64(4)\n",
      "memory usage: 6.3 KB\n"
     ]
    }
   ],
   "source": [
    "df.info()"
   ]
  },
  {
   "cell_type": "markdown",
   "metadata": {},
   "source": [
    "We can see all values are in float data type"
   ]
  },
  {
   "cell_type": "code",
   "execution_count": 39,
   "metadata": {},
   "outputs": [
    {
     "data": {
      "text/html": [
       "<div>\n",
       "<style scoped>\n",
       "    .dataframe tbody tr th:only-of-type {\n",
       "        vertical-align: middle;\n",
       "    }\n",
       "\n",
       "    .dataframe tbody tr th {\n",
       "        vertical-align: top;\n",
       "    }\n",
       "\n",
       "    .dataframe thead th {\n",
       "        text-align: right;\n",
       "    }\n",
       "</style>\n",
       "<table border=\"1\" class=\"dataframe\">\n",
       "  <thead>\n",
       "    <tr style=\"text-align: right;\">\n",
       "      <th></th>\n",
       "      <th>TV</th>\n",
       "      <th>radio</th>\n",
       "      <th>newspaper</th>\n",
       "      <th>sales</th>\n",
       "    </tr>\n",
       "  </thead>\n",
       "  <tbody>\n",
       "    <tr>\n",
       "      <th>count</th>\n",
       "      <td>200.000000</td>\n",
       "      <td>200.000000</td>\n",
       "      <td>200.000000</td>\n",
       "      <td>200.000000</td>\n",
       "    </tr>\n",
       "    <tr>\n",
       "      <th>mean</th>\n",
       "      <td>147.042500</td>\n",
       "      <td>23.264000</td>\n",
       "      <td>30.554000</td>\n",
       "      <td>14.022500</td>\n",
       "    </tr>\n",
       "    <tr>\n",
       "      <th>std</th>\n",
       "      <td>85.854236</td>\n",
       "      <td>14.846809</td>\n",
       "      <td>21.778621</td>\n",
       "      <td>5.217457</td>\n",
       "    </tr>\n",
       "    <tr>\n",
       "      <th>min</th>\n",
       "      <td>0.700000</td>\n",
       "      <td>0.000000</td>\n",
       "      <td>0.300000</td>\n",
       "      <td>1.600000</td>\n",
       "    </tr>\n",
       "    <tr>\n",
       "      <th>25%</th>\n",
       "      <td>74.375000</td>\n",
       "      <td>9.975000</td>\n",
       "      <td>12.750000</td>\n",
       "      <td>10.375000</td>\n",
       "    </tr>\n",
       "    <tr>\n",
       "      <th>50%</th>\n",
       "      <td>149.750000</td>\n",
       "      <td>22.900000</td>\n",
       "      <td>25.750000</td>\n",
       "      <td>12.900000</td>\n",
       "    </tr>\n",
       "    <tr>\n",
       "      <th>75%</th>\n",
       "      <td>218.825000</td>\n",
       "      <td>36.525000</td>\n",
       "      <td>45.100000</td>\n",
       "      <td>17.400000</td>\n",
       "    </tr>\n",
       "    <tr>\n",
       "      <th>max</th>\n",
       "      <td>296.400000</td>\n",
       "      <td>49.600000</td>\n",
       "      <td>114.000000</td>\n",
       "      <td>27.000000</td>\n",
       "    </tr>\n",
       "  </tbody>\n",
       "</table>\n",
       "</div>"
      ],
      "text/plain": [
       "               TV       radio   newspaper       sales\n",
       "count  200.000000  200.000000  200.000000  200.000000\n",
       "mean   147.042500   23.264000   30.554000   14.022500\n",
       "std     85.854236   14.846809   21.778621    5.217457\n",
       "min      0.700000    0.000000    0.300000    1.600000\n",
       "25%     74.375000    9.975000   12.750000   10.375000\n",
       "50%    149.750000   22.900000   25.750000   12.900000\n",
       "75%    218.825000   36.525000   45.100000   17.400000\n",
       "max    296.400000   49.600000  114.000000   27.000000"
      ]
     },
     "execution_count": 39,
     "metadata": {},
     "output_type": "execute_result"
    }
   ],
   "source": [
    "df.describe()"
   ]
  },
  {
   "cell_type": "code",
   "execution_count": 40,
   "metadata": {},
   "outputs": [
    {
     "data": {
      "text/plain": [
       "<matplotlib.axes._subplots.AxesSubplot at 0x230ef61d1d0>"
      ]
     },
     "execution_count": 40,
     "metadata": {},
     "output_type": "execute_result"
    },
    {
     "data": {
      "image/png": "[encoded data removed]",
      "text/plain": [
       "<Figure size 1584x504 with 2 Axes>"
      ]
     },
     "metadata": {
      "needs_background": "light"
     },
     "output_type": "display_data"
    }
   ],
   "source": [
    "import matplotlib.pyplot as plt\n",
    "plt.figure(figsize=(22,7))\n",
    "sns.heatmap(df.describe(),annot=True,linewidths=0.1,linecolor='blue',fmt='0.2f')"
   ]
  },
  {
   "cell_type": "markdown",
   "metadata": {},
   "source": [
    "Values for TV:\n",
    "    \n",
    "    Min= 0.70\n",
    "    Max=296.40\n",
    "    Mean=147.04\n",
    "    Median=149.75\n",
    "    \n",
    "Values for Radio:\n",
    "    \n",
    "    Min= 0.00\n",
    "    Max=49.60\n",
    "    Mean=23.26\n",
    "    Median=22.90\n",
    "    \n",
    "Values for Newspaper:\n",
    "    \n",
    "    Min= 0.30\n",
    "    Max=114.00\n",
    "    Mean=30.55\n",
    "    Median=25.75\n",
    "    \n",
    "Hence, we can see huge variations in the min and max values of the dataset. The dataset is broadly scattered.\n",
    "    \n",
    "\n",
    "    \n",
    " "
   ]
  },
  {
   "cell_type": "markdown",
   "metadata": {},
   "source": [
    "# Correlation of Columns with the Target Variable"
   ]
  },
  {
   "cell_type": "code",
   "execution_count": 41,
   "metadata": {},
   "outputs": [
    {
     "data": {
      "text/plain": [
       "<matplotlib.axes._subplots.AxesSubplot at 0x230f0da4cf8>"
      ]
     },
     "execution_count": 41,
     "metadata": {},
     "output_type": "execute_result"
    },
    {
     "data": {
      "image/png": "[encoded data removed]",
      "text/plain": [
       "<Figure size 1584x504 with 2 Axes>"
      ]
     },
     "metadata": {
      "needs_background": "light"
     },
     "output_type": "display_data"
    }
   ],
   "source": [
    "plt.figure(figsize=(22,7))\n",
    "sns.heatmap(df.corr(),annot=True,linewidths=0.1,linecolor='black',fmt='0.2f')"
   ]
  },
  {
   "cell_type": "markdown",
   "metadata": {},
   "source": [
    "From the above heatmap, we can observe that the most correlated column with the target variable is TV with 78% of data and the least correlated column is newspaper with 23%."
   ]
  },
  {
   "cell_type": "code",
   "execution_count": 42,
   "metadata": {},
   "outputs": [
    {
     "data": {
      "image/png": "[encoded data removed]",
      "text/plain": [
       "<Figure size 1584x504 with 1 Axes>"
      ]
     },
     "metadata": {
      "needs_background": "light"
     },
     "output_type": "display_data"
    }
   ],
   "source": [
    "plt.figure(figsize=(22,7))\n",
    "df.corr()['sales'].sort_values(ascending=False).drop(['sales']).plot(kind='bar',color='c')\n",
    "plt.xlabel('Feature',fontsize=14)\n",
    "plt.ylabel('column with target names',fontsize=14)\n",
    "plt.title('correlation',fontsize=18)\n",
    "plt.show()"
   ]
  },
  {
   "cell_type": "markdown",
   "metadata": {},
   "source": [
    "We can observe that all columns in our dataset are positively correlated with our target variable."
   ]
  },
  {
   "cell_type": "markdown",
   "metadata": {},
   "source": [
    "# Checking Skewness"
   ]
  },
  {
   "cell_type": "code",
   "execution_count": 43,
   "metadata": {},
   "outputs": [
    {
     "data": {
      "text/plain": [
       "TV          -0.069853\n",
       "radio        0.094175\n",
       "newspaper    0.894720\n",
       "sales        0.407571\n",
       "dtype: float64"
      ]
     },
     "execution_count": 43,
     "metadata": {},
     "output_type": "execute_result"
    }
   ],
   "source": [
    "df.skew()"
   ]
  },
  {
   "cell_type": "markdown",
   "metadata": {},
   "source": [
    "Keeping threshold +/-0.5 as the range for skewness, we can see that only Newspaper column is lightly skewed.\n"
   ]
  },
  {
   "cell_type": "markdown",
   "metadata": {},
   "source": [
    "# Checking Outliers"
   ]
  },
  {
   "cell_type": "code",
   "execution_count": 44,
   "metadata": {},
   "outputs": [
    {
     "data": {
      "text/plain": [
       "TV           float64\n",
       "radio        float64\n",
       "newspaper    float64\n",
       "sales        float64\n",
       "dtype: object"
      ]
     },
     "execution_count": 44,
     "metadata": {},
     "output_type": "execute_result"
    }
   ],
   "source": [
    "df.dtypes"
   ]
  },
  {
   "cell_type": "code",
   "execution_count": 45,
   "metadata": {},
   "outputs": [
    {
     "data": {
      "text/plain": [
       "<matplotlib.axes._subplots.AxesSubplot at 0x230f1060588>"
      ]
     },
     "execution_count": 45,
     "metadata": {},
     "output_type": "execute_result"
    },
    {
     "data": {
      "image/png": "[encoded data removed]",
      "text/plain": [
       "<Figure size 432x288 with 1 Axes>"
      ]
     },
     "metadata": {
      "needs_background": "light"
     },
     "output_type": "display_data"
    }
   ],
   "source": [
    "df['TV'].plot.box()"
   ]
  },
  {
   "cell_type": "markdown",
   "metadata": {},
   "source": [
    "We cannot see any outliers in TV column"
   ]
  },
  {
   "cell_type": "code",
   "execution_count": 46,
   "metadata": {},
   "outputs": [
    {
     "data": {
      "text/plain": [
       "<matplotlib.axes._subplots.AxesSubplot at 0x230f10d0cc0>"
      ]
     },
     "execution_count": 46,
     "metadata": {},
     "output_type": "execute_result"
    },
    {
     "data": {
      "image/png": "[encoded data removed]",
      "text/plain": [
       "<Figure size 432x288 with 1 Axes>"
      ]
     },
     "metadata": {
      "needs_background": "light"
     },
     "output_type": "display_data"
    }
   ],
   "source": [
    "df['radio'].plot.box()"
   ]
  },
  {
   "cell_type": "markdown",
   "metadata": {},
   "source": [
    "We cannot see any outliers in radio column as well"
   ]
  },
  {
   "cell_type": "code",
   "execution_count": 47,
   "metadata": {},
   "outputs": [
    {
     "data": {
      "text/plain": [
       "<matplotlib.axes._subplots.AxesSubplot at 0x230f1339940>"
      ]
     },
     "execution_count": 47,
     "metadata": {},
     "output_type": "execute_result"
    },
    {
     "data": {
      "image/png": "[encoded data removed]",
      "text/plain": [
       "<Figure size 432x288 with 1 Axes>"
      ]
     },
     "metadata": {
      "needs_background": "light"
     },
     "output_type": "display_data"
    }
   ],
   "source": [
    "df['newspaper'].plot.box()"
   ]
  },
  {
   "cell_type": "markdown",
   "metadata": {},
   "source": [
    "There are hardly few outliers in the newspaper column which can be of importance. So, we don't treat the column."
   ]
  },
  {
   "cell_type": "markdown",
   "metadata": {},
   "source": [
    "# Separating the column into x & y"
   ]
  },
  {
   "cell_type": "code",
   "execution_count": 48,
   "metadata": {},
   "outputs": [],
   "source": [
    "x=df.drop('sales',axis=1)\n",
    "y=df['sales']"
   ]
  },
  {
   "cell_type": "markdown",
   "metadata": {},
   "source": [
    "# Resolving Skewness"
   ]
  },
  {
   "cell_type": "code",
   "execution_count": 49,
   "metadata": {},
   "outputs": [],
   "source": [
    "from sklearn.preprocessing import power_transform\n",
    "x=power_transform(x,method='yeo-johnson')"
   ]
  },
  {
   "cell_type": "code",
   "execution_count": 50,
   "metadata": {},
   "outputs": [
    {
     "data": {
      "text/plain": [
       "TV          -0.069853\n",
       "radio        0.094175\n",
       "newspaper    0.894720\n",
       "sales        0.407571\n",
       "dtype: float64"
      ]
     },
     "execution_count": 50,
     "metadata": {},
     "output_type": "execute_result"
    }
   ],
   "source": [
    "df.skew()"
   ]
  },
  {
   "cell_type": "markdown",
   "metadata": {},
   "source": [
    "# Model Building"
   ]
  },
  {
   "cell_type": "code",
   "execution_count": 51,
   "metadata": {},
   "outputs": [],
   "source": [
    "from sklearn.linear_model import LinearRegression\n",
    "from sklearn.metrics import r2_score\n",
    "from sklearn.metrics import mean_squared_error,mean_absolute_error\n",
    "from sklearn.model_selection import train_test_split\n",
    "import warnings\n",
    "warnings.filterwarnings('ignore')"
   ]
  },
  {
   "cell_type": "code",
   "execution_count": 52,
   "metadata": {},
   "outputs": [
    {
     "name": "stdout",
     "output_type": "stream",
     "text": [
      "At random state 0, the training accuracy is: 0.9129495390360743\n",
      "At random state 0, the testing accuracy is: 0.8838865502815021\n",
      "\n",
      "\n",
      "At random state 1, the training accuracy is: 0.9071938747219684\n",
      "At random state 1, the testing accuracy is: 0.8962223515318661\n",
      "\n",
      "\n",
      "At random state 2, the training accuracy is: 0.9183341288802332\n",
      "At random state 2, the testing accuracy is: 0.8134661880809735\n",
      "\n",
      "\n",
      "At random state 3, the training accuracy is: 0.9044922374546075\n",
      "At random state 3, the testing accuracy is: 0.9176823268482114\n",
      "\n",
      "\n",
      "At random state 4, the training accuracy is: 0.9058334490016561\n",
      "At random state 4, the testing accuracy is: 0.8999332568068064\n",
      "\n",
      "\n",
      "At random state 5, the training accuracy is: 0.9057996837685972\n",
      "At random state 5, the testing accuracy is: 0.9111155103873196\n",
      "\n",
      "\n",
      "At random state 6, the training accuracy is: 0.9031637800959937\n",
      "At random state 6, the testing accuracy is: 0.9263228920019166\n",
      "\n",
      "\n",
      "At random state 7, the training accuracy is: 0.9024328978288426\n",
      "At random state 7, the testing accuracy is: 0.9229594391045336\n",
      "\n",
      "\n",
      "At random state 8, the training accuracy is: 0.9161168555487973\n",
      "At random state 8, the testing accuracy is: 0.8678974095570129\n",
      "\n",
      "\n",
      "At random state 9, the training accuracy is: 0.9009624466452009\n",
      "At random state 9, the testing accuracy is: 0.9318076821551766\n",
      "\n",
      "\n",
      "At random state 10, the training accuracy is: 0.9228846311393284\n",
      "At random state 10, the testing accuracy is: 0.8657541622711324\n",
      "\n",
      "\n",
      "At random state 11, the training accuracy is: 0.9133524709379977\n",
      "At random state 11, the testing accuracy is: 0.8803200845985655\n",
      "\n",
      "\n",
      "At random state 12, the training accuracy is: 0.902936158022683\n",
      "At random state 12, the testing accuracy is: 0.9194470983657714\n",
      "\n",
      "\n",
      "At random state 13, the training accuracy is: 0.8976805428874328\n",
      "At random state 13, the testing accuracy is: 0.939589889787954\n",
      "\n",
      "\n",
      "At random state 14, the training accuracy is: 0.9123609625961204\n",
      "At random state 14, the testing accuracy is: 0.8855915841915027\n",
      "\n",
      "\n",
      "At random state 15, the training accuracy is: 0.9105627140433177\n",
      "At random state 15, the testing accuracy is: 0.892749299033213\n",
      "\n",
      "\n",
      "At random state 16, the training accuracy is: 0.9007165527505835\n",
      "At random state 16, the testing accuracy is: 0.9394773289601728\n",
      "\n",
      "\n",
      "At random state 17, the training accuracy is: 0.9142812695219606\n",
      "At random state 17, the testing accuracy is: 0.8704482295852985\n",
      "\n",
      "\n",
      "At random state 18, the training accuracy is: 0.914422622247835\n",
      "At random state 18, the testing accuracy is: 0.8852485991092028\n",
      "\n",
      "\n",
      "At random state 19, the training accuracy is: 0.9091652752339459\n",
      "At random state 19, the testing accuracy is: 0.8899047479311964\n",
      "\n",
      "\n",
      "At random state 20, the training accuracy is: 0.9040548283088207\n",
      "At random state 20, the testing accuracy is: 0.9146141588810445\n",
      "\n",
      "\n",
      "At random state 21, the training accuracy is: 0.9055624003652625\n",
      "At random state 21, the testing accuracy is: 0.9082319224948717\n",
      "\n",
      "\n",
      "At random state 22, the training accuracy is: 0.9009738344986652\n",
      "At random state 22, the testing accuracy is: 0.9263830838963718\n",
      "\n",
      "\n",
      "At random state 23, the training accuracy is: 0.9051980620752518\n",
      "At random state 23, the testing accuracy is: 0.912255042790337\n",
      "\n",
      "\n",
      "At random state 24, the training accuracy is: 0.9047131226879829\n",
      "At random state 24, the testing accuracy is: 0.9161946899635486\n",
      "\n",
      "\n",
      "At random state 25, the training accuracy is: 0.9108220375209233\n",
      "At random state 25, the testing accuracy is: 0.8864519771219054\n",
      "\n",
      "\n",
      "At random state 26, the training accuracy is: 0.9097254623523157\n",
      "At random state 26, the testing accuracy is: 0.8861223870939148\n",
      "\n",
      "\n",
      "At random state 27, the training accuracy is: 0.9061121337699268\n",
      "At random state 27, the testing accuracy is: 0.9124326285551333\n",
      "\n",
      "\n",
      "At random state 28, the training accuracy is: 0.9072975185732034\n",
      "At random state 28, the testing accuracy is: 0.9055189371310904\n",
      "\n",
      "\n",
      "At random state 29, the training accuracy is: 0.9019778705090933\n",
      "At random state 29, the testing accuracy is: 0.9177322552308231\n",
      "\n",
      "\n",
      "At random state 30, the training accuracy is: 0.9032029024339487\n",
      "At random state 30, the testing accuracy is: 0.9184029165462607\n",
      "\n",
      "\n",
      "At random state 31, the training accuracy is: 0.9011717960066744\n",
      "At random state 31, the testing accuracy is: 0.9203877988948185\n",
      "\n",
      "\n",
      "At random state 32, the training accuracy is: 0.9185058459448898\n",
      "At random state 32, the testing accuracy is: 0.8358992309579859\n",
      "\n",
      "\n",
      "At random state 33, the training accuracy is: 0.9105975424686962\n",
      "At random state 33, the testing accuracy is: 0.8803971236069514\n",
      "\n",
      "\n",
      "At random state 34, the training accuracy is: 0.9117922224881359\n",
      "At random state 34, the testing accuracy is: 0.8839111433962008\n",
      "\n",
      "\n",
      "At random state 35, the training accuracy is: 0.9170581141140548\n",
      "At random state 35, the testing accuracy is: 0.8420493162670035\n",
      "\n",
      "\n",
      "At random state 36, the training accuracy is: 0.9017665999083453\n",
      "At random state 36, the testing accuracy is: 0.9269013680745881\n",
      "\n",
      "\n",
      "At random state 37, the training accuracy is: 0.9112122909365981\n",
      "At random state 37, the testing accuracy is: 0.8884592002685253\n",
      "\n",
      "\n",
      "At random state 38, the training accuracy is: 0.9079162095332599\n",
      "At random state 38, the testing accuracy is: 0.9010698757344736\n",
      "\n",
      "\n",
      "At random state 39, the training accuracy is: 0.9139340857893717\n",
      "At random state 39, the testing accuracy is: 0.8698052736913019\n",
      "\n",
      "\n",
      "At random state 40, the training accuracy is: 0.9188570437425926\n",
      "At random state 40, the testing accuracy is: 0.8542245191528464\n",
      "\n",
      "\n",
      "At random state 41, the training accuracy is: 0.9102190502465964\n",
      "At random state 41, the testing accuracy is: 0.8937312995040837\n",
      "\n",
      "\n",
      "At random state 42, the training accuracy is: 0.9049632005892959\n",
      "At random state 42, the testing accuracy is: 0.9138021136866258\n",
      "\n",
      "\n",
      "At random state 43, the training accuracy is: 0.9004897083294492\n",
      "At random state 43, the testing accuracy is: 0.9321301514549021\n",
      "\n",
      "\n",
      "At random state 44, the training accuracy is: 0.9118487205867772\n",
      "At random state 44, the testing accuracy is: 0.8743918799320493\n",
      "\n",
      "\n",
      "At random state 45, the training accuracy is: 0.9057903571407298\n",
      "At random state 45, the testing accuracy is: 0.9087110254753444\n",
      "\n",
      "\n",
      "At random state 46, the training accuracy is: 0.9130511705521397\n",
      "At random state 46, the testing accuracy is: 0.8657040334330456\n",
      "\n",
      "\n",
      "At random state 47, the training accuracy is: 0.9078904275091112\n",
      "At random state 47, the testing accuracy is: 0.9005738151488636\n",
      "\n",
      "\n",
      "At random state 48, the training accuracy is: 0.9020955665822108\n",
      "At random state 48, the testing accuracy is: 0.9248092380313994\n",
      "\n",
      "\n",
      "At random state 49, the training accuracy is: 0.9213692965856144\n",
      "At random state 49, the testing accuracy is: 0.8431951938655837\n",
      "\n",
      "\n",
      "At random state 50, the training accuracy is: 0.9118285594538524\n",
      "At random state 50, the testing accuracy is: 0.8571529325285365\n",
      "\n",
      "\n",
      "At random state 51, the training accuracy is: 0.9061949092130422\n",
      "At random state 51, the testing accuracy is: 0.904552747538869\n",
      "\n",
      "\n",
      "At random state 52, the training accuracy is: 0.9159688226033337\n",
      "At random state 52, the testing accuracy is: 0.8784644356620782\n",
      "\n",
      "\n",
      "At random state 53, the training accuracy is: 0.8989992099599323\n",
      "At random state 53, the testing accuracy is: 0.9361841153906989\n",
      "\n",
      "\n",
      "At random state 54, the training accuracy is: 0.9015581622607004\n",
      "At random state 54, the testing accuracy is: 0.9301797919444895\n",
      "\n",
      "\n",
      "At random state 55, the training accuracy is: 0.903113522825293\n",
      "At random state 55, the testing accuracy is: 0.9215456769563855\n",
      "\n",
      "\n",
      "At random state 56, the training accuracy is: 0.9079035524800279\n",
      "At random state 56, the testing accuracy is: 0.9042263224424736\n",
      "\n",
      "\n",
      "At random state 57, the training accuracy is: 0.895308788272214\n",
      "At random state 57, the testing accuracy is: 0.9431364424474636\n",
      "\n",
      "\n",
      "At random state 58, the training accuracy is: 0.9203168422350185\n",
      "At random state 58, the testing accuracy is: 0.860650691822407\n",
      "\n",
      "\n",
      "At random state 59, the training accuracy is: 0.9038775993395896\n",
      "At random state 59, the testing accuracy is: 0.9187981301938702\n",
      "\n",
      "\n",
      "At random state 60, the training accuracy is: 0.9007891011576945\n",
      "At random state 60, the testing accuracy is: 0.9276066212677648\n",
      "\n",
      "\n",
      "At random state 61, the training accuracy is: 0.9095824787427896\n",
      "At random state 61, the testing accuracy is: 0.8896111045827058\n",
      "\n",
      "\n",
      "At random state 62, the training accuracy is: 0.9174896046611255\n",
      "At random state 62, the testing accuracy is: 0.8693195452162922\n",
      "\n",
      "\n",
      "At random state 63, the training accuracy is: 0.9041381449353588\n",
      "At random state 63, the testing accuracy is: 0.9221005536010268\n",
      "\n",
      "\n",
      "At random state 64, the training accuracy is: 0.9079142899545766\n",
      "At random state 64, the testing accuracy is: 0.8964084075107653\n",
      "\n",
      "\n",
      "At random state 65, the training accuracy is: 0.9043116058172039\n",
      "At random state 65, the testing accuracy is: 0.918132356871056\n",
      "\n",
      "\n",
      "At random state 66, the training accuracy is: 0.9091938493251156\n",
      "At random state 66, the testing accuracy is: 0.8996390781190253\n",
      "\n",
      "\n",
      "At random state 67, the training accuracy is: 0.9111440876313133\n",
      "At random state 67, the testing accuracy is: 0.8875870015335046\n",
      "\n",
      "\n",
      "At random state 68, the training accuracy is: 0.9138243202034858\n",
      "At random state 68, the testing accuracy is: 0.8589891563312657\n",
      "\n",
      "\n",
      "At random state 69, the training accuracy is: 0.9014443993649187\n",
      "At random state 69, the testing accuracy is: 0.9185233771378265\n",
      "\n",
      "\n",
      "At random state 70, the training accuracy is: 0.9000269410692061\n",
      "At random state 70, the testing accuracy is: 0.9238416154690942\n",
      "\n",
      "\n",
      "At random state 71, the training accuracy is: 0.9185638639298015\n",
      "At random state 71, the testing accuracy is: 0.8626931959696404\n",
      "\n",
      "\n",
      "At random state 72, the training accuracy is: 0.9020381903522322\n",
      "At random state 72, the testing accuracy is: 0.924668793420078\n",
      "\n",
      "\n",
      "At random state 73, the training accuracy is: 0.9137158777681897\n",
      "At random state 73, the testing accuracy is: 0.8738770721132306\n",
      "\n",
      "\n",
      "At random state 74, the training accuracy is: 0.9062392352374458\n",
      "At random state 74, the testing accuracy is: 0.8971155481778107\n",
      "\n",
      "\n",
      "At random state 75, the training accuracy is: 0.9043284575928459\n",
      "At random state 75, the testing accuracy is: 0.918721313037442\n",
      "\n",
      "\n",
      "At random state 76, the training accuracy is: 0.9167003187657926\n",
      "At random state 76, the testing accuracy is: 0.7872310541726865\n",
      "\n",
      "\n",
      "At random state 77, the training accuracy is: 0.9008407055820995\n",
      "At random state 77, the testing accuracy is: 0.9295887069752792\n",
      "\n",
      "\n",
      "At random state 78, the training accuracy is: 0.9053283797064712\n",
      "At random state 78, the testing accuracy is: 0.9168981169463655\n",
      "\n",
      "\n",
      "At random state 79, the training accuracy is: 0.9061109164102092\n",
      "At random state 79, the testing accuracy is: 0.9004417088792037\n",
      "\n",
      "\n",
      "At random state 80, the training accuracy is: 0.9174194759885411\n",
      "At random state 80, the testing accuracy is: 0.8586454341647932\n",
      "\n",
      "\n",
      "At random state 81, the training accuracy is: 0.9077888550419523\n",
      "At random state 81, the testing accuracy is: 0.9014652379684626\n",
      "\n",
      "\n",
      "At random state 82, the training accuracy is: 0.9206782975894253\n",
      "At random state 82, the testing accuracy is: 0.8378836808675186\n",
      "\n",
      "\n",
      "At random state 83, the training accuracy is: 0.8958074123424984\n",
      "At random state 83, the testing accuracy is: 0.9428931586289614\n",
      "\n",
      "\n",
      "At random state 84, the training accuracy is: 0.9035460222335626\n",
      "At random state 84, the testing accuracy is: 0.9212349415329081\n",
      "\n",
      "\n",
      "At random state 85, the training accuracy is: 0.912962692366928\n",
      "At random state 85, the testing accuracy is: 0.8819302530555693\n",
      "\n",
      "\n",
      "At random state 86, the training accuracy is: 0.90712913594853\n",
      "At random state 86, the testing accuracy is: 0.9077013021276181\n",
      "\n",
      "\n",
      "At random state 87, the training accuracy is: 0.9136862395498544\n",
      "At random state 87, the testing accuracy is: 0.8291889959066567\n",
      "\n",
      "\n",
      "At random state 88, the training accuracy is: 0.91395033287003\n",
      "At random state 88, the testing accuracy is: 0.8750208458235946\n",
      "\n",
      "\n",
      "At random state 89, the training accuracy is: 0.9121197005279641\n",
      "At random state 89, the testing accuracy is: 0.8761149085676091\n",
      "\n",
      "\n",
      "At random state 90, the training accuracy is: 0.9118766015891959\n",
      "At random state 90, the testing accuracy is: 0.8743953914251712\n",
      "\n",
      "\n",
      "At random state 91, the training accuracy is: 0.9000719902630581\n",
      "At random state 91, the testing accuracy is: 0.9054991771558711\n",
      "\n",
      "\n",
      "At random state 92, the training accuracy is: 0.8981521525334042\n",
      "At random state 92, the testing accuracy is: 0.9340599933972584\n",
      "\n",
      "\n",
      "At random state 93, the training accuracy is: 0.9047647564829178\n",
      "At random state 93, the testing accuracy is: 0.9163923829199183\n",
      "\n",
      "\n",
      "At random state 94, the training accuracy is: 0.9158358853267463\n",
      "At random state 94, the testing accuracy is: 0.8774273999952186\n",
      "\n",
      "\n",
      "At random state 95, the training accuracy is: 0.908762010746474\n",
      "At random state 95, the testing accuracy is: 0.8847191924397741\n",
      "\n",
      "\n",
      "At random state 96, the training accuracy is: 0.9124810864436\n",
      "At random state 96, the testing accuracy is: 0.8765165408243332\n",
      "\n",
      "\n",
      "At random state 97, the training accuracy is: 0.900396118731715\n",
      "At random state 97, the testing accuracy is: 0.9229711156572431\n",
      "\n",
      "\n"
     ]
    },
    {
     "name": "stdout",
     "output_type": "stream",
     "text": [
      "At random state 98, the training accuracy is: 0.8965618381654459\n",
      "At random state 98, the testing accuracy is: 0.9374842321940753\n",
      "\n",
      "\n",
      "At random state 99, the training accuracy is: 0.9011286161276886\n",
      "At random state 99, the testing accuracy is: 0.9289415808839093\n",
      "\n",
      "\n"
     ]
    }
   ],
   "source": [
    "lr=LinearRegression()\n",
    "for i in range(0,100):\n",
    "    x_train,x_test,y_train,y_test=train_test_split(x,y,test_size=0.2,random_state=i)\n",
    "    lr.fit(x_train,y_train)\n",
    "    pred_train=lr.predict(x_train)\n",
    "    pred_test=lr.predict(x_test)\n",
    "    print(f'At random state {i}, the training accuracy is: {r2_score(y_train,pred_train)}')\n",
    "    print(f'At random state {i}, the testing accuracy is: {r2_score(y_test,pred_test)}')\n",
    "    print(\"\\n\")"
   ]
  },
  {
   "cell_type": "markdown",
   "metadata": {},
   "source": [
    "We can see that the best random state is 92 with training accuracy 0.879 and testing accuracy is 0.951"
   ]
  },
  {
   "cell_type": "code",
   "execution_count": 53,
   "metadata": {},
   "outputs": [],
   "source": [
    "x_train,x_test,y_train,y_test=train_test_split(x,y,test_size=.20,random_state=92)"
   ]
  },
  {
   "cell_type": "code",
   "execution_count": 54,
   "metadata": {},
   "outputs": [
    {
     "name": "stdout",
     "output_type": "stream",
     "text": [
      "Predicted Happiness Score:  [10.08874122 12.62859338  8.49205267 19.85676418 13.54666088 15.37828634\n",
      "  7.28563214 12.10685865  7.01841977  3.48907991 12.70577685  8.8013323\n",
      " 22.40038246 18.71444078 16.57134625 15.30154476 13.22708847 22.3195323\n",
      " 23.38533925  6.17264436 11.82556974 20.48762695 16.720177   18.94102332\n",
      " 10.77032781  7.30870071 20.7653396  19.6644119  16.82465322 10.18879396\n",
      " 15.22652791 12.24715378 17.54446531 11.01537463  1.93909392 19.9677175\n",
      " 15.07773875 23.6833401  14.02275991 16.97999066]\n",
      "actual Happiness Score:  38     10.1\n",
      "116    12.2\n",
      "24      9.7\n",
      "176    20.2\n",
      "63     14.0\n",
      "26     15.0\n",
      "32      9.6\n",
      "31     11.9\n",
      "34      9.5\n",
      "91      7.3\n",
      "7      13.2\n",
      "44      8.5\n",
      "36     25.4\n",
      "141    19.2\n",
      "194    17.3\n",
      "123    15.2\n",
      "115    12.6\n",
      "61     24.2\n",
      "183    26.2\n",
      "22      5.6\n",
      "6      11.8\n",
      "0      22.1\n",
      "89     16.7\n",
      "68     18.9\n",
      "82     11.3\n",
      "172     7.6\n",
      "137    20.8\n",
      "124    19.7\n",
      "40     16.6\n",
      "73     11.0\n",
      "103    14.7\n",
      "96     11.7\n",
      "74     17.0\n",
      "94     11.5\n",
      "8       4.8\n",
      "104    20.7\n",
      "171    14.5\n",
      "175    27.0\n",
      "165    11.9\n",
      "62     15.7\n",
      "Name: sales, dtype: float64\n"
     ]
    }
   ],
   "source": [
    "lm=LinearRegression()\n",
    "lm.fit(x_train,y_train)\n",
    "pred=lm.predict(x_test)\n",
    "print(\"Predicted Happiness Score: \",pred)\n",
    "print('actual Happiness Score: ',y_test)"
   ]
  },
  {
   "cell_type": "code",
   "execution_count": 55,
   "metadata": {},
   "outputs": [
    {
     "data": {
      "text/plain": [
       "array([3.97110784, 2.74861146, 0.10832455])"
      ]
     },
     "execution_count": 55,
     "metadata": {},
     "output_type": "execute_result"
    }
   ],
   "source": [
    "lm.coef_"
   ]
  },
  {
   "cell_type": "code",
   "execution_count": 56,
   "metadata": {},
   "outputs": [
    {
     "data": {
      "text/plain": [
       "13.91145651805378"
      ]
     },
     "execution_count": 56,
     "metadata": {},
     "output_type": "execute_result"
    }
   ],
   "source": [
    "lm.intercept_"
   ]
  },
  {
   "cell_type": "code",
   "execution_count": 57,
   "metadata": {},
   "outputs": [
    {
     "data": {
      "text/plain": [
       "0.8981521525334042"
      ]
     },
     "execution_count": 57,
     "metadata": {},
     "output_type": "execute_result"
    }
   ],
   "source": [
    "#training score\n",
    "lm.score(x_train,y_train)"
   ]
  },
  {
   "cell_type": "code",
   "execution_count": 58,
   "metadata": {},
   "outputs": [
    {
     "name": "stdout",
     "output_type": "stream",
     "text": [
      "error:\n",
      "Mean absolute error: 0.9815378034023159\n",
      "Mean squared error: 2.0366391168088844\n",
      "Root Mean squared error: 1.4271086562728448\n"
     ]
    }
   ],
   "source": [
    "print('error:')\n",
    "print('Mean absolute error:',mean_absolute_error(y_test,pred))\n",
    "print('Mean squared error:',mean_squared_error(y_test,pred))\n",
    "\n",
    "print('Root Mean squared error:',np.sqrt(mean_squared_error(y_test,pred)))"
   ]
  },
  {
   "cell_type": "markdown",
   "metadata": {},
   "source": [
    "As we see some error, we need to hyper tune our model to attain the best accuracy"
   ]
  },
  {
   "cell_type": "code",
   "execution_count": 59,
   "metadata": {},
   "outputs": [
    {
     "name": "stdout",
     "output_type": "stream",
     "text": [
      "0.9340599933972584\n"
     ]
    }
   ],
   "source": [
    "print(r2_score(y_test,pred))"
   ]
  },
  {
   "cell_type": "markdown",
   "metadata": {},
   "source": [
    "We get our r2_score as 95%"
   ]
  },
  {
   "cell_type": "markdown",
   "metadata": {},
   "source": [
    "# Cross Validation of the Model"
   ]
  },
  {
   "cell_type": "code",
   "execution_count": 60,
   "metadata": {},
   "outputs": [
    {
     "name": "stdout",
     "output_type": "stream",
     "text": [
      "At cross fold 2 the cv score is 0.9042245206305917 and r2 score for training is -0.8685227435959488 and accuracy for the testing is -0.8828359697926738\n",
      "\n",
      "\n",
      "At cross fold 3 the cv score is 0.9005133366024934 and r2 score for training is -0.8685227435959488 and accuracy for the testing is -0.8828359697926738\n",
      "\n",
      "\n",
      "At cross fold 4 the cv score is 0.9010704953541404 and r2 score for training is -0.8685227435959488 and accuracy for the testing is -0.8828359697926738\n",
      "\n",
      "\n",
      "At cross fold 5 the cv score is 0.8978060430607071 and r2 score for training is -0.8685227435959488 and accuracy for the testing is -0.8828359697926738\n",
      "\n",
      "\n",
      "At cross fold 6 the cv score is 0.9020141622653224 and r2 score for training is -0.8685227435959488 and accuracy for the testing is -0.8828359697926738\n",
      "\n",
      "\n",
      "At cross fold 7 the cv score is 0.8982025458270028 and r2 score for training is -0.8685227435959488 and accuracy for the testing is -0.8828359697926738\n",
      "\n",
      "\n",
      "At cross fold 8 the cv score is 0.8958223041714928 and r2 score for training is -0.8685227435959488 and accuracy for the testing is -0.8828359697926738\n",
      "\n",
      "\n",
      "At cross fold 9 the cv score is 0.895873178203007 and r2 score for training is -0.8685227435959488 and accuracy for the testing is -0.8828359697926738\n",
      "\n",
      "\n"
     ]
    }
   ],
   "source": [
    "train_accuracy=r2_score(y_train,pred_train)\n",
    "test_accuracy=r2_score(y_test,pred_test)\n",
    "\n",
    "from sklearn.model_selection import cross_val_score\n",
    "for j in range(2,10):\n",
    "    cv_score=cross_val_score(lr,x,y,cv=j)\n",
    "    cv_mean=cv_score.mean()\n",
    "    print(f\"At cross fold {j} the cv score is {cv_mean} and r2 score for training is {train_accuracy} and accuracy for the testing is {test_accuracy}\")\n",
    "    print(\"\\n\")"
   ]
  },
  {
   "cell_type": "markdown",
   "metadata": {},
   "source": [
    "Since the number of folds don't have such impact on the accuracy and cv_score. So cv=3 is selected."
   ]
  },
  {
   "cell_type": "markdown",
   "metadata": {},
   "source": [
    "By checking the training and testing score, we are handling the underfitting and overfitting problems."
   ]
  },
  {
   "cell_type": "markdown",
   "metadata": {},
   "source": [
    "# Regularization"
   ]
  },
  {
   "cell_type": "code",
   "execution_count": 61,
   "metadata": {},
   "outputs": [],
   "source": [
    "from sklearn.model_selection import GridSearchCV\n",
    "from sklearn.model_selection import cross_val_score\n",
    "import warnings\n",
    "warnings.filterwarnings('ignore')"
   ]
  },
  {
   "cell_type": "code",
   "execution_count": 62,
   "metadata": {},
   "outputs": [
    {
     "name": "stdout",
     "output_type": "stream",
     "text": [
      "{'alpha': 0.0001, 'random_state': 0}\n"
     ]
    }
   ],
   "source": [
    "from sklearn.linear_model import Lasso\n",
    "\n",
    "parameters={'alpha':[.0001,.001,.01,.1,1,10],'random_state':list(range(0,10))}\n",
    "ls=Lasso()\n",
    "clf=GridSearchCV(ls,parameters)\n",
    "clf.fit(x_train,y_train)\n",
    "\n",
    "print(clf.best_params_)"
   ]
  },
  {
   "cell_type": "code",
   "execution_count": 63,
   "metadata": {},
   "outputs": [
    {
     "data": {
      "text/plain": [
       "0.9340609661837804"
      ]
     },
     "execution_count": 63,
     "metadata": {},
     "output_type": "execute_result"
    }
   ],
   "source": [
    "ls=Lasso(alpha=0.0001,random_state=0)\n",
    "ls.fit(x_train,y_train)\n",
    "ls.score(x_train,y_train)\n",
    "pred_ls=ls.predict(x_test)\n",
    "\n",
    "lss=r2_score(y_test,pred_ls)\n",
    "lss"
   ]
  },
  {
   "cell_type": "code",
   "execution_count": 64,
   "metadata": {},
   "outputs": [
    {
     "data": {
      "text/plain": [
       "0.9005153729222973"
      ]
     },
     "execution_count": 64,
     "metadata": {},
     "output_type": "execute_result"
    }
   ],
   "source": [
    "cv_score=cross_val_score(ls,x,y,cv=3)\n",
    "cv_mean=cv_score.mean()\n",
    "cv_mean"
   ]
  },
  {
   "cell_type": "markdown",
   "metadata": {},
   "source": [
    "# Ensemble Technique"
   ]
  },
  {
   "cell_type": "code",
   "execution_count": 65,
   "metadata": {},
   "outputs": [
    {
     "name": "stdout",
     "output_type": "stream",
     "text": [
      "{'criterion': 'mse', 'max_features': 'auto'}\n"
     ]
    }
   ],
   "source": [
    "from sklearn.model_selection import GridSearchCV\n",
    "from sklearn.ensemble import RandomForestRegressor\n",
    "\n",
    "parameters={'criterion':['mse','mae'],'max_features':['auto','sqrt','log2']}\n",
    "rf=RandomForestRegressor()\n",
    "clf=GridSearchCV(rf,parameters)\n",
    "clf.fit(x_train,y_train)\n",
    "\n",
    "print(clf.best_params_)"
   ]
  },
  {
   "cell_type": "code",
   "execution_count": 66,
   "metadata": {},
   "outputs": [
    {
     "name": "stdout",
     "output_type": "stream",
     "text": [
      "R2 score:  97.91613539927464\n",
      "Cross Val Score:  97.33746532277895\n"
     ]
    }
   ],
   "source": [
    "rf=RandomForestRegressor(criterion='mse',max_features='auto')\n",
    "rf.fit(x_train,y_train)\n",
    "rf.score(x_train,y_train)\n",
    "pred_decision=rf.predict(x_test)\n",
    "\n",
    "rfs=r2_score(y_test,pred_decision)\n",
    "print('R2 score: ',rfs*100)\n",
    "\n",
    "rfscore=cross_val_score(rf,x,y,cv=3)\n",
    "rfc=rfscore.mean()\n",
    "print(\"Cross Val Score: \",rfc*100)"
   ]
  },
  {
   "cell_type": "markdown",
   "metadata": {},
   "source": [
    "# Saving Model"
   ]
  },
  {
   "cell_type": "code",
   "execution_count": 67,
   "metadata": {},
   "outputs": [],
   "source": [
    "import pickle\n",
    "filename='advertising.pkl'\n",
    "pickle.dump(rf,open(filename,'wb'))"
   ]
  },
  {
   "cell_type": "code",
   "execution_count": null,
   "metadata": {},
   "outputs": [],
   "source": []
  }
 ],
 "metadata": {
  "kernelspec": {
   "display_name": "Python 3",
   "language": "python",
   "name": "python3"
  },
  "language_info": {
   "codemirror_mode": {
    "name": "ipython",
    "version": 3
   },
   "file_extension": ".py",
   "mimetype": "text/x-python",
   "name": "python",
   "nbconvert_exporter": "python",
   "pygments_lexer": "ipython3",
   "version": "3.7.3"
  }
 },
 "nbformat": 4,
 "nbformat_minor": 2
}
