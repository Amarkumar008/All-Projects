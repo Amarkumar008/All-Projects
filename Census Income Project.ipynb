{
 "cells": [
  {
   "cell_type": "markdown",
   "metadata": {},
   "source": [
    "# Problem Statement:"
   ]
  },
  {
   "cell_type": "markdown",
   "metadata": {},
   "source": [
    "The task is to train a machine learning model to determine whether a person makes over $50K a year or not. The weights on the Current Population Survey (CPS) files are controlled to independent estimates of the civilian non-institutional population of the US. These are prepared monthly for us by Population Division here at the Census Bureau. This data was extracted from the 1994 Census bureau database."
   ]
  },
  {
   "cell_type": "markdown",
   "metadata": {},
   "source": [
    "# Importing Dataset"
   ]
  },
  {
   "cell_type": "code",
   "execution_count": 1,
   "metadata": {},
   "outputs": [],
   "source": [
    "#Importing Libraries\n",
    "import pandas as pd\n",
    "import numpy as np\n",
    "import warnings\n",
    "warnings.filterwarnings('ignore')"
   ]
  },
  {
   "cell_type": "code",
   "execution_count": 2,
   "metadata": {},
   "outputs": [
    {
     "data": {
      "text/html": [
       "<div>\n",
       "<style scoped>\n",
       "    .dataframe tbody tr th:only-of-type {\n",
       "        vertical-align: middle;\n",
       "    }\n",
       "\n",
       "    .dataframe tbody tr th {\n",
       "        vertical-align: top;\n",
       "    }\n",
       "\n",
       "    .dataframe thead th {\n",
       "        text-align: right;\n",
       "    }\n",
       "</style>\n",
       "<table border=\"1\" class=\"dataframe\">\n",
       "  <thead>\n",
       "    <tr style=\"text-align: right;\">\n",
       "      <th></th>\n",
       "      <th>Age</th>\n",
       "      <th>Workclass</th>\n",
       "      <th>Fnlwgt</th>\n",
       "      <th>Education</th>\n",
       "      <th>Education_num</th>\n",
       "      <th>Marital_status</th>\n",
       "      <th>Occupation</th>\n",
       "      <th>Relationship</th>\n",
       "      <th>Race</th>\n",
       "      <th>Sex</th>\n",
       "      <th>Capital_gain</th>\n",
       "      <th>Capital_loss</th>\n",
       "      <th>Hours_per_week</th>\n",
       "      <th>Native_country</th>\n",
       "      <th>Income</th>\n",
       "    </tr>\n",
       "  </thead>\n",
       "  <tbody>\n",
       "    <tr>\n",
       "      <th>0</th>\n",
       "      <td>50</td>\n",
       "      <td>Self-emp-not-inc</td>\n",
       "      <td>83311</td>\n",
       "      <td>Bachelors</td>\n",
       "      <td>13</td>\n",
       "      <td>Married-civ-spouse</td>\n",
       "      <td>Exec-managerial</td>\n",
       "      <td>Husband</td>\n",
       "      <td>White</td>\n",
       "      <td>Male</td>\n",
       "      <td>0</td>\n",
       "      <td>0</td>\n",
       "      <td>13</td>\n",
       "      <td>United-States</td>\n",
       "      <td>&lt;=50K</td>\n",
       "    </tr>\n",
       "    <tr>\n",
       "      <th>1</th>\n",
       "      <td>38</td>\n",
       "      <td>Private</td>\n",
       "      <td>215646</td>\n",
       "      <td>HS-grad</td>\n",
       "      <td>9</td>\n",
       "      <td>Divorced</td>\n",
       "      <td>Handlers-cleaners</td>\n",
       "      <td>Not-in-family</td>\n",
       "      <td>White</td>\n",
       "      <td>Male</td>\n",
       "      <td>0</td>\n",
       "      <td>0</td>\n",
       "      <td>40</td>\n",
       "      <td>United-States</td>\n",
       "      <td>&lt;=50K</td>\n",
       "    </tr>\n",
       "    <tr>\n",
       "      <th>2</th>\n",
       "      <td>53</td>\n",
       "      <td>Private</td>\n",
       "      <td>234721</td>\n",
       "      <td>11th</td>\n",
       "      <td>7</td>\n",
       "      <td>Married-civ-spouse</td>\n",
       "      <td>Handlers-cleaners</td>\n",
       "      <td>Husband</td>\n",
       "      <td>Black</td>\n",
       "      <td>Male</td>\n",
       "      <td>0</td>\n",
       "      <td>0</td>\n",
       "      <td>40</td>\n",
       "      <td>United-States</td>\n",
       "      <td>&lt;=50K</td>\n",
       "    </tr>\n",
       "    <tr>\n",
       "      <th>3</th>\n",
       "      <td>28</td>\n",
       "      <td>Private</td>\n",
       "      <td>338409</td>\n",
       "      <td>Bachelors</td>\n",
       "      <td>13</td>\n",
       "      <td>Married-civ-spouse</td>\n",
       "      <td>Prof-specialty</td>\n",
       "      <td>Wife</td>\n",
       "      <td>Black</td>\n",
       "      <td>Female</td>\n",
       "      <td>0</td>\n",
       "      <td>0</td>\n",
       "      <td>40</td>\n",
       "      <td>Cuba</td>\n",
       "      <td>&lt;=50K</td>\n",
       "    </tr>\n",
       "    <tr>\n",
       "      <th>4</th>\n",
       "      <td>37</td>\n",
       "      <td>Private</td>\n",
       "      <td>284582</td>\n",
       "      <td>Masters</td>\n",
       "      <td>14</td>\n",
       "      <td>Married-civ-spouse</td>\n",
       "      <td>Exec-managerial</td>\n",
       "      <td>Wife</td>\n",
       "      <td>White</td>\n",
       "      <td>Female</td>\n",
       "      <td>0</td>\n",
       "      <td>0</td>\n",
       "      <td>40</td>\n",
       "      <td>United-States</td>\n",
       "      <td>&lt;=50K</td>\n",
       "    </tr>\n",
       "    <tr>\n",
       "      <th>5</th>\n",
       "      <td>49</td>\n",
       "      <td>Private</td>\n",
       "      <td>160187</td>\n",
       "      <td>9th</td>\n",
       "      <td>5</td>\n",
       "      <td>Married-spouse-absent</td>\n",
       "      <td>Other-service</td>\n",
       "      <td>Not-in-family</td>\n",
       "      <td>Black</td>\n",
       "      <td>Female</td>\n",
       "      <td>0</td>\n",
       "      <td>0</td>\n",
       "      <td>16</td>\n",
       "      <td>Jamaica</td>\n",
       "      <td>&lt;=50K</td>\n",
       "    </tr>\n",
       "    <tr>\n",
       "      <th>6</th>\n",
       "      <td>52</td>\n",
       "      <td>Self-emp-not-inc</td>\n",
       "      <td>209642</td>\n",
       "      <td>HS-grad</td>\n",
       "      <td>9</td>\n",
       "      <td>Married-civ-spouse</td>\n",
       "      <td>Exec-managerial</td>\n",
       "      <td>Husband</td>\n",
       "      <td>White</td>\n",
       "      <td>Male</td>\n",
       "      <td>0</td>\n",
       "      <td>0</td>\n",
       "      <td>45</td>\n",
       "      <td>United-States</td>\n",
       "      <td>&gt;50K</td>\n",
       "    </tr>\n",
       "    <tr>\n",
       "      <th>7</th>\n",
       "      <td>31</td>\n",
       "      <td>Private</td>\n",
       "      <td>45781</td>\n",
       "      <td>Masters</td>\n",
       "      <td>14</td>\n",
       "      <td>Never-married</td>\n",
       "      <td>Prof-specialty</td>\n",
       "      <td>Not-in-family</td>\n",
       "      <td>White</td>\n",
       "      <td>Female</td>\n",
       "      <td>14084</td>\n",
       "      <td>0</td>\n",
       "      <td>50</td>\n",
       "      <td>United-States</td>\n",
       "      <td>&gt;50K</td>\n",
       "    </tr>\n",
       "    <tr>\n",
       "      <th>8</th>\n",
       "      <td>42</td>\n",
       "      <td>Private</td>\n",
       "      <td>159449</td>\n",
       "      <td>Bachelors</td>\n",
       "      <td>13</td>\n",
       "      <td>Married-civ-spouse</td>\n",
       "      <td>Exec-managerial</td>\n",
       "      <td>Husband</td>\n",
       "      <td>White</td>\n",
       "      <td>Male</td>\n",
       "      <td>5178</td>\n",
       "      <td>0</td>\n",
       "      <td>40</td>\n",
       "      <td>United-States</td>\n",
       "      <td>&gt;50K</td>\n",
       "    </tr>\n",
       "    <tr>\n",
       "      <th>9</th>\n",
       "      <td>37</td>\n",
       "      <td>Private</td>\n",
       "      <td>280464</td>\n",
       "      <td>Some-college</td>\n",
       "      <td>10</td>\n",
       "      <td>Married-civ-spouse</td>\n",
       "      <td>Exec-managerial</td>\n",
       "      <td>Husband</td>\n",
       "      <td>Black</td>\n",
       "      <td>Male</td>\n",
       "      <td>0</td>\n",
       "      <td>0</td>\n",
       "      <td>80</td>\n",
       "      <td>United-States</td>\n",
       "      <td>&gt;50K</td>\n",
       "    </tr>\n",
       "    <tr>\n",
       "      <th>10</th>\n",
       "      <td>30</td>\n",
       "      <td>State-gov</td>\n",
       "      <td>141297</td>\n",
       "      <td>Bachelors</td>\n",
       "      <td>13</td>\n",
       "      <td>Married-civ-spouse</td>\n",
       "      <td>Prof-specialty</td>\n",
       "      <td>Husband</td>\n",
       "      <td>Asian-Pac-Islander</td>\n",
       "      <td>Male</td>\n",
       "      <td>0</td>\n",
       "      <td>0</td>\n",
       "      <td>40</td>\n",
       "      <td>India</td>\n",
       "      <td>&gt;50K</td>\n",
       "    </tr>\n",
       "    <tr>\n",
       "      <th>11</th>\n",
       "      <td>23</td>\n",
       "      <td>Private</td>\n",
       "      <td>122272</td>\n",
       "      <td>Bachelors</td>\n",
       "      <td>13</td>\n",
       "      <td>Never-married</td>\n",
       "      <td>Adm-clerical</td>\n",
       "      <td>Own-child</td>\n",
       "      <td>White</td>\n",
       "      <td>Female</td>\n",
       "      <td>0</td>\n",
       "      <td>0</td>\n",
       "      <td>30</td>\n",
       "      <td>United-States</td>\n",
       "      <td>&lt;=50K</td>\n",
       "    </tr>\n",
       "    <tr>\n",
       "      <th>12</th>\n",
       "      <td>32</td>\n",
       "      <td>Private</td>\n",
       "      <td>205019</td>\n",
       "      <td>Assoc-acdm</td>\n",
       "      <td>12</td>\n",
       "      <td>Never-married</td>\n",
       "      <td>Sales</td>\n",
       "      <td>Not-in-family</td>\n",
       "      <td>Black</td>\n",
       "      <td>Male</td>\n",
       "      <td>0</td>\n",
       "      <td>0</td>\n",
       "      <td>50</td>\n",
       "      <td>United-States</td>\n",
       "      <td>&lt;=50K</td>\n",
       "    </tr>\n",
       "    <tr>\n",
       "      <th>13</th>\n",
       "      <td>40</td>\n",
       "      <td>Private</td>\n",
       "      <td>121772</td>\n",
       "      <td>Assoc-voc</td>\n",
       "      <td>11</td>\n",
       "      <td>Married-civ-spouse</td>\n",
       "      <td>Craft-repair</td>\n",
       "      <td>Husband</td>\n",
       "      <td>Asian-Pac-Islander</td>\n",
       "      <td>Male</td>\n",
       "      <td>0</td>\n",
       "      <td>0</td>\n",
       "      <td>40</td>\n",
       "      <td>?</td>\n",
       "      <td>&gt;50K</td>\n",
       "    </tr>\n",
       "    <tr>\n",
       "      <th>14</th>\n",
       "      <td>34</td>\n",
       "      <td>Private</td>\n",
       "      <td>245487</td>\n",
       "      <td>7th-8th</td>\n",
       "      <td>4</td>\n",
       "      <td>Married-civ-spouse</td>\n",
       "      <td>Transport-moving</td>\n",
       "      <td>Husband</td>\n",
       "      <td>Amer-Indian-Eskimo</td>\n",
       "      <td>Male</td>\n",
       "      <td>0</td>\n",
       "      <td>0</td>\n",
       "      <td>45</td>\n",
       "      <td>Mexico</td>\n",
       "      <td>&lt;=50K</td>\n",
       "    </tr>\n",
       "    <tr>\n",
       "      <th>15</th>\n",
       "      <td>25</td>\n",
       "      <td>Self-emp-not-inc</td>\n",
       "      <td>176756</td>\n",
       "      <td>HS-grad</td>\n",
       "      <td>9</td>\n",
       "      <td>Never-married</td>\n",
       "      <td>Farming-fishing</td>\n",
       "      <td>Own-child</td>\n",
       "      <td>White</td>\n",
       "      <td>Male</td>\n",
       "      <td>0</td>\n",
       "      <td>0</td>\n",
       "      <td>35</td>\n",
       "      <td>United-States</td>\n",
       "      <td>&lt;=50K</td>\n",
       "    </tr>\n",
       "    <tr>\n",
       "      <th>16</th>\n",
       "      <td>32</td>\n",
       "      <td>Private</td>\n",
       "      <td>186824</td>\n",
       "      <td>HS-grad</td>\n",
       "      <td>9</td>\n",
       "      <td>Never-married</td>\n",
       "      <td>Machine-op-inspct</td>\n",
       "      <td>Unmarried</td>\n",
       "      <td>White</td>\n",
       "      <td>Male</td>\n",
       "      <td>0</td>\n",
       "      <td>0</td>\n",
       "      <td>40</td>\n",
       "      <td>United-States</td>\n",
       "      <td>&lt;=50K</td>\n",
       "    </tr>\n",
       "    <tr>\n",
       "      <th>17</th>\n",
       "      <td>38</td>\n",
       "      <td>Private</td>\n",
       "      <td>28887</td>\n",
       "      <td>11th</td>\n",
       "      <td>7</td>\n",
       "      <td>Married-civ-spouse</td>\n",
       "      <td>Sales</td>\n",
       "      <td>Husband</td>\n",
       "      <td>White</td>\n",
       "      <td>Male</td>\n",
       "      <td>0</td>\n",
       "      <td>0</td>\n",
       "      <td>50</td>\n",
       "      <td>United-States</td>\n",
       "      <td>&lt;=50K</td>\n",
       "    </tr>\n",
       "    <tr>\n",
       "      <th>18</th>\n",
       "      <td>43</td>\n",
       "      <td>Self-emp-not-inc</td>\n",
       "      <td>292175</td>\n",
       "      <td>Masters</td>\n",
       "      <td>14</td>\n",
       "      <td>Divorced</td>\n",
       "      <td>Exec-managerial</td>\n",
       "      <td>Unmarried</td>\n",
       "      <td>White</td>\n",
       "      <td>Female</td>\n",
       "      <td>0</td>\n",
       "      <td>0</td>\n",
       "      <td>45</td>\n",
       "      <td>United-States</td>\n",
       "      <td>&gt;50K</td>\n",
       "    </tr>\n",
       "    <tr>\n",
       "      <th>19</th>\n",
       "      <td>40</td>\n",
       "      <td>Private</td>\n",
       "      <td>193524</td>\n",
       "      <td>Doctorate</td>\n",
       "      <td>16</td>\n",
       "      <td>Married-civ-spouse</td>\n",
       "      <td>Prof-specialty</td>\n",
       "      <td>Husband</td>\n",
       "      <td>White</td>\n",
       "      <td>Male</td>\n",
       "      <td>0</td>\n",
       "      <td>0</td>\n",
       "      <td>60</td>\n",
       "      <td>United-States</td>\n",
       "      <td>&gt;50K</td>\n",
       "    </tr>\n",
       "    <tr>\n",
       "      <th>20</th>\n",
       "      <td>54</td>\n",
       "      <td>Private</td>\n",
       "      <td>302146</td>\n",
       "      <td>HS-grad</td>\n",
       "      <td>9</td>\n",
       "      <td>Separated</td>\n",
       "      <td>Other-service</td>\n",
       "      <td>Unmarried</td>\n",
       "      <td>Black</td>\n",
       "      <td>Female</td>\n",
       "      <td>0</td>\n",
       "      <td>0</td>\n",
       "      <td>20</td>\n",
       "      <td>United-States</td>\n",
       "      <td>&lt;=50K</td>\n",
       "    </tr>\n",
       "    <tr>\n",
       "      <th>21</th>\n",
       "      <td>35</td>\n",
       "      <td>Federal-gov</td>\n",
       "      <td>76845</td>\n",
       "      <td>9th</td>\n",
       "      <td>5</td>\n",
       "      <td>Married-civ-spouse</td>\n",
       "      <td>Farming-fishing</td>\n",
       "      <td>Husband</td>\n",
       "      <td>Black</td>\n",
       "      <td>Male</td>\n",
       "      <td>0</td>\n",
       "      <td>0</td>\n",
       "      <td>40</td>\n",
       "      <td>United-States</td>\n",
       "      <td>&lt;=50K</td>\n",
       "    </tr>\n",
       "    <tr>\n",
       "      <th>22</th>\n",
       "      <td>43</td>\n",
       "      <td>Private</td>\n",
       "      <td>117037</td>\n",
       "      <td>11th</td>\n",
       "      <td>7</td>\n",
       "      <td>Married-civ-spouse</td>\n",
       "      <td>Transport-moving</td>\n",
       "      <td>Husband</td>\n",
       "      <td>White</td>\n",
       "      <td>Male</td>\n",
       "      <td>0</td>\n",
       "      <td>2042</td>\n",
       "      <td>40</td>\n",
       "      <td>United-States</td>\n",
       "      <td>&lt;=50K</td>\n",
       "    </tr>\n",
       "    <tr>\n",
       "      <th>23</th>\n",
       "      <td>59</td>\n",
       "      <td>Private</td>\n",
       "      <td>109015</td>\n",
       "      <td>HS-grad</td>\n",
       "      <td>9</td>\n",
       "      <td>Divorced</td>\n",
       "      <td>Tech-support</td>\n",
       "      <td>Unmarried</td>\n",
       "      <td>White</td>\n",
       "      <td>Female</td>\n",
       "      <td>0</td>\n",
       "      <td>0</td>\n",
       "      <td>40</td>\n",
       "      <td>United-States</td>\n",
       "      <td>&lt;=50K</td>\n",
       "    </tr>\n",
       "    <tr>\n",
       "      <th>24</th>\n",
       "      <td>56</td>\n",
       "      <td>Local-gov</td>\n",
       "      <td>216851</td>\n",
       "      <td>Bachelors</td>\n",
       "      <td>13</td>\n",
       "      <td>Married-civ-spouse</td>\n",
       "      <td>Tech-support</td>\n",
       "      <td>Husband</td>\n",
       "      <td>White</td>\n",
       "      <td>Male</td>\n",
       "      <td>0</td>\n",
       "      <td>0</td>\n",
       "      <td>40</td>\n",
       "      <td>United-States</td>\n",
       "      <td>&gt;50K</td>\n",
       "    </tr>\n",
       "    <tr>\n",
       "      <th>25</th>\n",
       "      <td>19</td>\n",
       "      <td>Private</td>\n",
       "      <td>168294</td>\n",
       "      <td>HS-grad</td>\n",
       "      <td>9</td>\n",
       "      <td>Never-married</td>\n",
       "      <td>Craft-repair</td>\n",
       "      <td>Own-child</td>\n",
       "      <td>White</td>\n",
       "      <td>Male</td>\n",
       "      <td>0</td>\n",
       "      <td>0</td>\n",
       "      <td>40</td>\n",
       "      <td>United-States</td>\n",
       "      <td>&lt;=50K</td>\n",
       "    </tr>\n",
       "    <tr>\n",
       "      <th>26</th>\n",
       "      <td>54</td>\n",
       "      <td>?</td>\n",
       "      <td>180211</td>\n",
       "      <td>Some-college</td>\n",
       "      <td>10</td>\n",
       "      <td>Married-civ-spouse</td>\n",
       "      <td>?</td>\n",
       "      <td>Husband</td>\n",
       "      <td>Asian-Pac-Islander</td>\n",
       "      <td>Male</td>\n",
       "      <td>0</td>\n",
       "      <td>0</td>\n",
       "      <td>60</td>\n",
       "      <td>South</td>\n",
       "      <td>&gt;50K</td>\n",
       "    </tr>\n",
       "    <tr>\n",
       "      <th>27</th>\n",
       "      <td>39</td>\n",
       "      <td>Private</td>\n",
       "      <td>367260</td>\n",
       "      <td>HS-grad</td>\n",
       "      <td>9</td>\n",
       "      <td>Divorced</td>\n",
       "      <td>Exec-managerial</td>\n",
       "      <td>Not-in-family</td>\n",
       "      <td>White</td>\n",
       "      <td>Male</td>\n",
       "      <td>0</td>\n",
       "      <td>0</td>\n",
       "      <td>80</td>\n",
       "      <td>United-States</td>\n",
       "      <td>&lt;=50K</td>\n",
       "    </tr>\n",
       "    <tr>\n",
       "      <th>28</th>\n",
       "      <td>49</td>\n",
       "      <td>Private</td>\n",
       "      <td>193366</td>\n",
       "      <td>HS-grad</td>\n",
       "      <td>9</td>\n",
       "      <td>Married-civ-spouse</td>\n",
       "      <td>Craft-repair</td>\n",
       "      <td>Husband</td>\n",
       "      <td>White</td>\n",
       "      <td>Male</td>\n",
       "      <td>0</td>\n",
       "      <td>0</td>\n",
       "      <td>40</td>\n",
       "      <td>United-States</td>\n",
       "      <td>&lt;=50K</td>\n",
       "    </tr>\n",
       "    <tr>\n",
       "      <th>29</th>\n",
       "      <td>23</td>\n",
       "      <td>Local-gov</td>\n",
       "      <td>190709</td>\n",
       "      <td>Assoc-acdm</td>\n",
       "      <td>12</td>\n",
       "      <td>Never-married</td>\n",
       "      <td>Protective-serv</td>\n",
       "      <td>Not-in-family</td>\n",
       "      <td>White</td>\n",
       "      <td>Male</td>\n",
       "      <td>0</td>\n",
       "      <td>0</td>\n",
       "      <td>52</td>\n",
       "      <td>United-States</td>\n",
       "      <td>&lt;=50K</td>\n",
       "    </tr>\n",
       "    <tr>\n",
       "      <th>...</th>\n",
       "      <td>...</td>\n",
       "      <td>...</td>\n",
       "      <td>...</td>\n",
       "      <td>...</td>\n",
       "      <td>...</td>\n",
       "      <td>...</td>\n",
       "      <td>...</td>\n",
       "      <td>...</td>\n",
       "      <td>...</td>\n",
       "      <td>...</td>\n",
       "      <td>...</td>\n",
       "      <td>...</td>\n",
       "      <td>...</td>\n",
       "      <td>...</td>\n",
       "      <td>...</td>\n",
       "    </tr>\n",
       "    <tr>\n",
       "      <th>32530</th>\n",
       "      <td>30</td>\n",
       "      <td>?</td>\n",
       "      <td>33811</td>\n",
       "      <td>Bachelors</td>\n",
       "      <td>13</td>\n",
       "      <td>Never-married</td>\n",
       "      <td>?</td>\n",
       "      <td>Not-in-family</td>\n",
       "      <td>Asian-Pac-Islander</td>\n",
       "      <td>Female</td>\n",
       "      <td>0</td>\n",
       "      <td>0</td>\n",
       "      <td>99</td>\n",
       "      <td>United-States</td>\n",
       "      <td>&lt;=50K</td>\n",
       "    </tr>\n",
       "    <tr>\n",
       "      <th>32531</th>\n",
       "      <td>34</td>\n",
       "      <td>Private</td>\n",
       "      <td>204461</td>\n",
       "      <td>Doctorate</td>\n",
       "      <td>16</td>\n",
       "      <td>Married-civ-spouse</td>\n",
       "      <td>Prof-specialty</td>\n",
       "      <td>Husband</td>\n",
       "      <td>White</td>\n",
       "      <td>Male</td>\n",
       "      <td>0</td>\n",
       "      <td>0</td>\n",
       "      <td>60</td>\n",
       "      <td>United-States</td>\n",
       "      <td>&gt;50K</td>\n",
       "    </tr>\n",
       "    <tr>\n",
       "      <th>32532</th>\n",
       "      <td>54</td>\n",
       "      <td>Private</td>\n",
       "      <td>337992</td>\n",
       "      <td>Bachelors</td>\n",
       "      <td>13</td>\n",
       "      <td>Married-civ-spouse</td>\n",
       "      <td>Exec-managerial</td>\n",
       "      <td>Husband</td>\n",
       "      <td>Asian-Pac-Islander</td>\n",
       "      <td>Male</td>\n",
       "      <td>0</td>\n",
       "      <td>0</td>\n",
       "      <td>50</td>\n",
       "      <td>Japan</td>\n",
       "      <td>&gt;50K</td>\n",
       "    </tr>\n",
       "    <tr>\n",
       "      <th>32533</th>\n",
       "      <td>37</td>\n",
       "      <td>Private</td>\n",
       "      <td>179137</td>\n",
       "      <td>Some-college</td>\n",
       "      <td>10</td>\n",
       "      <td>Divorced</td>\n",
       "      <td>Adm-clerical</td>\n",
       "      <td>Unmarried</td>\n",
       "      <td>White</td>\n",
       "      <td>Female</td>\n",
       "      <td>0</td>\n",
       "      <td>0</td>\n",
       "      <td>39</td>\n",
       "      <td>United-States</td>\n",
       "      <td>&lt;=50K</td>\n",
       "    </tr>\n",
       "    <tr>\n",
       "      <th>32534</th>\n",
       "      <td>22</td>\n",
       "      <td>Private</td>\n",
       "      <td>325033</td>\n",
       "      <td>12th</td>\n",
       "      <td>8</td>\n",
       "      <td>Never-married</td>\n",
       "      <td>Protective-serv</td>\n",
       "      <td>Own-child</td>\n",
       "      <td>Black</td>\n",
       "      <td>Male</td>\n",
       "      <td>0</td>\n",
       "      <td>0</td>\n",
       "      <td>35</td>\n",
       "      <td>United-States</td>\n",
       "      <td>&lt;=50K</td>\n",
       "    </tr>\n",
       "    <tr>\n",
       "      <th>32535</th>\n",
       "      <td>34</td>\n",
       "      <td>Private</td>\n",
       "      <td>160216</td>\n",
       "      <td>Bachelors</td>\n",
       "      <td>13</td>\n",
       "      <td>Never-married</td>\n",
       "      <td>Exec-managerial</td>\n",
       "      <td>Not-in-family</td>\n",
       "      <td>White</td>\n",
       "      <td>Female</td>\n",
       "      <td>0</td>\n",
       "      <td>0</td>\n",
       "      <td>55</td>\n",
       "      <td>United-States</td>\n",
       "      <td>&gt;50K</td>\n",
       "    </tr>\n",
       "    <tr>\n",
       "      <th>32536</th>\n",
       "      <td>30</td>\n",
       "      <td>Private</td>\n",
       "      <td>345898</td>\n",
       "      <td>HS-grad</td>\n",
       "      <td>9</td>\n",
       "      <td>Never-married</td>\n",
       "      <td>Craft-repair</td>\n",
       "      <td>Not-in-family</td>\n",
       "      <td>Black</td>\n",
       "      <td>Male</td>\n",
       "      <td>0</td>\n",
       "      <td>0</td>\n",
       "      <td>46</td>\n",
       "      <td>United-States</td>\n",
       "      <td>&lt;=50K</td>\n",
       "    </tr>\n",
       "    <tr>\n",
       "      <th>32537</th>\n",
       "      <td>38</td>\n",
       "      <td>Private</td>\n",
       "      <td>139180</td>\n",
       "      <td>Bachelors</td>\n",
       "      <td>13</td>\n",
       "      <td>Divorced</td>\n",
       "      <td>Prof-specialty</td>\n",
       "      <td>Unmarried</td>\n",
       "      <td>Black</td>\n",
       "      <td>Female</td>\n",
       "      <td>15020</td>\n",
       "      <td>0</td>\n",
       "      <td>45</td>\n",
       "      <td>United-States</td>\n",
       "      <td>&gt;50K</td>\n",
       "    </tr>\n",
       "    <tr>\n",
       "      <th>32538</th>\n",
       "      <td>71</td>\n",
       "      <td>?</td>\n",
       "      <td>287372</td>\n",
       "      <td>Doctorate</td>\n",
       "      <td>16</td>\n",
       "      <td>Married-civ-spouse</td>\n",
       "      <td>?</td>\n",
       "      <td>Husband</td>\n",
       "      <td>White</td>\n",
       "      <td>Male</td>\n",
       "      <td>0</td>\n",
       "      <td>0</td>\n",
       "      <td>10</td>\n",
       "      <td>United-States</td>\n",
       "      <td>&gt;50K</td>\n",
       "    </tr>\n",
       "    <tr>\n",
       "      <th>32539</th>\n",
       "      <td>45</td>\n",
       "      <td>State-gov</td>\n",
       "      <td>252208</td>\n",
       "      <td>HS-grad</td>\n",
       "      <td>9</td>\n",
       "      <td>Separated</td>\n",
       "      <td>Adm-clerical</td>\n",
       "      <td>Own-child</td>\n",
       "      <td>White</td>\n",
       "      <td>Female</td>\n",
       "      <td>0</td>\n",
       "      <td>0</td>\n",
       "      <td>40</td>\n",
       "      <td>United-States</td>\n",
       "      <td>&lt;=50K</td>\n",
       "    </tr>\n",
       "    <tr>\n",
       "      <th>32540</th>\n",
       "      <td>41</td>\n",
       "      <td>?</td>\n",
       "      <td>202822</td>\n",
       "      <td>HS-grad</td>\n",
       "      <td>9</td>\n",
       "      <td>Separated</td>\n",
       "      <td>?</td>\n",
       "      <td>Not-in-family</td>\n",
       "      <td>Black</td>\n",
       "      <td>Female</td>\n",
       "      <td>0</td>\n",
       "      <td>0</td>\n",
       "      <td>32</td>\n",
       "      <td>United-States</td>\n",
       "      <td>&lt;=50K</td>\n",
       "    </tr>\n",
       "    <tr>\n",
       "      <th>32541</th>\n",
       "      <td>72</td>\n",
       "      <td>?</td>\n",
       "      <td>129912</td>\n",
       "      <td>HS-grad</td>\n",
       "      <td>9</td>\n",
       "      <td>Married-civ-spouse</td>\n",
       "      <td>?</td>\n",
       "      <td>Husband</td>\n",
       "      <td>White</td>\n",
       "      <td>Male</td>\n",
       "      <td>0</td>\n",
       "      <td>0</td>\n",
       "      <td>25</td>\n",
       "      <td>United-States</td>\n",
       "      <td>&lt;=50K</td>\n",
       "    </tr>\n",
       "    <tr>\n",
       "      <th>32542</th>\n",
       "      <td>45</td>\n",
       "      <td>Local-gov</td>\n",
       "      <td>119199</td>\n",
       "      <td>Assoc-acdm</td>\n",
       "      <td>12</td>\n",
       "      <td>Divorced</td>\n",
       "      <td>Prof-specialty</td>\n",
       "      <td>Unmarried</td>\n",
       "      <td>White</td>\n",
       "      <td>Female</td>\n",
       "      <td>0</td>\n",
       "      <td>0</td>\n",
       "      <td>48</td>\n",
       "      <td>United-States</td>\n",
       "      <td>&lt;=50K</td>\n",
       "    </tr>\n",
       "    <tr>\n",
       "      <th>32543</th>\n",
       "      <td>31</td>\n",
       "      <td>Private</td>\n",
       "      <td>199655</td>\n",
       "      <td>Masters</td>\n",
       "      <td>14</td>\n",
       "      <td>Divorced</td>\n",
       "      <td>Other-service</td>\n",
       "      <td>Not-in-family</td>\n",
       "      <td>Other</td>\n",
       "      <td>Female</td>\n",
       "      <td>0</td>\n",
       "      <td>0</td>\n",
       "      <td>30</td>\n",
       "      <td>United-States</td>\n",
       "      <td>&lt;=50K</td>\n",
       "    </tr>\n",
       "    <tr>\n",
       "      <th>32544</th>\n",
       "      <td>39</td>\n",
       "      <td>Local-gov</td>\n",
       "      <td>111499</td>\n",
       "      <td>Assoc-acdm</td>\n",
       "      <td>12</td>\n",
       "      <td>Married-civ-spouse</td>\n",
       "      <td>Adm-clerical</td>\n",
       "      <td>Wife</td>\n",
       "      <td>White</td>\n",
       "      <td>Female</td>\n",
       "      <td>0</td>\n",
       "      <td>0</td>\n",
       "      <td>20</td>\n",
       "      <td>United-States</td>\n",
       "      <td>&gt;50K</td>\n",
       "    </tr>\n",
       "    <tr>\n",
       "      <th>32545</th>\n",
       "      <td>37</td>\n",
       "      <td>Private</td>\n",
       "      <td>198216</td>\n",
       "      <td>Assoc-acdm</td>\n",
       "      <td>12</td>\n",
       "      <td>Divorced</td>\n",
       "      <td>Tech-support</td>\n",
       "      <td>Not-in-family</td>\n",
       "      <td>White</td>\n",
       "      <td>Female</td>\n",
       "      <td>0</td>\n",
       "      <td>0</td>\n",
       "      <td>40</td>\n",
       "      <td>United-States</td>\n",
       "      <td>&lt;=50K</td>\n",
       "    </tr>\n",
       "    <tr>\n",
       "      <th>32546</th>\n",
       "      <td>43</td>\n",
       "      <td>Private</td>\n",
       "      <td>260761</td>\n",
       "      <td>HS-grad</td>\n",
       "      <td>9</td>\n",
       "      <td>Married-civ-spouse</td>\n",
       "      <td>Machine-op-inspct</td>\n",
       "      <td>Husband</td>\n",
       "      <td>White</td>\n",
       "      <td>Male</td>\n",
       "      <td>0</td>\n",
       "      <td>0</td>\n",
       "      <td>40</td>\n",
       "      <td>Mexico</td>\n",
       "      <td>&lt;=50K</td>\n",
       "    </tr>\n",
       "    <tr>\n",
       "      <th>32547</th>\n",
       "      <td>65</td>\n",
       "      <td>Self-emp-not-inc</td>\n",
       "      <td>99359</td>\n",
       "      <td>Prof-school</td>\n",
       "      <td>15</td>\n",
       "      <td>Never-married</td>\n",
       "      <td>Prof-specialty</td>\n",
       "      <td>Not-in-family</td>\n",
       "      <td>White</td>\n",
       "      <td>Male</td>\n",
       "      <td>1086</td>\n",
       "      <td>0</td>\n",
       "      <td>60</td>\n",
       "      <td>United-States</td>\n",
       "      <td>&lt;=50K</td>\n",
       "    </tr>\n",
       "    <tr>\n",
       "      <th>32548</th>\n",
       "      <td>43</td>\n",
       "      <td>State-gov</td>\n",
       "      <td>255835</td>\n",
       "      <td>Some-college</td>\n",
       "      <td>10</td>\n",
       "      <td>Divorced</td>\n",
       "      <td>Adm-clerical</td>\n",
       "      <td>Other-relative</td>\n",
       "      <td>White</td>\n",
       "      <td>Female</td>\n",
       "      <td>0</td>\n",
       "      <td>0</td>\n",
       "      <td>40</td>\n",
       "      <td>United-States</td>\n",
       "      <td>&lt;=50K</td>\n",
       "    </tr>\n",
       "    <tr>\n",
       "      <th>32549</th>\n",
       "      <td>43</td>\n",
       "      <td>Self-emp-not-inc</td>\n",
       "      <td>27242</td>\n",
       "      <td>Some-college</td>\n",
       "      <td>10</td>\n",
       "      <td>Married-civ-spouse</td>\n",
       "      <td>Craft-repair</td>\n",
       "      <td>Husband</td>\n",
       "      <td>White</td>\n",
       "      <td>Male</td>\n",
       "      <td>0</td>\n",
       "      <td>0</td>\n",
       "      <td>50</td>\n",
       "      <td>United-States</td>\n",
       "      <td>&lt;=50K</td>\n",
       "    </tr>\n",
       "    <tr>\n",
       "      <th>32550</th>\n",
       "      <td>32</td>\n",
       "      <td>Private</td>\n",
       "      <td>34066</td>\n",
       "      <td>10th</td>\n",
       "      <td>6</td>\n",
       "      <td>Married-civ-spouse</td>\n",
       "      <td>Handlers-cleaners</td>\n",
       "      <td>Husband</td>\n",
       "      <td>Amer-Indian-Eskimo</td>\n",
       "      <td>Male</td>\n",
       "      <td>0</td>\n",
       "      <td>0</td>\n",
       "      <td>40</td>\n",
       "      <td>United-States</td>\n",
       "      <td>&lt;=50K</td>\n",
       "    </tr>\n",
       "    <tr>\n",
       "      <th>32551</th>\n",
       "      <td>43</td>\n",
       "      <td>Private</td>\n",
       "      <td>84661</td>\n",
       "      <td>Assoc-voc</td>\n",
       "      <td>11</td>\n",
       "      <td>Married-civ-spouse</td>\n",
       "      <td>Sales</td>\n",
       "      <td>Husband</td>\n",
       "      <td>White</td>\n",
       "      <td>Male</td>\n",
       "      <td>0</td>\n",
       "      <td>0</td>\n",
       "      <td>45</td>\n",
       "      <td>United-States</td>\n",
       "      <td>&lt;=50K</td>\n",
       "    </tr>\n",
       "    <tr>\n",
       "      <th>32552</th>\n",
       "      <td>32</td>\n",
       "      <td>Private</td>\n",
       "      <td>116138</td>\n",
       "      <td>Masters</td>\n",
       "      <td>14</td>\n",
       "      <td>Never-married</td>\n",
       "      <td>Tech-support</td>\n",
       "      <td>Not-in-family</td>\n",
       "      <td>Asian-Pac-Islander</td>\n",
       "      <td>Male</td>\n",
       "      <td>0</td>\n",
       "      <td>0</td>\n",
       "      <td>11</td>\n",
       "      <td>Taiwan</td>\n",
       "      <td>&lt;=50K</td>\n",
       "    </tr>\n",
       "    <tr>\n",
       "      <th>32553</th>\n",
       "      <td>53</td>\n",
       "      <td>Private</td>\n",
       "      <td>321865</td>\n",
       "      <td>Masters</td>\n",
       "      <td>14</td>\n",
       "      <td>Married-civ-spouse</td>\n",
       "      <td>Exec-managerial</td>\n",
       "      <td>Husband</td>\n",
       "      <td>White</td>\n",
       "      <td>Male</td>\n",
       "      <td>0</td>\n",
       "      <td>0</td>\n",
       "      <td>40</td>\n",
       "      <td>United-States</td>\n",
       "      <td>&gt;50K</td>\n",
       "    </tr>\n",
       "    <tr>\n",
       "      <th>32554</th>\n",
       "      <td>22</td>\n",
       "      <td>Private</td>\n",
       "      <td>310152</td>\n",
       "      <td>Some-college</td>\n",
       "      <td>10</td>\n",
       "      <td>Never-married</td>\n",
       "      <td>Protective-serv</td>\n",
       "      <td>Not-in-family</td>\n",
       "      <td>White</td>\n",
       "      <td>Male</td>\n",
       "      <td>0</td>\n",
       "      <td>0</td>\n",
       "      <td>40</td>\n",
       "      <td>United-States</td>\n",
       "      <td>&lt;=50K</td>\n",
       "    </tr>\n",
       "    <tr>\n",
       "      <th>32555</th>\n",
       "      <td>27</td>\n",
       "      <td>Private</td>\n",
       "      <td>257302</td>\n",
       "      <td>Assoc-acdm</td>\n",
       "      <td>12</td>\n",
       "      <td>Married-civ-spouse</td>\n",
       "      <td>Tech-support</td>\n",
       "      <td>Wife</td>\n",
       "      <td>White</td>\n",
       "      <td>Female</td>\n",
       "      <td>0</td>\n",
       "      <td>0</td>\n",
       "      <td>38</td>\n",
       "      <td>United-States</td>\n",
       "      <td>&lt;=50K</td>\n",
       "    </tr>\n",
       "    <tr>\n",
       "      <th>32556</th>\n",
       "      <td>40</td>\n",
       "      <td>Private</td>\n",
       "      <td>154374</td>\n",
       "      <td>HS-grad</td>\n",
       "      <td>9</td>\n",
       "      <td>Married-civ-spouse</td>\n",
       "      <td>Machine-op-inspct</td>\n",
       "      <td>Husband</td>\n",
       "      <td>White</td>\n",
       "      <td>Male</td>\n",
       "      <td>0</td>\n",
       "      <td>0</td>\n",
       "      <td>40</td>\n",
       "      <td>United-States</td>\n",
       "      <td>&gt;50K</td>\n",
       "    </tr>\n",
       "    <tr>\n",
       "      <th>32557</th>\n",
       "      <td>58</td>\n",
       "      <td>Private</td>\n",
       "      <td>151910</td>\n",
       "      <td>HS-grad</td>\n",
       "      <td>9</td>\n",
       "      <td>Widowed</td>\n",
       "      <td>Adm-clerical</td>\n",
       "      <td>Unmarried</td>\n",
       "      <td>White</td>\n",
       "      <td>Female</td>\n",
       "      <td>0</td>\n",
       "      <td>0</td>\n",
       "      <td>40</td>\n",
       "      <td>United-States</td>\n",
       "      <td>&lt;=50K</td>\n",
       "    </tr>\n",
       "    <tr>\n",
       "      <th>32558</th>\n",
       "      <td>22</td>\n",
       "      <td>Private</td>\n",
       "      <td>201490</td>\n",
       "      <td>HS-grad</td>\n",
       "      <td>9</td>\n",
       "      <td>Never-married</td>\n",
       "      <td>Adm-clerical</td>\n",
       "      <td>Own-child</td>\n",
       "      <td>White</td>\n",
       "      <td>Male</td>\n",
       "      <td>0</td>\n",
       "      <td>0</td>\n",
       "      <td>20</td>\n",
       "      <td>United-States</td>\n",
       "      <td>&lt;=50K</td>\n",
       "    </tr>\n",
       "    <tr>\n",
       "      <th>32559</th>\n",
       "      <td>52</td>\n",
       "      <td>Self-emp-inc</td>\n",
       "      <td>287927</td>\n",
       "      <td>HS-grad</td>\n",
       "      <td>9</td>\n",
       "      <td>Married-civ-spouse</td>\n",
       "      <td>Exec-managerial</td>\n",
       "      <td>Wife</td>\n",
       "      <td>White</td>\n",
       "      <td>Female</td>\n",
       "      <td>15024</td>\n",
       "      <td>0</td>\n",
       "      <td>40</td>\n",
       "      <td>United-States</td>\n",
       "      <td>&gt;50K</td>\n",
       "    </tr>\n",
       "  </tbody>\n",
       "</table>\n",
       "<p>32560 rows × 15 columns</p>\n",
       "</div>"
      ],
      "text/plain": [
       "       Age          Workclass  Fnlwgt      Education  Education_num  \\\n",
       "0       50   Self-emp-not-inc   83311      Bachelors             13   \n",
       "1       38            Private  215646        HS-grad              9   \n",
       "2       53            Private  234721           11th              7   \n",
       "3       28            Private  338409      Bachelors             13   \n",
       "4       37            Private  284582        Masters             14   \n",
       "5       49            Private  160187            9th              5   \n",
       "6       52   Self-emp-not-inc  209642        HS-grad              9   \n",
       "7       31            Private   45781        Masters             14   \n",
       "8       42            Private  159449      Bachelors             13   \n",
       "9       37            Private  280464   Some-college             10   \n",
       "10      30          State-gov  141297      Bachelors             13   \n",
       "11      23            Private  122272      Bachelors             13   \n",
       "12      32            Private  205019     Assoc-acdm             12   \n",
       "13      40            Private  121772      Assoc-voc             11   \n",
       "14      34            Private  245487        7th-8th              4   \n",
       "15      25   Self-emp-not-inc  176756        HS-grad              9   \n",
       "16      32            Private  186824        HS-grad              9   \n",
       "17      38            Private   28887           11th              7   \n",
       "18      43   Self-emp-not-inc  292175        Masters             14   \n",
       "19      40            Private  193524      Doctorate             16   \n",
       "20      54            Private  302146        HS-grad              9   \n",
       "21      35        Federal-gov   76845            9th              5   \n",
       "22      43            Private  117037           11th              7   \n",
       "23      59            Private  109015        HS-grad              9   \n",
       "24      56          Local-gov  216851      Bachelors             13   \n",
       "25      19            Private  168294        HS-grad              9   \n",
       "26      54                  ?  180211   Some-college             10   \n",
       "27      39            Private  367260        HS-grad              9   \n",
       "28      49            Private  193366        HS-grad              9   \n",
       "29      23          Local-gov  190709     Assoc-acdm             12   \n",
       "...    ...                ...     ...            ...            ...   \n",
       "32530   30                  ?   33811      Bachelors             13   \n",
       "32531   34            Private  204461      Doctorate             16   \n",
       "32532   54            Private  337992      Bachelors             13   \n",
       "32533   37            Private  179137   Some-college             10   \n",
       "32534   22            Private  325033           12th              8   \n",
       "32535   34            Private  160216      Bachelors             13   \n",
       "32536   30            Private  345898        HS-grad              9   \n",
       "32537   38            Private  139180      Bachelors             13   \n",
       "32538   71                  ?  287372      Doctorate             16   \n",
       "32539   45          State-gov  252208        HS-grad              9   \n",
       "32540   41                  ?  202822        HS-grad              9   \n",
       "32541   72                  ?  129912        HS-grad              9   \n",
       "32542   45          Local-gov  119199     Assoc-acdm             12   \n",
       "32543   31            Private  199655        Masters             14   \n",
       "32544   39          Local-gov  111499     Assoc-acdm             12   \n",
       "32545   37            Private  198216     Assoc-acdm             12   \n",
       "32546   43            Private  260761        HS-grad              9   \n",
       "32547   65   Self-emp-not-inc   99359    Prof-school             15   \n",
       "32548   43          State-gov  255835   Some-college             10   \n",
       "32549   43   Self-emp-not-inc   27242   Some-college             10   \n",
       "32550   32            Private   34066           10th              6   \n",
       "32551   43            Private   84661      Assoc-voc             11   \n",
       "32552   32            Private  116138        Masters             14   \n",
       "32553   53            Private  321865        Masters             14   \n",
       "32554   22            Private  310152   Some-college             10   \n",
       "32555   27            Private  257302     Assoc-acdm             12   \n",
       "32556   40            Private  154374        HS-grad              9   \n",
       "32557   58            Private  151910        HS-grad              9   \n",
       "32558   22            Private  201490        HS-grad              9   \n",
       "32559   52       Self-emp-inc  287927        HS-grad              9   \n",
       "\n",
       "               Marital_status          Occupation     Relationship  \\\n",
       "0          Married-civ-spouse     Exec-managerial          Husband   \n",
       "1                    Divorced   Handlers-cleaners    Not-in-family   \n",
       "2          Married-civ-spouse   Handlers-cleaners          Husband   \n",
       "3          Married-civ-spouse      Prof-specialty             Wife   \n",
       "4          Married-civ-spouse     Exec-managerial             Wife   \n",
       "5       Married-spouse-absent       Other-service    Not-in-family   \n",
       "6          Married-civ-spouse     Exec-managerial          Husband   \n",
       "7               Never-married      Prof-specialty    Not-in-family   \n",
       "8          Married-civ-spouse     Exec-managerial          Husband   \n",
       "9          Married-civ-spouse     Exec-managerial          Husband   \n",
       "10         Married-civ-spouse      Prof-specialty          Husband   \n",
       "11              Never-married        Adm-clerical        Own-child   \n",
       "12              Never-married               Sales    Not-in-family   \n",
       "13         Married-civ-spouse        Craft-repair          Husband   \n",
       "14         Married-civ-spouse    Transport-moving          Husband   \n",
       "15              Never-married     Farming-fishing        Own-child   \n",
       "16              Never-married   Machine-op-inspct        Unmarried   \n",
       "17         Married-civ-spouse               Sales          Husband   \n",
       "18                   Divorced     Exec-managerial        Unmarried   \n",
       "19         Married-civ-spouse      Prof-specialty          Husband   \n",
       "20                  Separated       Other-service        Unmarried   \n",
       "21         Married-civ-spouse     Farming-fishing          Husband   \n",
       "22         Married-civ-spouse    Transport-moving          Husband   \n",
       "23                   Divorced        Tech-support        Unmarried   \n",
       "24         Married-civ-spouse        Tech-support          Husband   \n",
       "25              Never-married        Craft-repair        Own-child   \n",
       "26         Married-civ-spouse                   ?          Husband   \n",
       "27                   Divorced     Exec-managerial    Not-in-family   \n",
       "28         Married-civ-spouse        Craft-repair          Husband   \n",
       "29              Never-married     Protective-serv    Not-in-family   \n",
       "...                       ...                 ...              ...   \n",
       "32530           Never-married                   ?    Not-in-family   \n",
       "32531      Married-civ-spouse      Prof-specialty          Husband   \n",
       "32532      Married-civ-spouse     Exec-managerial          Husband   \n",
       "32533                Divorced        Adm-clerical        Unmarried   \n",
       "32534           Never-married     Protective-serv        Own-child   \n",
       "32535           Never-married     Exec-managerial    Not-in-family   \n",
       "32536           Never-married        Craft-repair    Not-in-family   \n",
       "32537                Divorced      Prof-specialty        Unmarried   \n",
       "32538      Married-civ-spouse                   ?          Husband   \n",
       "32539               Separated        Adm-clerical        Own-child   \n",
       "32540               Separated                   ?    Not-in-family   \n",
       "32541      Married-civ-spouse                   ?          Husband   \n",
       "32542                Divorced      Prof-specialty        Unmarried   \n",
       "32543                Divorced       Other-service    Not-in-family   \n",
       "32544      Married-civ-spouse        Adm-clerical             Wife   \n",
       "32545                Divorced        Tech-support    Not-in-family   \n",
       "32546      Married-civ-spouse   Machine-op-inspct          Husband   \n",
       "32547           Never-married      Prof-specialty    Not-in-family   \n",
       "32548                Divorced        Adm-clerical   Other-relative   \n",
       "32549      Married-civ-spouse        Craft-repair          Husband   \n",
       "32550      Married-civ-spouse   Handlers-cleaners          Husband   \n",
       "32551      Married-civ-spouse               Sales          Husband   \n",
       "32552           Never-married        Tech-support    Not-in-family   \n",
       "32553      Married-civ-spouse     Exec-managerial          Husband   \n",
       "32554           Never-married     Protective-serv    Not-in-family   \n",
       "32555      Married-civ-spouse        Tech-support             Wife   \n",
       "32556      Married-civ-spouse   Machine-op-inspct          Husband   \n",
       "32557                 Widowed        Adm-clerical        Unmarried   \n",
       "32558           Never-married        Adm-clerical        Own-child   \n",
       "32559      Married-civ-spouse     Exec-managerial             Wife   \n",
       "\n",
       "                      Race      Sex  Capital_gain  Capital_loss  \\\n",
       "0                    White     Male             0             0   \n",
       "1                    White     Male             0             0   \n",
       "2                    Black     Male             0             0   \n",
       "3                    Black   Female             0             0   \n",
       "4                    White   Female             0             0   \n",
       "5                    Black   Female             0             0   \n",
       "6                    White     Male             0             0   \n",
       "7                    White   Female         14084             0   \n",
       "8                    White     Male          5178             0   \n",
       "9                    Black     Male             0             0   \n",
       "10      Asian-Pac-Islander     Male             0             0   \n",
       "11                   White   Female             0             0   \n",
       "12                   Black     Male             0             0   \n",
       "13      Asian-Pac-Islander     Male             0             0   \n",
       "14      Amer-Indian-Eskimo     Male             0             0   \n",
       "15                   White     Male             0             0   \n",
       "16                   White     Male             0             0   \n",
       "17                   White     Male             0             0   \n",
       "18                   White   Female             0             0   \n",
       "19                   White     Male             0             0   \n",
       "20                   Black   Female             0             0   \n",
       "21                   Black     Male             0             0   \n",
       "22                   White     Male             0          2042   \n",
       "23                   White   Female             0             0   \n",
       "24                   White     Male             0             0   \n",
       "25                   White     Male             0             0   \n",
       "26      Asian-Pac-Islander     Male             0             0   \n",
       "27                   White     Male             0             0   \n",
       "28                   White     Male             0             0   \n",
       "29                   White     Male             0             0   \n",
       "...                    ...      ...           ...           ...   \n",
       "32530   Asian-Pac-Islander   Female             0             0   \n",
       "32531                White     Male             0             0   \n",
       "32532   Asian-Pac-Islander     Male             0             0   \n",
       "32533                White   Female             0             0   \n",
       "32534                Black     Male             0             0   \n",
       "32535                White   Female             0             0   \n",
       "32536                Black     Male             0             0   \n",
       "32537                Black   Female         15020             0   \n",
       "32538                White     Male             0             0   \n",
       "32539                White   Female             0             0   \n",
       "32540                Black   Female             0             0   \n",
       "32541                White     Male             0             0   \n",
       "32542                White   Female             0             0   \n",
       "32543                Other   Female             0             0   \n",
       "32544                White   Female             0             0   \n",
       "32545                White   Female             0             0   \n",
       "32546                White     Male             0             0   \n",
       "32547                White     Male          1086             0   \n",
       "32548                White   Female             0             0   \n",
       "32549                White     Male             0             0   \n",
       "32550   Amer-Indian-Eskimo     Male             0             0   \n",
       "32551                White     Male             0             0   \n",
       "32552   Asian-Pac-Islander     Male             0             0   \n",
       "32553                White     Male             0             0   \n",
       "32554                White     Male             0             0   \n",
       "32555                White   Female             0             0   \n",
       "32556                White     Male             0             0   \n",
       "32557                White   Female             0             0   \n",
       "32558                White     Male             0             0   \n",
       "32559                White   Female         15024             0   \n",
       "\n",
       "       Hours_per_week  Native_country  Income  \n",
       "0                  13   United-States   <=50K  \n",
       "1                  40   United-States   <=50K  \n",
       "2                  40   United-States   <=50K  \n",
       "3                  40            Cuba   <=50K  \n",
       "4                  40   United-States   <=50K  \n",
       "5                  16         Jamaica   <=50K  \n",
       "6                  45   United-States    >50K  \n",
       "7                  50   United-States    >50K  \n",
       "8                  40   United-States    >50K  \n",
       "9                  80   United-States    >50K  \n",
       "10                 40           India    >50K  \n",
       "11                 30   United-States   <=50K  \n",
       "12                 50   United-States   <=50K  \n",
       "13                 40               ?    >50K  \n",
       "14                 45          Mexico   <=50K  \n",
       "15                 35   United-States   <=50K  \n",
       "16                 40   United-States   <=50K  \n",
       "17                 50   United-States   <=50K  \n",
       "18                 45   United-States    >50K  \n",
       "19                 60   United-States    >50K  \n",
       "20                 20   United-States   <=50K  \n",
       "21                 40   United-States   <=50K  \n",
       "22                 40   United-States   <=50K  \n",
       "23                 40   United-States   <=50K  \n",
       "24                 40   United-States    >50K  \n",
       "25                 40   United-States   <=50K  \n",
       "26                 60           South    >50K  \n",
       "27                 80   United-States   <=50K  \n",
       "28                 40   United-States   <=50K  \n",
       "29                 52   United-States   <=50K  \n",
       "...               ...             ...     ...  \n",
       "32530              99   United-States   <=50K  \n",
       "32531              60   United-States    >50K  \n",
       "32532              50           Japan    >50K  \n",
       "32533              39   United-States   <=50K  \n",
       "32534              35   United-States   <=50K  \n",
       "32535              55   United-States    >50K  \n",
       "32536              46   United-States   <=50K  \n",
       "32537              45   United-States    >50K  \n",
       "32538              10   United-States    >50K  \n",
       "32539              40   United-States   <=50K  \n",
       "32540              32   United-States   <=50K  \n",
       "32541              25   United-States   <=50K  \n",
       "32542              48   United-States   <=50K  \n",
       "32543              30   United-States   <=50K  \n",
       "32544              20   United-States    >50K  \n",
       "32545              40   United-States   <=50K  \n",
       "32546              40          Mexico   <=50K  \n",
       "32547              60   United-States   <=50K  \n",
       "32548              40   United-States   <=50K  \n",
       "32549              50   United-States   <=50K  \n",
       "32550              40   United-States   <=50K  \n",
       "32551              45   United-States   <=50K  \n",
       "32552              11          Taiwan   <=50K  \n",
       "32553              40   United-States    >50K  \n",
       "32554              40   United-States   <=50K  \n",
       "32555              38   United-States   <=50K  \n",
       "32556              40   United-States    >50K  \n",
       "32557              40   United-States   <=50K  \n",
       "32558              20   United-States   <=50K  \n",
       "32559              40   United-States    >50K  \n",
       "\n",
       "[32560 rows x 15 columns]"
      ]
     },
     "execution_count": 2,
     "metadata": {},
     "output_type": "execute_result"
    }
   ],
   "source": [
    "# Importing Dataset\n",
    "df=pd.read_csv(r'C:\\Users\\HP-15\\Data Trained Projects\\census_income.csv')\n",
    "#Visualizing dataset\n",
    "df"
   ]
  },
  {
   "cell_type": "markdown",
   "metadata": {},
   "source": [
    "There are 32560 rows and 15 columns in our dataset. "
   ]
  },
  {
   "cell_type": "markdown",
   "metadata": {},
   "source": [
    "# Checking Null Values"
   ]
  },
  {
   "cell_type": "code",
   "execution_count": 3,
   "metadata": {},
   "outputs": [
    {
     "data": {
      "text/plain": [
       "Age               0\n",
       "Workclass         0\n",
       "Fnlwgt            0\n",
       "Education         0\n",
       "Education_num     0\n",
       "Marital_status    0\n",
       "Occupation        0\n",
       "Relationship      0\n",
       "Race              0\n",
       "Sex               0\n",
       "Capital_gain      0\n",
       "Capital_loss      0\n",
       "Hours_per_week    0\n",
       "Native_country    0\n",
       "Income            0\n",
       "dtype: int64"
      ]
     },
     "execution_count": 3,
     "metadata": {},
     "output_type": "execute_result"
    }
   ],
   "source": [
    "#Checking Null values\n",
    "df.isnull().sum()"
   ]
  },
  {
   "cell_type": "code",
   "execution_count": 4,
   "metadata": {},
   "outputs": [
    {
     "data": {
      "text/plain": [
       "<matplotlib.axes._subplots.AxesSubplot at 0x27f8c82acf8>"
      ]
     },
     "execution_count": 4,
     "metadata": {},
     "output_type": "execute_result"
    }
   ],
   "source": [
    "#Visualizing null values through heatmap\n",
    "import seaborn as sns\n",
    "sns.heatmap(df.isnull())"
   ]
  },
  {
   "cell_type": "markdown",
   "metadata": {},
   "source": [
    "We cannot find any null values in the dataset. Hence, we can proceed towards visualizing our data."
   ]
  },
  {
   "cell_type": "markdown",
   "metadata": {},
   "source": [
    "# Making DataFrame for the Nominal Data"
   ]
  },
  {
   "cell_type": "code",
   "execution_count": 5,
   "metadata": {},
   "outputs": [],
   "source": [
    "#Copying nominal variables into a new dataframe\n",
    "df_nominal=df[['Workclass', 'Education', 'Education_num','Marital_status', 'Occupation', 'Relationship', 'Race', 'Sex','Native_country','Income']].copy()"
   ]
  },
  {
   "cell_type": "code",
   "execution_count": 6,
   "metadata": {},
   "outputs": [
    {
     "data": {
      "text/plain": [
       "Index(['Workclass', 'Education', 'Education_num', 'Marital_status',\n",
       "       'Occupation', 'Relationship', 'Race', 'Sex', 'Native_country',\n",
       "       'Income'],\n",
       "      dtype='object')"
      ]
     },
     "execution_count": 6,
     "metadata": {},
     "output_type": "execute_result"
    }
   ],
   "source": [
    "#Checking columns of new nominal dataframe created\n",
    "df_nominal.columns"
   ]
  },
  {
   "cell_type": "code",
   "execution_count": 7,
   "metadata": {},
   "outputs": [
    {
     "data": {
      "text/plain": [
       "(32560, 10)"
      ]
     },
     "execution_count": 7,
     "metadata": {},
     "output_type": "execute_result"
    }
   ],
   "source": [
    "df_nominal.shape"
   ]
  },
  {
   "cell_type": "markdown",
   "metadata": {},
   "source": [
    "There are 10 columns in the newly created nominal DataFrame which consists of only categorial Data. We will now start visualizing this data."
   ]
  },
  {
   "cell_type": "markdown",
   "metadata": {},
   "source": [
    "# Visualization Of Data"
   ]
  },
  {
   "cell_type": "markdown",
   "metadata": {},
   "source": [
    "For the nominal categorical data we will use countplot as it will gives frequency of the columns."
   ]
  },
  {
   "cell_type": "code",
   "execution_count": 8,
   "metadata": {},
   "outputs": [],
   "source": [
    "#Importing Libraries for Visualization\n",
    "import seaborn as sns\n",
    "import matplotlib.pyplot as plt"
   ]
  },
  {
   "cell_type": "code",
   "execution_count": 9,
   "metadata": {},
   "outputs": [
    {
     "name": "stdout",
     "output_type": "stream",
     "text": [
      " Private             22696\n",
      " Self-emp-not-inc     2541\n",
      " Local-gov            2093\n",
      " ?                    1836\n",
      " State-gov            1297\n",
      " Self-emp-inc         1116\n",
      " Federal-gov           960\n",
      " Without-pay            14\n",
      " Never-worked            7\n",
      "Name: Workclass, dtype: int64\n"
     ]
    },
    {
     "data": {
      "image/png": "[encoded data removed]",
      "text/plain": [
       "<Figure size 432x288 with 1 Axes>"
      ]
     },
     "metadata": {
      "needs_background": "light"
     },
     "output_type": "display_data"
    }
   ],
   "source": [
    "#Using countplot for nominal data\n",
    "ab=sns.countplot(x='Workclass', data=df_nominal)\n",
    "print(df_nominal['Workclass'].value_counts())"
   ]
  },
  {
   "cell_type": "markdown",
   "metadata": {},
   "source": [
    "The maximum working class if from the private sector, Self-emp-not-inc and Local-gov i.e 22696, 2541 & 2093 people respectively from each sector. Least number of people are working without pay and have never worked which is 14 & 7 people respectively.\n",
    "Also we have unknown values of 1836 people."
   ]
  },
  {
   "cell_type": "code",
   "execution_count": 10,
   "metadata": {},
   "outputs": [
    {
     "name": "stdout",
     "output_type": "stream",
     "text": [
      " HS-grad         10501\n",
      " Some-college     7291\n",
      " Bachelors        5354\n",
      " Masters          1723\n",
      " Assoc-voc        1382\n",
      " 11th             1175\n",
      " Assoc-acdm       1067\n",
      " 10th              933\n",
      " 7th-8th           646\n",
      " Prof-school       576\n",
      " 9th               514\n",
      " 12th              433\n",
      " Doctorate         413\n",
      " 5th-6th           333\n",
      " 1st-4th           168\n",
      " Preschool          51\n",
      "Name: Education, dtype: int64\n"
     ]
    },
    {
     "data": {
      "image/png": "[encoded data removed]",
      "text/plain": [
       "<Figure size 432x288 with 1 Axes>"
      ]
     },
     "metadata": {
      "needs_background": "light"
     },
     "output_type": "display_data"
    }
   ],
   "source": [
    "#Using countplot for nominal data\n",
    "ab=sns.countplot(x='Education', data=df_nominal)\n",
    "print(df_nominal['Education'].value_counts())"
   ]
  },
  {
   "cell_type": "markdown",
   "metadata": {},
   "source": [
    "The Education of Maximum people is Hs-grad, Some-College & Bachelors which consists of 10501,7291 & 5354 people respectively. Least number of people are from 5th-6th,1st-4th & Prescool with 333,168 & 51 people respectively."
   ]
  },
  {
   "cell_type": "code",
   "execution_count": 11,
   "metadata": {},
   "outputs": [
    {
     "name": "stdout",
     "output_type": "stream",
     "text": [
      "9     10501\n",
      "10     7291\n",
      "13     5354\n",
      "14     1723\n",
      "11     1382\n",
      "7      1175\n",
      "12     1067\n",
      "6       933\n",
      "4       646\n",
      "15      576\n",
      "5       514\n",
      "8       433\n",
      "16      413\n",
      "3       333\n",
      "2       168\n",
      "1        51\n",
      "Name: Education_num, dtype: int64\n"
     ]
    },
    {
     "data": {
      "image/png": "[encoded data removed]",
      "text/plain": [
       "<Figure size 432x288 with 1 Axes>"
      ]
     },
     "metadata": {
      "needs_background": "light"
     },
     "output_type": "display_data"
    }
   ],
   "source": [
    "ab=sns.countplot(x='Education_num', data=df_nominal)\n",
    "print(df_nominal['Education_num'].value_counts())"
   ]
  },
  {
   "cell_type": "markdown",
   "metadata": {},
   "source": [
    "The maximum number of people are from Eduaction_num 9,10 & 13 and least are from 1,2,&3."
   ]
  },
  {
   "cell_type": "code",
   "execution_count": 12,
   "metadata": {},
   "outputs": [
    {
     "name": "stdout",
     "output_type": "stream",
     "text": [
      " Married-civ-spouse       14976\n",
      " Never-married            10682\n",
      " Divorced                  4443\n",
      " Separated                 1025\n",
      " Widowed                    993\n",
      " Married-spouse-absent      418\n",
      " Married-AF-spouse           23\n",
      "Name: Marital_status, dtype: int64\n"
     ]
    },
    {
     "data": {
      "image/png": "[encoded data removed]",
      "text/plain": [
       "<Figure size 432x288 with 1 Axes>"
      ]
     },
     "metadata": {
      "needs_background": "light"
     },
     "output_type": "display_data"
    }
   ],
   "source": [
    "ab=sns.countplot(x='Marital_status', data=df_nominal)\n",
    "print(df_nominal['Marital_status'].value_counts())"
   ]
  },
  {
   "cell_type": "markdown",
   "metadata": {},
   "source": [
    "Most people are Married-civ-spouse(14976) & Never-married(10682). Least are from  Married-AF-spouse(24)."
   ]
  },
  {
   "cell_type": "code",
   "execution_count": 13,
   "metadata": {},
   "outputs": [
    {
     "name": "stdout",
     "output_type": "stream",
     "text": [
      " Prof-specialty       4140\n",
      " Craft-repair         4099\n",
      " Exec-managerial      4066\n",
      " Adm-clerical         3769\n",
      " Sales                3650\n",
      " Other-service        3295\n",
      " Machine-op-inspct    2002\n",
      " ?                    1843\n",
      " Transport-moving     1597\n",
      " Handlers-cleaners    1370\n",
      " Farming-fishing       994\n",
      " Tech-support          928\n",
      " Protective-serv       649\n",
      " Priv-house-serv       149\n",
      " Armed-Forces            9\n",
      "Name: Occupation, dtype: int64\n"
     ]
    },
    {
     "data": {
      "image/png": "[encoded data removed]",
      "text/plain": [
       "<Figure size 432x288 with 1 Axes>"
      ]
     },
     "metadata": {
      "needs_background": "light"
     },
     "output_type": "display_data"
    }
   ],
   "source": [
    "ab=sns.countplot(x='Occupation', data=df_nominal)\n",
    "print(df_nominal['Occupation'].value_counts())"
   ]
  },
  {
   "cell_type": "markdown",
   "metadata": {},
   "source": [
    "The Occupation of maximum people is Prof-speciality, Craft-repair & Exec-managerial. Hardly few are from Armed-Forces(9)."
   ]
  },
  {
   "cell_type": "code",
   "execution_count": 14,
   "metadata": {},
   "outputs": [
    {
     "name": "stdout",
     "output_type": "stream",
     "text": [
      " Husband           13193\n",
      " Not-in-family      8304\n",
      " Own-child          5068\n",
      " Unmarried          3446\n",
      " Wife               1568\n",
      " Other-relative      981\n",
      "Name: Relationship, dtype: int64\n"
     ]
    },
    {
     "data": {
      "image/png": "[encoded data removed]",
      "text/plain": [
       "<Figure size 432x288 with 1 Axes>"
      ]
     },
     "metadata": {
      "needs_background": "light"
     },
     "output_type": "display_data"
    }
   ],
   "source": [
    "ab=sns.countplot(x='Relationship', data=df_nominal)\n",
    "print(df_nominal['Relationship'].value_counts())"
   ]
  },
  {
   "cell_type": "markdown",
   "metadata": {},
   "source": [
    "The Relationship people share are most of them Husband, Not-in-Family and very few are Other-relatives."
   ]
  },
  {
   "cell_type": "code",
   "execution_count": 15,
   "metadata": {},
   "outputs": [
    {
     "name": "stdout",
     "output_type": "stream",
     "text": [
      " White                 27815\n",
      " Black                  3124\n",
      " Asian-Pac-Islander     1039\n",
      " Amer-Indian-Eskimo      311\n",
      " Other                   271\n",
      "Name: Race, dtype: int64\n"
     ]
    },
    {
     "data": {
      "image/png": "[encoded data removed]",
      "text/plain": [
       "<Figure size 432x288 with 1 Axes>"
      ]
     },
     "metadata": {
      "needs_background": "light"
     },
     "output_type": "display_data"
    }
   ],
   "source": [
    "ab=sns.countplot(x='Race', data=df_nominal)\n",
    "print(df_nominal['Race'].value_counts())"
   ]
  },
  {
   "cell_type": "markdown",
   "metadata": {},
   "source": [
    "Out of the whole dataset, 27815 people are White which is maximum, 3124 are Black and very few are Other(271)."
   ]
  },
  {
   "cell_type": "code",
   "execution_count": 16,
   "metadata": {},
   "outputs": [
    {
     "name": "stdout",
     "output_type": "stream",
     "text": [
      " Male      21789\n",
      " Female    10771\n",
      "Name: Sex, dtype: int64\n"
     ]
    },
    {
     "data": {
      "image/png": "[encoded data removed]",
      "text/plain": [
       "<Figure size 432x288 with 1 Axes>"
      ]
     },
     "metadata": {
      "needs_background": "light"
     },
     "output_type": "display_data"
    }
   ],
   "source": [
    "ab=sns.countplot(x='Sex', data=df_nominal)\n",
    "print(df_nominal['Sex'].value_counts())"
   ]
  },
  {
   "cell_type": "markdown",
   "metadata": {},
   "source": [
    "From the whole dataset, 21789 are Male and 10771 are Female."
   ]
  },
  {
   "cell_type": "code",
   "execution_count": 17,
   "metadata": {},
   "outputs": [
    {
     "name": "stdout",
     "output_type": "stream",
     "text": [
      " United-States                 29169\n",
      " Mexico                          643\n",
      " ?                               583\n",
      " Philippines                     198\n",
      " Germany                         137\n",
      " Canada                          121\n",
      " Puerto-Rico                     114\n",
      " El-Salvador                     106\n",
      " India                           100\n",
      " Cuba                             95\n",
      " England                          90\n",
      " Jamaica                          81\n",
      " South                            80\n",
      " China                            75\n",
      " Italy                            73\n",
      " Dominican-Republic               70\n",
      " Vietnam                          67\n",
      " Guatemala                        64\n",
      " Japan                            62\n",
      " Poland                           60\n",
      " Columbia                         59\n",
      " Taiwan                           51\n",
      " Haiti                            44\n",
      " Iran                             43\n",
      " Portugal                         37\n",
      " Nicaragua                        34\n",
      " Peru                             31\n",
      " France                           29\n",
      " Greece                           29\n",
      " Ecuador                          28\n",
      " Ireland                          24\n",
      " Hong                             20\n",
      " Trinadad&Tobago                  19\n",
      " Cambodia                         19\n",
      " Thailand                         18\n",
      " Laos                             18\n",
      " Yugoslavia                       16\n",
      " Outlying-US(Guam-USVI-etc)       14\n",
      " Hungary                          13\n",
      " Honduras                         13\n",
      " Scotland                         12\n",
      " Holand-Netherlands                1\n",
      "Name: Native_country, dtype: int64\n"
     ]
    },
    {
     "data": {
      "image/png": "[encoded data removed]",
      "text/plain": [
       "<Figure size 432x288 with 1 Axes>"
      ]
     },
     "metadata": {
      "needs_background": "light"
     },
     "output_type": "display_data"
    }
   ],
   "source": [
    "ab=sns.countplot(x='Native_country', data=df_nominal)\n",
    "print(df_nominal['Native_country'].value_counts())"
   ]
  },
  {
   "cell_type": "markdown",
   "metadata": {},
   "source": [
    "The maximum number of people have their Native country as USA(29169) and only 1 is from Holand-Netherlands. The Native country of 583 people is unknown."
   ]
  },
  {
   "cell_type": "code",
   "execution_count": 18,
   "metadata": {},
   "outputs": [
    {
     "name": "stdout",
     "output_type": "stream",
     "text": [
      " <=50K    24719\n",
      " >50K      7841\n",
      "Name: Income, dtype: int64\n"
     ]
    },
    {
     "data": {
      "image/png": "[encoded data removed]",
      "text/plain": [
       "<Figure size 432x288 with 1 Axes>"
      ]
     },
     "metadata": {
      "needs_background": "light"
     },
     "output_type": "display_data"
    }
   ],
   "source": [
    "ab=sns.countplot(x='Income', data=df_nominal)\n",
    "print(df_nominal['Income'].value_counts())"
   ]
  },
  {
   "cell_type": "markdown",
   "metadata": {},
   "source": [
    "24719 people from our dataset have income more than 50k and 7841 people have income less than 50k. Maximum number of people have income more than 50k."
   ]
  },
  {
   "cell_type": "markdown",
   "metadata": {},
   "source": [
    "# Making DataFrame for Continuous Type Of Data "
   ]
  },
  {
   "cell_type": "code",
   "execution_count": 19,
   "metadata": {},
   "outputs": [],
   "source": [
    "#Copying our continuous data into a new dataframe\n",
    "df_continuous=df[['Age','Fnlwgt','Capital_gain','Capital_loss','Hours_per_week']].copy()"
   ]
  },
  {
   "cell_type": "code",
   "execution_count": 20,
   "metadata": {},
   "outputs": [
    {
     "data": {
      "text/plain": [
       "Index(['Age', 'Fnlwgt', 'Capital_gain', 'Capital_loss', 'Hours_per_week'], dtype='object')"
      ]
     },
     "execution_count": 20,
     "metadata": {},
     "output_type": "execute_result"
    }
   ],
   "source": [
    "#Checking columns of our new DataFrame\n",
    "df_continuous.columns"
   ]
  },
  {
   "cell_type": "code",
   "execution_count": 21,
   "metadata": {},
   "outputs": [
    {
     "data": {
      "text/plain": [
       "(32560, 5)"
      ]
     },
     "execution_count": 21,
     "metadata": {},
     "output_type": "execute_result"
    }
   ],
   "source": [
    "#Checking shape of continuous dataframe\n",
    "df_continuous.shape"
   ]
  },
  {
   "cell_type": "markdown",
   "metadata": {},
   "source": [
    "We have 5 columns in our continuous dataframe."
   ]
  },
  {
   "cell_type": "code",
   "execution_count": 22,
   "metadata": {},
   "outputs": [
    {
     "data": {
      "text/plain": [
       "<matplotlib.axes._subplots.AxesSubplot at 0x27f8e9b4710>"
      ]
     },
     "execution_count": 22,
     "metadata": {},
     "output_type": "execute_result"
    },
    {
     "data": {
      "image/png": "[encoded data removed]",
      "text/plain": [
       "<Figure size 432x288 with 1 Axes>"
      ]
     },
     "metadata": {
      "needs_background": "light"
     },
     "output_type": "display_data"
    }
   ],
   "source": [
    "#Visualizing using distplot to check distribution of data\n",
    "import seaborn as sns\n",
    "sns.distplot(df['Age'],kde=True)"
   ]
  },
  {
   "cell_type": "markdown",
   "metadata": {},
   "source": [
    "The Age of people in our dataset lies between 18 to 90 years of Age. Maximum people lie in the Age range between 18 & 50."
   ]
  },
  {
   "cell_type": "code",
   "execution_count": 23,
   "metadata": {},
   "outputs": [
    {
     "data": {
      "text/plain": [
       "<matplotlib.axes._subplots.AxesSubplot at 0x27f8e9ab0b8>"
      ]
     },
     "execution_count": 23,
     "metadata": {},
     "output_type": "execute_result"
    },
    {
     "data": {
      "image/png": "[encoded data removed]",
      "text/plain": [
       "<Figure size 432x288 with 1 Axes>"
      ]
     },
     "metadata": {
      "needs_background": "light"
     },
     "output_type": "display_data"
    }
   ],
   "source": [
    "import seaborn as sns\n",
    "sns.distplot(df['Fnlwgt'],kde=True)"
   ]
  },
  {
   "cell_type": "markdown",
   "metadata": {},
   "source": [
    "The maximum values of Fnlwgt lie between 0 & 400000. We can observe that this data is right skewed."
   ]
  },
  {
   "cell_type": "code",
   "execution_count": 24,
   "metadata": {},
   "outputs": [
    {
     "data": {
      "text/plain": [
       "<matplotlib.axes._subplots.AxesSubplot at 0x27f8e66f5f8>"
      ]
     },
     "execution_count": 24,
     "metadata": {},
     "output_type": "execute_result"
    },
    {
     "data": {
      "image/png": "[encoded data removed]",
      "text/plain": [
       "<Figure size 432x288 with 1 Axes>"
      ]
     },
     "metadata": {
      "needs_background": "light"
     },
     "output_type": "display_data"
    }
   ],
   "source": [
    "import seaborn as sns\n",
    "sns.distplot(df['Capital_gain'],kde=True)"
   ]
  },
  {
   "cell_type": "markdown",
   "metadata": {},
   "source": [
    "The Capital Gain of major data is 0. This data is also observed to be right skewed."
   ]
  },
  {
   "cell_type": "code",
   "execution_count": 25,
   "metadata": {},
   "outputs": [
    {
     "data": {
      "text/plain": [
       "<matplotlib.axes._subplots.AxesSubplot at 0x27f8e6ee080>"
      ]
     },
     "execution_count": 25,
     "metadata": {},
     "output_type": "execute_result"
    },
    {
     "data": {
      "image/png": "[encoded data removed]",
      "text/plain": [
       "<Figure size 432x288 with 1 Axes>"
      ]
     },
     "metadata": {
      "needs_background": "light"
     },
     "output_type": "display_data"
    }
   ],
   "source": [
    "import seaborn as sns\n",
    "sns.distplot(df['Capital_loss'],kde=True)"
   ]
  },
  {
   "cell_type": "markdown",
   "metadata": {},
   "source": [
    "The Capital loss of major data is 0. This data is also observed to be right skewed."
   ]
  },
  {
   "cell_type": "code",
   "execution_count": 26,
   "metadata": {},
   "outputs": [
    {
     "data": {
      "text/plain": [
       "<matplotlib.axes._subplots.AxesSubplot at 0x27f8e6be198>"
      ]
     },
     "execution_count": 26,
     "metadata": {},
     "output_type": "execute_result"
    },
    {
     "data": {
      "image/png": "[encoded data removed]",
      "text/plain": [
       "<Figure size 432x288 with 1 Axes>"
      ]
     },
     "metadata": {
      "needs_background": "light"
     },
     "output_type": "display_data"
    }
   ],
   "source": [
    "import seaborn as sns\n",
    "sns.distplot(df['Hours_per_week'],kde=True)"
   ]
  },
  {
   "cell_type": "markdown",
   "metadata": {},
   "source": [
    "Majority of the people work 50 hours per week."
   ]
  },
  {
   "cell_type": "markdown",
   "metadata": {},
   "source": [
    "# Visualization of Relationship between Nominal & Continuous Data"
   ]
  },
  {
   "cell_type": "code",
   "execution_count": 27,
   "metadata": {},
   "outputs": [
    {
     "data": {
      "image/png": "[encoded data removed]",
      "text/plain": [
       "<Figure size 435.75x360 with 1 Axes>"
      ]
     },
     "metadata": {
      "needs_background": "light"
     },
     "output_type": "display_data"
    }
   ],
   "source": [
    "#set up a category plot\n",
    "g=sns.catplot(x='Income',y='Fnlwgt',hue='Sex',data=df,kind='bar')\n",
    "plt.show()"
   ]
  },
  {
   "cell_type": "markdown",
   "metadata": {},
   "source": [
    "Income of a Male who earns less than or equal to 50k has a fnlwgt 190000 and that of a female is around 180000.\n",
    "\n",
    "Income of a Male who earns more than 50k has a fnlwgt 185000 and that of a female is around 182000.\n",
    "\n",
    "We cannot see much relationship between Fnlwgt & Sex with that of income\n"
   ]
  },
  {
   "cell_type": "code",
   "execution_count": 28,
   "metadata": {},
   "outputs": [
    {
     "data": {
      "image/png": "[encoded data removed]",
      "text/plain": [
       "<Figure size 434.875x360 with 1 Axes>"
      ]
     },
     "metadata": {
      "needs_background": "light"
     },
     "output_type": "display_data"
    }
   ],
   "source": [
    "g=sns.catplot(x='Relationship',y='Age',hue='Income',data=df,kind='bar')\n",
    "plt.show()"
   ]
  },
  {
   "cell_type": "markdown",
   "metadata": {},
   "source": [
    "The Relationship & Age columns also do not show any relativity with the Income column."
   ]
  },
  {
   "cell_type": "markdown",
   "metadata": {},
   "source": [
    "# Encoding Of DataFrame"
   ]
  },
  {
   "cell_type": "code",
   "execution_count": 29,
   "metadata": {},
   "outputs": [
    {
     "data": {
      "text/plain": [
       "Age                int64\n",
       "Workclass         object\n",
       "Fnlwgt             int64\n",
       "Education         object\n",
       "Education_num      int64\n",
       "Marital_status    object\n",
       "Occupation        object\n",
       "Relationship      object\n",
       "Race              object\n",
       "Sex               object\n",
       "Capital_gain       int64\n",
       "Capital_loss       int64\n",
       "Hours_per_week     int64\n",
       "Native_country    object\n",
       "Income            object\n",
       "dtype: object"
      ]
     },
     "execution_count": 29,
     "metadata": {},
     "output_type": "execute_result"
    }
   ],
   "source": [
    "#Checking Datatypes\n",
    "df.dtypes"
   ]
  },
  {
   "cell_type": "markdown",
   "metadata": {},
   "source": [
    "We can see many object data type columns in our dataset which we need to transform into float values to deal with the data. We will use Ordinal Encoder to Encode our Data."
   ]
  },
  {
   "cell_type": "code",
   "execution_count": 30,
   "metadata": {},
   "outputs": [],
   "source": [
    "#Importing library for encoding and creating instance for the same \n",
    "from sklearn.preprocessing import OrdinalEncoder\n",
    "enc=OrdinalEncoder()"
   ]
  },
  {
   "cell_type": "code",
   "execution_count": 31,
   "metadata": {},
   "outputs": [],
   "source": [
    "#Converting object datatype into float values\n",
    "for i in df.columns:\n",
    "    if df[i].dtypes=='object':\n",
    "        df[i]=enc.fit_transform(df[i].values.reshape(-1,1))"
   ]
  },
  {
   "cell_type": "code",
   "execution_count": 32,
   "metadata": {},
   "outputs": [
    {
     "data": {
      "text/html": [
       "<div>\n",
       "<style scoped>\n",
       "    .dataframe tbody tr th:only-of-type {\n",
       "        vertical-align: middle;\n",
       "    }\n",
       "\n",
       "    .dataframe tbody tr th {\n",
       "        vertical-align: top;\n",
       "    }\n",
       "\n",
       "    .dataframe thead th {\n",
       "        text-align: right;\n",
       "    }\n",
       "</style>\n",
       "<table border=\"1\" class=\"dataframe\">\n",
       "  <thead>\n",
       "    <tr style=\"text-align: right;\">\n",
       "      <th></th>\n",
       "      <th>Age</th>\n",
       "      <th>Workclass</th>\n",
       "      <th>Fnlwgt</th>\n",
       "      <th>Education</th>\n",
       "      <th>Education_num</th>\n",
       "      <th>Marital_status</th>\n",
       "      <th>Occupation</th>\n",
       "      <th>Relationship</th>\n",
       "      <th>Race</th>\n",
       "      <th>Sex</th>\n",
       "      <th>Capital_gain</th>\n",
       "      <th>Capital_loss</th>\n",
       "      <th>Hours_per_week</th>\n",
       "      <th>Native_country</th>\n",
       "      <th>Income</th>\n",
       "    </tr>\n",
       "  </thead>\n",
       "  <tbody>\n",
       "    <tr>\n",
       "      <th>0</th>\n",
       "      <td>50</td>\n",
       "      <td>6.0</td>\n",
       "      <td>83311</td>\n",
       "      <td>9.0</td>\n",
       "      <td>13</td>\n",
       "      <td>2.0</td>\n",
       "      <td>4.0</td>\n",
       "      <td>0.0</td>\n",
       "      <td>4.0</td>\n",
       "      <td>1.0</td>\n",
       "      <td>0</td>\n",
       "      <td>0</td>\n",
       "      <td>13</td>\n",
       "      <td>39.0</td>\n",
       "      <td>0.0</td>\n",
       "    </tr>\n",
       "    <tr>\n",
       "      <th>1</th>\n",
       "      <td>38</td>\n",
       "      <td>4.0</td>\n",
       "      <td>215646</td>\n",
       "      <td>11.0</td>\n",
       "      <td>9</td>\n",
       "      <td>0.0</td>\n",
       "      <td>6.0</td>\n",
       "      <td>1.0</td>\n",
       "      <td>4.0</td>\n",
       "      <td>1.0</td>\n",
       "      <td>0</td>\n",
       "      <td>0</td>\n",
       "      <td>40</td>\n",
       "      <td>39.0</td>\n",
       "      <td>0.0</td>\n",
       "    </tr>\n",
       "    <tr>\n",
       "      <th>2</th>\n",
       "      <td>53</td>\n",
       "      <td>4.0</td>\n",
       "      <td>234721</td>\n",
       "      <td>1.0</td>\n",
       "      <td>7</td>\n",
       "      <td>2.0</td>\n",
       "      <td>6.0</td>\n",
       "      <td>0.0</td>\n",
       "      <td>2.0</td>\n",
       "      <td>1.0</td>\n",
       "      <td>0</td>\n",
       "      <td>0</td>\n",
       "      <td>40</td>\n",
       "      <td>39.0</td>\n",
       "      <td>0.0</td>\n",
       "    </tr>\n",
       "    <tr>\n",
       "      <th>3</th>\n",
       "      <td>28</td>\n",
       "      <td>4.0</td>\n",
       "      <td>338409</td>\n",
       "      <td>9.0</td>\n",
       "      <td>13</td>\n",
       "      <td>2.0</td>\n",
       "      <td>10.0</td>\n",
       "      <td>5.0</td>\n",
       "      <td>2.0</td>\n",
       "      <td>0.0</td>\n",
       "      <td>0</td>\n",
       "      <td>0</td>\n",
       "      <td>40</td>\n",
       "      <td>5.0</td>\n",
       "      <td>0.0</td>\n",
       "    </tr>\n",
       "    <tr>\n",
       "      <th>4</th>\n",
       "      <td>37</td>\n",
       "      <td>4.0</td>\n",
       "      <td>284582</td>\n",
       "      <td>12.0</td>\n",
       "      <td>14</td>\n",
       "      <td>2.0</td>\n",
       "      <td>4.0</td>\n",
       "      <td>5.0</td>\n",
       "      <td>4.0</td>\n",
       "      <td>0.0</td>\n",
       "      <td>0</td>\n",
       "      <td>0</td>\n",
       "      <td>40</td>\n",
       "      <td>39.0</td>\n",
       "      <td>0.0</td>\n",
       "    </tr>\n",
       "  </tbody>\n",
       "</table>\n",
       "</div>"
      ],
      "text/plain": [
       "   Age  Workclass  Fnlwgt  Education  Education_num  Marital_status  \\\n",
       "0   50        6.0   83311        9.0             13             2.0   \n",
       "1   38        4.0  215646       11.0              9             0.0   \n",
       "2   53        4.0  234721        1.0              7             2.0   \n",
       "3   28        4.0  338409        9.0             13             2.0   \n",
       "4   37        4.0  284582       12.0             14             2.0   \n",
       "\n",
       "   Occupation  Relationship  Race  Sex  Capital_gain  Capital_loss  \\\n",
       "0         4.0           0.0   4.0  1.0             0             0   \n",
       "1         6.0           1.0   4.0  1.0             0             0   \n",
       "2         6.0           0.0   2.0  1.0             0             0   \n",
       "3        10.0           5.0   2.0  0.0             0             0   \n",
       "4         4.0           5.0   4.0  0.0             0             0   \n",
       "\n",
       "   Hours_per_week  Native_country  Income  \n",
       "0              13            39.0     0.0  \n",
       "1              40            39.0     0.0  \n",
       "2              40            39.0     0.0  \n",
       "3              40             5.0     0.0  \n",
       "4              40            39.0     0.0  "
      ]
     },
     "execution_count": 32,
     "metadata": {},
     "output_type": "execute_result"
    }
   ],
   "source": [
    "#Verifying Conversion \n",
    "df.head()"
   ]
  },
  {
   "cell_type": "markdown",
   "metadata": {},
   "source": [
    "We can see that all our columns with string values are now converted into float values."
   ]
  },
  {
   "cell_type": "markdown",
   "metadata": {},
   "source": [
    "# Describe Data"
   ]
  },
  {
   "cell_type": "code",
   "execution_count": 33,
   "metadata": {},
   "outputs": [
    {
     "data": {
      "text/plain": [
       "Index(['Age', 'Workclass', 'Fnlwgt', 'Education', 'Education_num',\n",
       "       'Marital_status', 'Occupation', 'Relationship', 'Race', 'Sex',\n",
       "       'Capital_gain', 'Capital_loss', 'Hours_per_week', 'Native_country',\n",
       "       'Income'],\n",
       "      dtype='object')"
      ]
     },
     "execution_count": 33,
     "metadata": {},
     "output_type": "execute_result"
    }
   ],
   "source": [
    "#Describing final columns present in dataset\n",
    "df.columns"
   ]
  },
  {
   "cell_type": "code",
   "execution_count": 34,
   "metadata": {},
   "outputs": [
    {
     "data": {
      "text/plain": [
       "(32560, 15)"
      ]
     },
     "execution_count": 34,
     "metadata": {},
     "output_type": "execute_result"
    }
   ],
   "source": [
    "#Defining Shape\n",
    "df.shape"
   ]
  },
  {
   "cell_type": "markdown",
   "metadata": {},
   "source": [
    "We have 32560 rows and 15 columns in our dataset."
   ]
  },
  {
   "cell_type": "code",
   "execution_count": 35,
   "metadata": {},
   "outputs": [
    {
     "name": "stdout",
     "output_type": "stream",
     "text": [
      "<class 'pandas.core.frame.DataFrame'>\n",
      "RangeIndex: 32560 entries, 0 to 32559\n",
      "Data columns (total 15 columns):\n",
      "Age               32560 non-null int64\n",
      "Workclass         32560 non-null float64\n",
      "Fnlwgt            32560 non-null int64\n",
      "Education         32560 non-null float64\n",
      "Education_num     32560 non-null int64\n",
      "Marital_status    32560 non-null float64\n",
      "Occupation        32560 non-null float64\n",
      "Relationship      32560 non-null float64\n",
      "Race              32560 non-null float64\n",
      "Sex               32560 non-null float64\n",
      "Capital_gain      32560 non-null int64\n",
      "Capital_loss      32560 non-null int64\n",
      "Hours_per_week    32560 non-null int64\n",
      "Native_country    32560 non-null float64\n",
      "Income            32560 non-null float64\n",
      "dtypes: float64(9), int64(6)\n",
      "memory usage: 3.7 MB\n"
     ]
    }
   ],
   "source": [
    "#Getting data information\n",
    "df.info()"
   ]
  },
  {
   "cell_type": "markdown",
   "metadata": {},
   "source": [
    "We now have no Null Values and all values in our dataset are in int and float values. Now, we can proceed forward with describing and understanding data."
   ]
  },
  {
   "cell_type": "code",
   "execution_count": 36,
   "metadata": {},
   "outputs": [
    {
     "data": {
      "text/html": [
       "<div>\n",
       "<style scoped>\n",
       "    .dataframe tbody tr th:only-of-type {\n",
       "        vertical-align: middle;\n",
       "    }\n",
       "\n",
       "    .dataframe tbody tr th {\n",
       "        vertical-align: top;\n",
       "    }\n",
       "\n",
       "    .dataframe thead th {\n",
       "        text-align: right;\n",
       "    }\n",
       "</style>\n",
       "<table border=\"1\" class=\"dataframe\">\n",
       "  <thead>\n",
       "    <tr style=\"text-align: right;\">\n",
       "      <th></th>\n",
       "      <th>Age</th>\n",
       "      <th>Workclass</th>\n",
       "      <th>Fnlwgt</th>\n",
       "      <th>Education</th>\n",
       "      <th>Education_num</th>\n",
       "      <th>Marital_status</th>\n",
       "      <th>Occupation</th>\n",
       "      <th>Relationship</th>\n",
       "      <th>Race</th>\n",
       "      <th>Sex</th>\n",
       "      <th>Capital_gain</th>\n",
       "      <th>Capital_loss</th>\n",
       "      <th>Hours_per_week</th>\n",
       "      <th>Native_country</th>\n",
       "      <th>Income</th>\n",
       "    </tr>\n",
       "  </thead>\n",
       "  <tbody>\n",
       "    <tr>\n",
       "      <th>count</th>\n",
       "      <td>32560.000000</td>\n",
       "      <td>32560.000000</td>\n",
       "      <td>3.256000e+04</td>\n",
       "      <td>32560.000000</td>\n",
       "      <td>32560.000000</td>\n",
       "      <td>32560.000000</td>\n",
       "      <td>32560.000000</td>\n",
       "      <td>32560.000000</td>\n",
       "      <td>32560.000000</td>\n",
       "      <td>32560.000000</td>\n",
       "      <td>32560.000000</td>\n",
       "      <td>32560.000000</td>\n",
       "      <td>32560.000000</td>\n",
       "      <td>32560.000000</td>\n",
       "      <td>32560.000000</td>\n",
       "    </tr>\n",
       "    <tr>\n",
       "      <th>mean</th>\n",
       "      <td>38.581634</td>\n",
       "      <td>3.868796</td>\n",
       "      <td>1.897818e+05</td>\n",
       "      <td>10.298249</td>\n",
       "      <td>10.080590</td>\n",
       "      <td>2.611794</td>\n",
       "      <td>6.572912</td>\n",
       "      <td>1.446376</td>\n",
       "      <td>3.665848</td>\n",
       "      <td>0.669195</td>\n",
       "      <td>1077.615172</td>\n",
       "      <td>87.306511</td>\n",
       "      <td>40.437469</td>\n",
       "      <td>36.718796</td>\n",
       "      <td>0.240817</td>\n",
       "    </tr>\n",
       "    <tr>\n",
       "      <th>std</th>\n",
       "      <td>13.640642</td>\n",
       "      <td>1.455879</td>\n",
       "      <td>1.055498e+05</td>\n",
       "      <td>3.870317</td>\n",
       "      <td>2.572709</td>\n",
       "      <td>1.506225</td>\n",
       "      <td>4.228809</td>\n",
       "      <td>1.606794</td>\n",
       "      <td>0.848817</td>\n",
       "      <td>0.470510</td>\n",
       "      <td>7385.402999</td>\n",
       "      <td>402.966116</td>\n",
       "      <td>12.347618</td>\n",
       "      <td>7.823892</td>\n",
       "      <td>0.427586</td>\n",
       "    </tr>\n",
       "    <tr>\n",
       "      <th>min</th>\n",
       "      <td>17.000000</td>\n",
       "      <td>0.000000</td>\n",
       "      <td>1.228500e+04</td>\n",
       "      <td>0.000000</td>\n",
       "      <td>1.000000</td>\n",
       "      <td>0.000000</td>\n",
       "      <td>0.000000</td>\n",
       "      <td>0.000000</td>\n",
       "      <td>0.000000</td>\n",
       "      <td>0.000000</td>\n",
       "      <td>0.000000</td>\n",
       "      <td>0.000000</td>\n",
       "      <td>1.000000</td>\n",
       "      <td>0.000000</td>\n",
       "      <td>0.000000</td>\n",
       "    </tr>\n",
       "    <tr>\n",
       "      <th>25%</th>\n",
       "      <td>28.000000</td>\n",
       "      <td>4.000000</td>\n",
       "      <td>1.178315e+05</td>\n",
       "      <td>9.000000</td>\n",
       "      <td>9.000000</td>\n",
       "      <td>2.000000</td>\n",
       "      <td>3.000000</td>\n",
       "      <td>0.000000</td>\n",
       "      <td>4.000000</td>\n",
       "      <td>0.000000</td>\n",
       "      <td>0.000000</td>\n",
       "      <td>0.000000</td>\n",
       "      <td>40.000000</td>\n",
       "      <td>39.000000</td>\n",
       "      <td>0.000000</td>\n",
       "    </tr>\n",
       "    <tr>\n",
       "      <th>50%</th>\n",
       "      <td>37.000000</td>\n",
       "      <td>4.000000</td>\n",
       "      <td>1.783630e+05</td>\n",
       "      <td>11.000000</td>\n",
       "      <td>10.000000</td>\n",
       "      <td>2.000000</td>\n",
       "      <td>7.000000</td>\n",
       "      <td>1.000000</td>\n",
       "      <td>4.000000</td>\n",
       "      <td>1.000000</td>\n",
       "      <td>0.000000</td>\n",
       "      <td>0.000000</td>\n",
       "      <td>40.000000</td>\n",
       "      <td>39.000000</td>\n",
       "      <td>0.000000</td>\n",
       "    </tr>\n",
       "    <tr>\n",
       "      <th>75%</th>\n",
       "      <td>48.000000</td>\n",
       "      <td>4.000000</td>\n",
       "      <td>2.370545e+05</td>\n",
       "      <td>12.000000</td>\n",
       "      <td>12.000000</td>\n",
       "      <td>4.000000</td>\n",
       "      <td>10.000000</td>\n",
       "      <td>3.000000</td>\n",
       "      <td>4.000000</td>\n",
       "      <td>1.000000</td>\n",
       "      <td>0.000000</td>\n",
       "      <td>0.000000</td>\n",
       "      <td>45.000000</td>\n",
       "      <td>39.000000</td>\n",
       "      <td>0.000000</td>\n",
       "    </tr>\n",
       "    <tr>\n",
       "      <th>max</th>\n",
       "      <td>90.000000</td>\n",
       "      <td>8.000000</td>\n",
       "      <td>1.484705e+06</td>\n",
       "      <td>15.000000</td>\n",
       "      <td>16.000000</td>\n",
       "      <td>6.000000</td>\n",
       "      <td>14.000000</td>\n",
       "      <td>5.000000</td>\n",
       "      <td>4.000000</td>\n",
       "      <td>1.000000</td>\n",
       "      <td>99999.000000</td>\n",
       "      <td>4356.000000</td>\n",
       "      <td>99.000000</td>\n",
       "      <td>41.000000</td>\n",
       "      <td>1.000000</td>\n",
       "    </tr>\n",
       "  </tbody>\n",
       "</table>\n",
       "</div>"
      ],
      "text/plain": [
       "                Age     Workclass        Fnlwgt     Education  Education_num  \\\n",
       "count  32560.000000  32560.000000  3.256000e+04  32560.000000   32560.000000   \n",
       "mean      38.581634      3.868796  1.897818e+05     10.298249      10.080590   \n",
       "std       13.640642      1.455879  1.055498e+05      3.870317       2.572709   \n",
       "min       17.000000      0.000000  1.228500e+04      0.000000       1.000000   \n",
       "25%       28.000000      4.000000  1.178315e+05      9.000000       9.000000   \n",
       "50%       37.000000      4.000000  1.783630e+05     11.000000      10.000000   \n",
       "75%       48.000000      4.000000  2.370545e+05     12.000000      12.000000   \n",
       "max       90.000000      8.000000  1.484705e+06     15.000000      16.000000   \n",
       "\n",
       "       Marital_status    Occupation  Relationship          Race           Sex  \\\n",
       "count    32560.000000  32560.000000  32560.000000  32560.000000  32560.000000   \n",
       "mean         2.611794      6.572912      1.446376      3.665848      0.669195   \n",
       "std          1.506225      4.228809      1.606794      0.848817      0.470510   \n",
       "min          0.000000      0.000000      0.000000      0.000000      0.000000   \n",
       "25%          2.000000      3.000000      0.000000      4.000000      0.000000   \n",
       "50%          2.000000      7.000000      1.000000      4.000000      1.000000   \n",
       "75%          4.000000     10.000000      3.000000      4.000000      1.000000   \n",
       "max          6.000000     14.000000      5.000000      4.000000      1.000000   \n",
       "\n",
       "       Capital_gain  Capital_loss  Hours_per_week  Native_country  \\\n",
       "count  32560.000000  32560.000000    32560.000000    32560.000000   \n",
       "mean    1077.615172     87.306511       40.437469       36.718796   \n",
       "std     7385.402999    402.966116       12.347618        7.823892   \n",
       "min        0.000000      0.000000        1.000000        0.000000   \n",
       "25%        0.000000      0.000000       40.000000       39.000000   \n",
       "50%        0.000000      0.000000       40.000000       39.000000   \n",
       "75%        0.000000      0.000000       45.000000       39.000000   \n",
       "max    99999.000000   4356.000000       99.000000       41.000000   \n",
       "\n",
       "             Income  \n",
       "count  32560.000000  \n",
       "mean       0.240817  \n",
       "std        0.427586  \n",
       "min        0.000000  \n",
       "25%        0.000000  \n",
       "50%        0.000000  \n",
       "75%        0.000000  \n",
       "max        1.000000  "
      ]
     },
     "execution_count": 36,
     "metadata": {},
     "output_type": "execute_result"
    }
   ],
   "source": [
    "#Describing mean, median, min, max values of data\n",
    "df.describe()"
   ]
  },
  {
   "cell_type": "code",
   "execution_count": 37,
   "metadata": {},
   "outputs": [
    {
     "data": {
      "text/plain": [
       "<matplotlib.axes._subplots.AxesSubplot at 0x27f91e3d908>"
      ]
     },
     "execution_count": 37,
     "metadata": {},
     "output_type": "execute_result"
    },
    {
     "data": {
      "image/png": "[encoded data removed]",
      "text/plain": [
       "<Figure size 1584x504 with 2 Axes>"
      ]
     },
     "metadata": {
      "needs_background": "light"
     },
     "output_type": "display_data"
    }
   ],
   "source": [
    "#Visualizing data description\n",
    "import matplotlib.pyplot as plt\n",
    "plt.figure(figsize=(22,7))\n",
    "sns.heatmap(df.describe(),annot=True,linewidths=0.1,linecolor='blue',fmt='0.2f')"
   ]
  },
  {
   "cell_type": "markdown",
   "metadata": {},
   "source": [
    "Observations:\n",
    "    \n",
    "We can see there are very high values in the fnlwgt column. \n",
    "\n",
    "The standard deviation in few columns is very high, hence the data might be skewed.\n",
    "\n",
    "Observing the min and max values, we can also understand about the presence of huge outliers in our data.\n",
    "\n",
    "The values of data are widely scattered from low range to high range within the data, hence scaling data is very important.\n",
    "\n"
   ]
  },
  {
   "cell_type": "markdown",
   "metadata": {},
   "source": [
    "# Correlation Of Columns with the Target Variable"
   ]
  },
  {
   "cell_type": "code",
   "execution_count": 38,
   "metadata": {},
   "outputs": [
    {
     "data": {
      "text/plain": [
       "<matplotlib.axes._subplots.AxesSubplot at 0x27f8be7bcf8>"
      ]
     },
     "execution_count": 38,
     "metadata": {},
     "output_type": "execute_result"
    },
    {
     "data": {
      "image/png": "[encoded data removed]",
      "text/plain": [
       "<Figure size 1584x504 with 2 Axes>"
      ]
     },
     "metadata": {
      "needs_background": "light"
     },
     "output_type": "display_data"
    }
   ],
   "source": [
    "#Plotting correlation of input features with the target Variable\n",
    "plt.figure(figsize=(22,7))\n",
    "sns.heatmap(df.corr(),annot=True,linewidths=0.1,linecolor='black',fmt='0.2f')"
   ]
  },
  {
   "cell_type": "markdown",
   "metadata": {},
   "source": [
    "Observations:\n",
    "    \n",
    "The most positively correalted column with the target variale is education_num\n",
    "\n",
    "The most negatively correalted column with the target variale is Relationship\n",
    "\n",
    "Only three Columns are negatively Correlated with the Target Variable.\n"
   ]
  },
  {
   "cell_type": "code",
   "execution_count": 39,
   "metadata": {},
   "outputs": [
    {
     "data": {
      "text/plain": [
       "Income            1.000000\n",
       "Education_num     0.335182\n",
       "Age               0.234039\n",
       "Hours_per_week    0.229690\n",
       "Capital_gain      0.223333\n",
       "Sex               0.215995\n",
       "Capital_loss      0.150523\n",
       "Education         0.079311\n",
       "Occupation        0.075448\n",
       "Race              0.071853\n",
       "Workclass         0.051645\n",
       "Native_country    0.015845\n",
       "Fnlwgt           -0.009481\n",
       "Marital_status   -0.199295\n",
       "Relationship     -0.250924\n",
       "Name: Income, dtype: float64"
      ]
     },
     "execution_count": 39,
     "metadata": {},
     "output_type": "execute_result"
    }
   ],
   "source": [
    "corr_matrix=df.corr()\n",
    "corr_matrix['Income'].sort_values(ascending=False)"
   ]
  },
  {
   "cell_type": "markdown",
   "metadata": {},
   "source": [
    "We have sorted the Correlation of our input variables with that of the Target Variable in Ascending Order."
   ]
  },
  {
   "cell_type": "markdown",
   "metadata": {},
   "source": [
    "# Checking Skewness"
   ]
  },
  {
   "cell_type": "code",
   "execution_count": 40,
   "metadata": {},
   "outputs": [
    {
     "data": {
      "text/plain": [
       "Age                0.558738\n",
       "Workclass         -0.752280\n",
       "Fnlwgt             1.446972\n",
       "Education         -0.934063\n",
       "Education_num     -0.311630\n",
       "Marital_status    -0.013448\n",
       "Occupation         0.114540\n",
       "Relationship       0.786784\n",
       "Race              -2.435332\n",
       "Sex               -0.719244\n",
       "Capital_gain      11.953690\n",
       "Capital_loss       4.594549\n",
       "Hours_per_week     0.227636\n",
       "Native_country    -3.658235\n",
       "Income             1.212383\n",
       "dtype: float64"
      ]
     },
     "execution_count": 40,
     "metadata": {},
     "output_type": "execute_result"
    }
   ],
   "source": [
    "#Checking Skewness\n",
    "df.skew()"
   ]
  },
  {
   "cell_type": "markdown",
   "metadata": {},
   "source": [
    "We can observe that our Data is highly skewed. Hence,we will check outliers and reduce the Skewness."
   ]
  },
  {
   "cell_type": "markdown",
   "metadata": {},
   "source": [
    "# Checking Outliers"
   ]
  },
  {
   "cell_type": "code",
   "execution_count": 41,
   "metadata": {},
   "outputs": [
    {
     "data": {
      "text/plain": [
       "<matplotlib.axes._subplots.AxesSubplot at 0x27f9272ac50>"
      ]
     },
     "execution_count": 41,
     "metadata": {},
     "output_type": "execute_result"
    },
    {
     "data": {
      "image/png": "[encoded data removed]",
      "text/plain": [
       "<Figure size 432x288 with 1 Axes>"
      ]
     },
     "metadata": {
      "needs_background": "light"
     },
     "output_type": "display_data"
    }
   ],
   "source": [
    "df['Capital_gain'].plot.box()"
   ]
  },
  {
   "cell_type": "markdown",
   "metadata": {},
   "source": [
    "We can see too many outliers present in the capital gain column."
   ]
  },
  {
   "cell_type": "code",
   "execution_count": 42,
   "metadata": {},
   "outputs": [
    {
     "data": {
      "text/plain": [
       "<matplotlib.axes._subplots.AxesSubplot at 0x27f8bf30240>"
      ]
     },
     "execution_count": 42,
     "metadata": {},
     "output_type": "execute_result"
    },
    {
     "data": {
      "image/png": "[encoded data removed]",
      "text/plain": [
       "<Figure size 432x288 with 1 Axes>"
      ]
     },
     "metadata": {
      "needs_background": "light"
     },
     "output_type": "display_data"
    }
   ],
   "source": [
    "df['Capital_loss'].plot.box()"
   ]
  },
  {
   "cell_type": "markdown",
   "metadata": {},
   "source": [
    "Too many outliers are present in the capital loss column. We will now visualize the outliers for all the columns."
   ]
  },
  {
   "cell_type": "code",
   "execution_count": 43,
   "metadata": {},
   "outputs": [
    {
     "data": {
      "text/plain": [
       "Age                   AxesSubplot(0.125,0.71587;0.0824468x0.16413)\n",
       "Workclass          AxesSubplot(0.223936,0.71587;0.0824468x0.16413)\n",
       "Fnlwgt             AxesSubplot(0.322872,0.71587;0.0824468x0.16413)\n",
       "Education          AxesSubplot(0.421809,0.71587;0.0824468x0.16413)\n",
       "Education_num      AxesSubplot(0.520745,0.71587;0.0824468x0.16413)\n",
       "Marital_status     AxesSubplot(0.619681,0.71587;0.0824468x0.16413)\n",
       "Occupation         AxesSubplot(0.718617,0.71587;0.0824468x0.16413)\n",
       "Relationship       AxesSubplot(0.817553,0.71587;0.0824468x0.16413)\n",
       "Race                 AxesSubplot(0.125,0.518913;0.0824468x0.16413)\n",
       "Sex               AxesSubplot(0.223936,0.518913;0.0824468x0.16413)\n",
       "Capital_gain      AxesSubplot(0.322872,0.518913;0.0824468x0.16413)\n",
       "Capital_loss      AxesSubplot(0.421809,0.518913;0.0824468x0.16413)\n",
       "Hours_per_week    AxesSubplot(0.520745,0.518913;0.0824468x0.16413)\n",
       "Native_country    AxesSubplot(0.619681,0.518913;0.0824468x0.16413)\n",
       "Income            AxesSubplot(0.718617,0.518913;0.0824468x0.16413)\n",
       "dtype: object"
      ]
     },
     "execution_count": 43,
     "metadata": {},
     "output_type": "execute_result"
    },
    {
     "data": {
      "image/png": "[encoded data removed]",
      "text/plain": [
       "<Figure size 720x1440 with 32 Axes>"
      ]
     },
     "metadata": {
      "needs_background": "light"
     },
     "output_type": "display_data"
    }
   ],
   "source": [
    "#Multivariate analysis to check outliers of all columns\n",
    "df.plot(kind='box',subplots=True,layout=(4,8),figsize=(10,20))"
   ]
  },
  {
   "cell_type": "markdown",
   "metadata": {},
   "source": [
    "We can observe that there are too many outliers present in the majority of our columns. We tried resolving these outliers but we loose 15.47% of data which is a huge data loss and we might miss out on very important information. Hence, we will not resolve these outliers and proceed forawrd."
   ]
  },
  {
   "cell_type": "markdown",
   "metadata": {},
   "source": [
    "# Separating the Column into x & y"
   ]
  },
  {
   "cell_type": "code",
   "execution_count": 44,
   "metadata": {},
   "outputs": [],
   "source": [
    "#Creating x & y columns \n",
    "x=df.drop('Income',axis=1)\n",
    "y=df['Income']"
   ]
  },
  {
   "cell_type": "markdown",
   "metadata": {},
   "source": [
    "# Transforming Data to Reduce Skewness"
   ]
  },
  {
   "cell_type": "code",
   "execution_count": 45,
   "metadata": {},
   "outputs": [
    {
     "data": {
      "text/plain": [
       "array([[ 0.89194656,  1.64422286, -1.08988899, ..., -0.2212132 ,\n",
       "        -2.22151541,  0.32907402],\n",
       "       [ 0.10271741,  0.01186427,  0.39874263, ..., -0.2212132 ,\n",
       "        -0.03557001,  0.32907402],\n",
       "       [ 1.06438077,  0.01186427,  0.56254016, ..., -0.2212132 ,\n",
       "        -0.03557001,  0.32907402],\n",
       "       ...,\n",
       "       [ 1.33455599,  0.01186427, -0.2197547 , ..., -0.2212132 ,\n",
       "        -0.03557001,  0.32907402],\n",
       "       [-1.35834147,  0.01186427,  0.27166793, ..., -0.2212132 ,\n",
       "        -1.65499204,  0.32907402],\n",
       "       [ 1.00782289,  0.79430139,  0.98216482, ..., -0.2212132 ,\n",
       "        -0.03557001,  0.32907402]])"
      ]
     },
     "execution_count": 45,
     "metadata": {},
     "output_type": "execute_result"
    }
   ],
   "source": [
    "#Using power transform to remove skewness\n",
    "from sklearn.preprocessing import power_transform\n",
    "import warnings\n",
    "warnings.filterwarnings('ignore')\n",
    "x=power_transform(x,method='yeo-johnson')\n",
    "x"
   ]
  },
  {
   "cell_type": "markdown",
   "metadata": {},
   "source": [
    "# Scaling Data Using Standard Scaler"
   ]
  },
  {
   "cell_type": "code",
   "execution_count": 46,
   "metadata": {},
   "outputs": [],
   "source": [
    "#importing library for scaling\n",
    "from sklearn.preprocessing import StandardScaler"
   ]
  },
  {
   "cell_type": "code",
   "execution_count": 47,
   "metadata": {},
   "outputs": [
    {
     "data": {
      "text/plain": [
       "array([[ 0.89194656,  1.64422286, -1.08988899, ..., -0.2212132 ,\n",
       "        -2.22151541,  0.32907402],\n",
       "       [ 0.10271741,  0.01186427,  0.39874263, ..., -0.2212132 ,\n",
       "        -0.03557001,  0.32907402],\n",
       "       [ 1.06438077,  0.01186427,  0.56254016, ..., -0.2212132 ,\n",
       "        -0.03557001,  0.32907402],\n",
       "       ...,\n",
       "       [ 1.33455599,  0.01186427, -0.2197547 , ..., -0.2212132 ,\n",
       "        -0.03557001,  0.32907402],\n",
       "       [-1.35834147,  0.01186427,  0.27166793, ..., -0.2212132 ,\n",
       "        -1.65499204,  0.32907402],\n",
       "       [ 1.00782289,  0.79430139,  0.98216482, ..., -0.2212132 ,\n",
       "        -0.03557001,  0.32907402]])"
      ]
     },
     "execution_count": 47,
     "metadata": {},
     "output_type": "execute_result"
    }
   ],
   "source": [
    "#Scaling our data to improve model performance\n",
    "sc=StandardScaler()\n",
    "x=sc.fit_transform(x)\n",
    "x"
   ]
  },
  {
   "cell_type": "markdown",
   "metadata": {},
   "source": [
    "# Model Building"
   ]
  },
  {
   "cell_type": "code",
   "execution_count": 48,
   "metadata": {},
   "outputs": [],
   "source": [
    "#importing Libraries for buiding model\n",
    "from sklearn.naive_bayes import GaussianNB\n",
    "from sklearn.linear_model import LogisticRegression\n",
    "from sklearn.svm import SVC\n",
    "from sklearn.metrics import accuracy_score\n",
    "from sklearn.metrics import confusion_matrix,classification_report\n",
    "from sklearn.model_selection import train_test_split\n",
    "import warnings\n",
    "warnings.filterwarnings('ignore')"
   ]
  },
  {
   "cell_type": "code",
   "execution_count": 49,
   "metadata": {},
   "outputs": [
    {
     "name": "stdout",
     "output_type": "stream",
     "text": [
      "At random state 0, the training accuracy is: 0.8255912162162162\n",
      "At random state 0, the testing accuracy is: 0.8250921375921376\n",
      "\n",
      "\n",
      "At random state 1, the training accuracy is: 0.824823402948403\n",
      "At random state 1, the testing accuracy is: 0.8307739557739557\n",
      "\n",
      "\n",
      "At random state 2, the training accuracy is: 0.8257447788697788\n",
      "At random state 2, the testing accuracy is: 0.8246314496314496\n",
      "\n",
      "\n",
      "At random state 3, the training accuracy is: 0.8264358108108109\n",
      "At random state 3, the testing accuracy is: 0.8209459459459459\n",
      "\n",
      "\n",
      "At random state 4, the training accuracy is: 0.8262438574938575\n",
      "At random state 4, the testing accuracy is: 0.8217137592137592\n",
      "\n",
      "\n",
      "At random state 5, the training accuracy is: 0.8239404176904177\n",
      "At random state 5, the testing accuracy is: 0.8295454545454546\n",
      "\n",
      "\n",
      "At random state 6, the training accuracy is: 0.8260135135135135\n",
      "At random state 6, the testing accuracy is: 0.8230958230958231\n",
      "\n",
      "\n",
      "At random state 7, the training accuracy is: 0.8263206388206388\n",
      "At random state 7, the testing accuracy is: 0.8210995085995086\n",
      "\n",
      "\n",
      "At random state 8, the training accuracy is: 0.8227886977886978\n",
      "At random state 8, the testing accuracy is: 0.8349201474201474\n",
      "\n",
      "\n",
      "At random state 9, the training accuracy is: 0.8247850122850123\n",
      "At random state 9, the testing accuracy is: 0.8272420147420148\n",
      "\n",
      "\n",
      "At random state 10, the training accuracy is: 0.8247466216216216\n",
      "At random state 10, the testing accuracy is: 0.8266277641277642\n",
      "\n",
      "\n",
      "At random state 11, the training accuracy is: 0.8238636363636364\n",
      "At random state 11, the testing accuracy is: 0.8301597051597052\n",
      "\n",
      "\n",
      "At random state 12, the training accuracy is: 0.8269348894348895\n",
      "At random state 12, the testing accuracy is: 0.8195638820638821\n",
      "\n",
      "\n",
      "At random state 13, the training accuracy is: 0.8253992628992629\n",
      "At random state 13, the testing accuracy is: 0.8247850122850123\n",
      "\n",
      "\n",
      "At random state 14, the training accuracy is: 0.824708230958231\n",
      "At random state 14, the testing accuracy is: 0.8290847665847666\n",
      "\n",
      "\n",
      "At random state 15, the training accuracy is: 0.8246314496314496\n",
      "At random state 15, the testing accuracy is: 0.8292383292383292\n",
      "\n",
      "\n",
      "At random state 16, the training accuracy is: 0.8247466216216216\n",
      "At random state 16, the testing accuracy is: 0.8273955773955773\n",
      "\n",
      "\n",
      "At random state 17, the training accuracy is: 0.8256296068796068\n",
      "At random state 17, the testing accuracy is: 0.8241707616707616\n",
      "\n",
      "\n",
      "At random state 18, the training accuracy is: 0.8233261670761671\n",
      "At random state 18, the testing accuracy is: 0.8309275184275184\n",
      "\n",
      "\n",
      "At random state 19, the training accuracy is: 0.8245162776412777\n",
      "At random state 19, the testing accuracy is: 0.8272420147420148\n",
      "\n",
      "\n",
      "At random state 20, the training accuracy is: 0.8264742014742015\n",
      "At random state 20, the testing accuracy is: 0.8195638820638821\n",
      "\n",
      "\n",
      "At random state 21, the training accuracy is: 0.8238636363636364\n",
      "At random state 21, the testing accuracy is: 0.832002457002457\n",
      "\n",
      "\n",
      "At random state 22, the training accuracy is: 0.8231342137592138\n",
      "At random state 22, the testing accuracy is: 0.832463144963145\n",
      "\n",
      "\n",
      "At random state 23, the training accuracy is: 0.8249385749385749\n",
      "At random state 23, the testing accuracy is: 0.8266277641277642\n",
      "\n",
      "\n",
      "At random state 24, the training accuracy is: 0.8264358108108109\n",
      "At random state 24, the testing accuracy is: 0.8195638820638821\n",
      "\n",
      "\n",
      "At random state 25, the training accuracy is: 0.8240939803439803\n",
      "At random state 25, the testing accuracy is: 0.831541769041769\n",
      "\n",
      "\n",
      "At random state 26, the training accuracy is: 0.824247542997543\n",
      "At random state 26, the testing accuracy is: 0.8258599508599509\n",
      "\n",
      "\n",
      "At random state 27, the training accuracy is: 0.8245546683046683\n",
      "At random state 27, the testing accuracy is: 0.8287776412776413\n",
      "\n",
      "\n",
      "At random state 28, the training accuracy is: 0.8246698402948403\n",
      "At random state 28, the testing accuracy is: 0.8277027027027027\n",
      "\n",
      "\n",
      "At random state 29, the training accuracy is: 0.824593058968059\n",
      "At random state 29, the testing accuracy is: 0.8260135135135135\n",
      "\n",
      "\n",
      "At random state 30, the training accuracy is: 0.8238252457002457\n",
      "At random state 30, the testing accuracy is: 0.8300061425061425\n",
      "\n",
      "\n",
      "At random state 31, the training accuracy is: 0.8255528255528255\n",
      "At random state 31, the testing accuracy is: 0.8249385749385749\n",
      "\n",
      "\n",
      "At random state 32, the training accuracy is: 0.8250153562653563\n",
      "At random state 32, the testing accuracy is: 0.8261670761670762\n",
      "\n",
      "\n",
      "At random state 33, the training accuracy is: 0.8245162776412777\n",
      "At random state 33, the testing accuracy is: 0.8292383292383292\n",
      "\n",
      "\n",
      "At random state 34, the training accuracy is: 0.824823402948403\n",
      "At random state 34, the testing accuracy is: 0.8261670761670762\n",
      "\n",
      "\n",
      "At random state 35, the training accuracy is: 0.8251305282555282\n",
      "At random state 35, the testing accuracy is: 0.8250921375921376\n",
      "\n",
      "\n",
      "At random state 36, the training accuracy is: 0.8276259213759214\n",
      "At random state 36, the testing accuracy is: 0.816492628992629\n",
      "\n",
      "\n",
      "At random state 37, the training accuracy is: 0.8264358108108109\n",
      "At random state 37, the testing accuracy is: 0.8209459459459459\n",
      "\n",
      "\n",
      "At random state 38, the training accuracy is: 0.8259751228501229\n",
      "At random state 38, the testing accuracy is: 0.8246314496314496\n",
      "\n",
      "\n",
      "At random state 39, the training accuracy is: 0.8257063882063882\n",
      "At random state 39, the testing accuracy is: 0.8237100737100738\n",
      "\n",
      "\n",
      "At random state 40, the training accuracy is: 0.8249385749385749\n",
      "At random state 40, the testing accuracy is: 0.8266277641277642\n",
      "\n",
      "\n",
      "At random state 41, the training accuracy is: 0.8245162776412777\n",
      "At random state 41, the testing accuracy is: 0.8253992628992629\n",
      "\n",
      "\n",
      "At random state 42, the training accuracy is: 0.8262438574938575\n",
      "At random state 42, the testing accuracy is: 0.8218673218673219\n",
      "\n",
      "\n",
      "At random state 43, the training accuracy is: 0.8250537469287469\n",
      "At random state 43, the testing accuracy is: 0.824017199017199\n",
      "\n",
      "\n",
      "At random state 44, the training accuracy is: 0.8269732800982801\n",
      "At random state 44, the testing accuracy is: 0.8206388206388207\n",
      "\n",
      "\n",
      "At random state 45, the training accuracy is: 0.8239788083538083\n",
      "At random state 45, the testing accuracy is: 0.8327702702702703\n",
      "\n",
      "\n",
      "At random state 46, the training accuracy is: 0.8261670761670762\n",
      "At random state 46, the testing accuracy is: 0.8207923832923832\n",
      "\n",
      "\n",
      "At random state 47, the training accuracy is: 0.8244394963144963\n",
      "At random state 47, the testing accuracy is: 0.8301597051597052\n",
      "\n",
      "\n",
      "At random state 48, the training accuracy is: 0.8262822481572482\n",
      "At random state 48, the testing accuracy is: 0.8203316953316954\n",
      "\n",
      "\n",
      "At random state 49, the training accuracy is: 0.8257447788697788\n",
      "At random state 49, the testing accuracy is: 0.8229422604422605\n",
      "\n",
      "\n",
      "At random state 50, the training accuracy is: 0.8245546683046683\n",
      "At random state 50, the testing accuracy is: 0.8260135135135135\n",
      "\n",
      "\n",
      "At random state 51, the training accuracy is: 0.8277027027027027\n",
      "At random state 51, the testing accuracy is: 0.8178746928746928\n",
      "\n",
      "\n",
      "At random state 52, the training accuracy is: 0.8250153562653563\n",
      "At random state 52, the testing accuracy is: 0.8269348894348895\n",
      "\n",
      "\n",
      "At random state 53, the training accuracy is: 0.8250153562653563\n",
      "At random state 53, the testing accuracy is: 0.8277027027027027\n",
      "\n",
      "\n",
      "At random state 54, the training accuracy is: 0.8244011056511057\n",
      "At random state 54, the testing accuracy is: 0.828470515970516\n",
      "\n",
      "\n",
      "At random state 55, the training accuracy is: 0.8247850122850123\n",
      "At random state 55, the testing accuracy is: 0.8258599508599509\n",
      "\n",
      "\n",
      "At random state 56, the training accuracy is: 0.8227119164619164\n",
      "At random state 56, the testing accuracy is: 0.8339987714987716\n",
      "\n",
      "\n",
      "At random state 57, the training accuracy is: 0.8261670761670762\n",
      "At random state 57, the testing accuracy is: 0.8241707616707616\n",
      "\n",
      "\n",
      "At random state 58, the training accuracy is: 0.828009828009828\n",
      "At random state 58, the testing accuracy is: 0.8163390663390664\n",
      "\n",
      "\n",
      "At random state 59, the training accuracy is: 0.8253992628992629\n",
      "At random state 59, the testing accuracy is: 0.8266277641277642\n",
      "\n",
      "\n",
      "At random state 60, the training accuracy is: 0.8253992628992629\n",
      "At random state 60, the testing accuracy is: 0.8260135135135135\n",
      "\n",
      "\n",
      "At random state 61, the training accuracy is: 0.8265509828009828\n",
      "At random state 61, the testing accuracy is: 0.8206388206388207\n",
      "\n",
      "\n",
      "At random state 62, the training accuracy is: 0.8256296068796068\n",
      "At random state 62, the testing accuracy is: 0.8206388206388207\n",
      "\n",
      "\n"
     ]
    },
    {
     "name": "stdout",
     "output_type": "stream",
     "text": [
      "At random state 63, the training accuracy is: 0.8256296068796068\n",
      "At random state 63, the testing accuracy is: 0.8237100737100738\n",
      "\n",
      "\n",
      "At random state 64, the training accuracy is: 0.8260519041769042\n",
      "At random state 64, the testing accuracy is: 0.8230958230958231\n",
      "\n",
      "\n",
      "At random state 65, the training accuracy is: 0.8238636363636364\n",
      "At random state 65, the testing accuracy is: 0.8272420147420148\n",
      "\n",
      "\n",
      "At random state 66, the training accuracy is: 0.824593058968059\n",
      "At random state 66, the testing accuracy is: 0.8253992628992629\n",
      "\n",
      "\n",
      "At random state 67, the training accuracy is: 0.8257447788697788\n",
      "At random state 67, the testing accuracy is: 0.8244778869778869\n",
      "\n",
      "\n",
      "At random state 68, the training accuracy is: 0.8241707616707616\n",
      "At random state 68, the testing accuracy is: 0.8313882063882064\n",
      "\n",
      "\n",
      "At random state 69, the training accuracy is: 0.8252457002457002\n",
      "At random state 69, the testing accuracy is: 0.828470515970516\n",
      "\n",
      "\n",
      "At random state 70, the training accuracy is: 0.8277410933660934\n",
      "At random state 70, the testing accuracy is: 0.8181818181818182\n",
      "\n",
      "\n",
      "At random state 71, the training accuracy is: 0.8254760442260443\n",
      "At random state 71, the testing accuracy is: 0.8250921375921376\n",
      "\n",
      "\n",
      "At random state 72, the training accuracy is: 0.8252457002457002\n",
      "At random state 72, the testing accuracy is: 0.8267813267813268\n",
      "\n",
      "\n",
      "At random state 73, the training accuracy is: 0.8236332923832924\n",
      "At random state 73, the testing accuracy is: 0.828470515970516\n",
      "\n",
      "\n",
      "At random state 74, the training accuracy is: 0.8220592751842751\n",
      "At random state 74, the testing accuracy is: 0.8356879606879607\n",
      "\n",
      "\n",
      "At random state 75, the training accuracy is: 0.8248617936117936\n",
      "At random state 75, the testing accuracy is: 0.8252457002457002\n",
      "\n",
      "\n",
      "At random state 76, the training accuracy is: 0.8252073095823096\n",
      "At random state 76, the testing accuracy is: 0.8278562653562653\n",
      "\n",
      "\n",
      "At random state 77, the training accuracy is: 0.8250153562653563\n",
      "At random state 77, the testing accuracy is: 0.8260135135135135\n",
      "\n",
      "\n",
      "At random state 78, the training accuracy is: 0.8250921375921376\n",
      "At random state 78, the testing accuracy is: 0.8247850122850123\n",
      "\n",
      "\n",
      "At random state 79, the training accuracy is: 0.8263974201474201\n",
      "At random state 79, the testing accuracy is: 0.8220208845208845\n",
      "\n",
      "\n",
      "At random state 80, the training accuracy is: 0.8261670761670762\n",
      "At random state 80, the testing accuracy is: 0.8220208845208845\n",
      "\n",
      "\n",
      "At random state 81, the training accuracy is: 0.8251305282555282\n",
      "At random state 81, the testing accuracy is: 0.827088452088452\n",
      "\n",
      "\n",
      "At random state 82, the training accuracy is: 0.824593058968059\n",
      "At random state 82, the testing accuracy is: 0.8267813267813268\n",
      "\n",
      "\n",
      "At random state 83, the training accuracy is: 0.8220976658476659\n",
      "At random state 83, the testing accuracy is: 0.840448402948403\n",
      "\n",
      "\n",
      "At random state 84, the training accuracy is: 0.8250153562653563\n",
      "At random state 84, the testing accuracy is: 0.8283169533169533\n",
      "\n",
      "\n",
      "At random state 85, the training accuracy is: 0.8257063882063882\n",
      "At random state 85, the testing accuracy is: 0.8237100737100738\n",
      "\n",
      "\n",
      "At random state 86, the training accuracy is: 0.8229038697788698\n",
      "At random state 86, the testing accuracy is: 0.8341523341523341\n",
      "\n",
      "\n",
      "At random state 87, the training accuracy is: 0.8260135135135135\n",
      "At random state 87, the testing accuracy is: 0.8212530712530712\n",
      "\n",
      "\n",
      "At random state 88, the training accuracy is: 0.8253224815724816\n",
      "At random state 88, the testing accuracy is: 0.8224815724815725\n",
      "\n",
      "\n",
      "At random state 89, the training accuracy is: 0.8255528255528255\n",
      "At random state 89, the testing accuracy is: 0.8226351351351351\n",
      "\n",
      "\n",
      "At random state 90, the training accuracy is: 0.8232877764127764\n",
      "At random state 90, the testing accuracy is: 0.8321560196560197\n",
      "\n",
      "\n",
      "At random state 91, the training accuracy is: 0.8265509828009828\n",
      "At random state 91, the testing accuracy is: 0.8218673218673219\n",
      "\n",
      "\n",
      "At random state 92, the training accuracy is: 0.8254760442260443\n",
      "At random state 92, the testing accuracy is: 0.8273955773955773\n",
      "\n",
      "\n",
      "At random state 93, the training accuracy is: 0.8261286855036855\n",
      "At random state 93, the testing accuracy is: 0.8244778869778869\n",
      "\n",
      "\n",
      "At random state 94, the training accuracy is: 0.8242091523341524\n",
      "At random state 94, the testing accuracy is: 0.8289312039312039\n",
      "\n",
      "\n",
      "At random state 95, the training accuracy is: 0.8254760442260443\n",
      "At random state 95, the testing accuracy is: 0.8252457002457002\n",
      "\n",
      "\n",
      "At random state 96, the training accuracy is: 0.8256679975429976\n",
      "At random state 96, the testing accuracy is: 0.8247850122850123\n",
      "\n",
      "\n",
      "At random state 97, the training accuracy is: 0.8261670761670762\n",
      "At random state 97, the testing accuracy is: 0.8247850122850123\n",
      "\n",
      "\n",
      "At random state 98, the training accuracy is: 0.8268964987714987\n",
      "At random state 98, the testing accuracy is: 0.8183353808353808\n",
      "\n",
      "\n",
      "At random state 99, the training accuracy is: 0.8269732800982801\n",
      "At random state 99, the testing accuracy is: 0.8184889434889435\n",
      "\n",
      "\n",
      "At random state 100, the training accuracy is: 0.8252457002457002\n",
      "At random state 100, the testing accuracy is: 0.8261670761670762\n",
      "\n",
      "\n",
      "At random state 101, the training accuracy is: 0.8242859336609336\n",
      "At random state 101, the testing accuracy is: 0.8286240786240786\n",
      "\n",
      "\n",
      "At random state 102, the training accuracy is: 0.8247466216216216\n",
      "At random state 102, the testing accuracy is: 0.8289312039312039\n",
      "\n",
      "\n",
      "At random state 103, the training accuracy is: 0.8237100737100738\n",
      "At random state 103, the testing accuracy is: 0.8318488943488943\n",
      "\n",
      "\n",
      "At random state 104, the training accuracy is: 0.8252840909090909\n",
      "At random state 104, the testing accuracy is: 0.8253992628992629\n",
      "\n",
      "\n",
      "At random state 105, the training accuracy is: 0.8263974201474201\n",
      "At random state 105, the testing accuracy is: 0.8223280098280098\n",
      "\n",
      "\n",
      "At random state 106, the training accuracy is: 0.8260135135135135\n",
      "At random state 106, the testing accuracy is: 0.8220208845208845\n",
      "\n",
      "\n",
      "At random state 107, the training accuracy is: 0.824593058968059\n",
      "At random state 107, the testing accuracy is: 0.8250921375921376\n",
      "\n",
      "\n",
      "At random state 108, the training accuracy is: 0.8263206388206388\n",
      "At random state 108, the testing accuracy is: 0.8218673218673219\n",
      "\n",
      "\n",
      "At random state 109, the training accuracy is: 0.8204468673218673\n",
      "At random state 109, the testing accuracy is: 0.8429054054054054\n",
      "\n",
      "\n",
      "At random state 110, the training accuracy is: 0.8273571867321867\n",
      "At random state 110, the testing accuracy is: 0.8207923832923832\n",
      "\n",
      "\n",
      "At random state 111, the training accuracy is: 0.8255528255528255\n",
      "At random state 111, the testing accuracy is: 0.8247850122850123\n",
      "\n",
      "\n",
      "At random state 112, the training accuracy is: 0.8237100737100738\n",
      "At random state 112, the testing accuracy is: 0.8309275184275184\n",
      "\n",
      "\n",
      "At random state 113, the training accuracy is: 0.8254376535626535\n",
      "At random state 113, the testing accuracy is: 0.8257063882063882\n",
      "\n",
      "\n",
      "At random state 114, the training accuracy is: 0.8275107493857494\n",
      "At random state 114, the testing accuracy is: 0.816953316953317\n",
      "\n",
      "\n",
      "At random state 115, the training accuracy is: 0.8239404176904177\n",
      "At random state 115, the testing accuracy is: 0.8318488943488943\n",
      "\n",
      "\n",
      "At random state 116, the training accuracy is: 0.8251305282555282\n",
      "At random state 116, the testing accuracy is: 0.8278562653562653\n",
      "\n",
      "\n",
      "At random state 117, the training accuracy is: 0.8255528255528255\n",
      "At random state 117, the testing accuracy is: 0.8241707616707616\n",
      "\n",
      "\n",
      "At random state 118, the training accuracy is: 0.8266277641277642\n",
      "At random state 118, the testing accuracy is: 0.8220208845208845\n",
      "\n",
      "\n",
      "At random state 119, the training accuracy is: 0.8241707616707616\n",
      "At random state 119, the testing accuracy is: 0.8287776412776413\n",
      "\n",
      "\n",
      "At random state 120, the training accuracy is: 0.8244394963144963\n",
      "At random state 120, the testing accuracy is: 0.8255528255528255\n",
      "\n",
      "\n",
      "At random state 121, the training accuracy is: 0.8252457002457002\n",
      "At random state 121, the testing accuracy is: 0.8263206388206388\n",
      "\n",
      "\n",
      "At random state 122, the training accuracy is: 0.8237484643734644\n",
      "At random state 122, the testing accuracy is: 0.8353808353808354\n",
      "\n",
      "\n",
      "At random state 123, the training accuracy is: 0.8233261670761671\n",
      "At random state 123, the testing accuracy is: 0.8346130221130221\n",
      "\n",
      "\n",
      "At random state 124, the training accuracy is: 0.8249001842751843\n",
      "At random state 124, the testing accuracy is: 0.8258599508599509\n",
      "\n",
      "\n",
      "At random state 125, the training accuracy is: 0.8249385749385749\n",
      "At random state 125, the testing accuracy is: 0.8243243243243243\n",
      "\n",
      "\n",
      "At random state 126, the training accuracy is: 0.824823402948403\n",
      "At random state 126, the testing accuracy is: 0.8264742014742015\n",
      "\n",
      "\n"
     ]
    },
    {
     "name": "stdout",
     "output_type": "stream",
     "text": [
      "At random state 127, the training accuracy is: 0.8261286855036855\n",
      "At random state 127, the testing accuracy is: 0.8226351351351351\n",
      "\n",
      "\n",
      "At random state 128, the training accuracy is: 0.8258599508599509\n",
      "At random state 128, the testing accuracy is: 0.8227886977886978\n",
      "\n",
      "\n",
      "At random state 129, the training accuracy is: 0.8267813267813268\n",
      "At random state 129, the testing accuracy is: 0.8198710073710074\n",
      "\n",
      "\n",
      "At random state 130, the training accuracy is: 0.824593058968059\n",
      "At random state 130, the testing accuracy is: 0.8298525798525799\n",
      "\n",
      "\n",
      "At random state 131, the training accuracy is: 0.8240939803439803\n",
      "At random state 131, the testing accuracy is: 0.831541769041769\n",
      "\n",
      "\n",
      "At random state 132, the training accuracy is: 0.8258983415233415\n",
      "At random state 132, the testing accuracy is: 0.8247850122850123\n",
      "\n",
      "\n",
      "At random state 133, the training accuracy is: 0.8250921375921376\n",
      "At random state 133, the testing accuracy is: 0.82754914004914\n",
      "\n",
      "\n",
      "At random state 134, the training accuracy is: 0.824708230958231\n",
      "At random state 134, the testing accuracy is: 0.8260135135135135\n",
      "\n",
      "\n",
      "At random state 135, the training accuracy is: 0.824823402948403\n",
      "At random state 135, the testing accuracy is: 0.82754914004914\n",
      "\n",
      "\n",
      "At random state 136, the training accuracy is: 0.8256296068796068\n",
      "At random state 136, the testing accuracy is: 0.8232493857493858\n",
      "\n",
      "\n",
      "At random state 137, the training accuracy is: 0.8247466216216216\n",
      "At random state 137, the testing accuracy is: 0.8264742014742015\n",
      "\n",
      "\n",
      "At random state 138, the training accuracy is: 0.8253608722358723\n",
      "At random state 138, the testing accuracy is: 0.8232493857493858\n",
      "\n",
      "\n",
      "At random state 139, the training accuracy is: 0.8248617936117936\n",
      "At random state 139, the testing accuracy is: 0.8273955773955773\n",
      "\n",
      "\n",
      "At random state 140, the training accuracy is: 0.8250153562653563\n",
      "At random state 140, the testing accuracy is: 0.8257063882063882\n",
      "\n",
      "\n",
      "At random state 141, the training accuracy is: 0.8249001842751843\n",
      "At random state 141, the testing accuracy is: 0.8261670761670762\n",
      "\n",
      "\n",
      "At random state 142, the training accuracy is: 0.8257063882063882\n",
      "At random state 142, the testing accuracy is: 0.8243243243243243\n",
      "\n",
      "\n",
      "At random state 143, the training accuracy is: 0.8250153562653563\n",
      "At random state 143, the testing accuracy is: 0.8241707616707616\n",
      "\n",
      "\n",
      "At random state 144, the training accuracy is: 0.8231342137592138\n",
      "At random state 144, the testing accuracy is: 0.8333845208845209\n",
      "\n",
      "\n",
      "At random state 145, the training accuracy is: 0.8255528255528255\n",
      "At random state 145, the testing accuracy is: 0.8258599508599509\n",
      "\n",
      "\n",
      "At random state 146, the training accuracy is: 0.8251305282555282\n",
      "At random state 146, the testing accuracy is: 0.82754914004914\n",
      "\n",
      "\n",
      "At random state 147, the training accuracy is: 0.8255528255528255\n",
      "At random state 147, the testing accuracy is: 0.8244778869778869\n",
      "\n",
      "\n",
      "At random state 148, the training accuracy is: 0.8261286855036855\n",
      "At random state 148, the testing accuracy is: 0.8230958230958231\n",
      "\n",
      "\n",
      "At random state 149, the training accuracy is: 0.8239404176904177\n",
      "At random state 149, the testing accuracy is: 0.8312346437346437\n",
      "\n",
      "\n",
      "At random state 150, the training accuracy is: 0.8247466216216216\n",
      "At random state 150, the testing accuracy is: 0.8293918918918919\n",
      "\n",
      "\n",
      "At random state 151, the training accuracy is: 0.8238252457002457\n",
      "At random state 151, the testing accuracy is: 0.8272420147420148\n",
      "\n",
      "\n",
      "At random state 152, the training accuracy is: 0.8252840909090909\n",
      "At random state 152, the testing accuracy is: 0.8253992628992629\n",
      "\n",
      "\n",
      "At random state 153, the training accuracy is: 0.8250921375921376\n",
      "At random state 153, the testing accuracy is: 0.8249385749385749\n",
      "\n",
      "\n",
      "At random state 154, the training accuracy is: 0.8235565110565111\n",
      "At random state 154, the testing accuracy is: 0.8318488943488943\n",
      "\n",
      "\n",
      "At random state 155, the training accuracy is: 0.8244011056511057\n",
      "At random state 155, the testing accuracy is: 0.828009828009828\n",
      "\n",
      "\n",
      "At random state 156, the training accuracy is: 0.8261286855036855\n",
      "At random state 156, the testing accuracy is: 0.8229422604422605\n",
      "\n",
      "\n",
      "At random state 157, the training accuracy is: 0.8244778869778869\n",
      "At random state 157, the testing accuracy is: 0.8278562653562653\n",
      "\n",
      "\n",
      "At random state 158, the training accuracy is: 0.827664312039312\n",
      "At random state 158, the testing accuracy is: 0.816031941031941\n",
      "\n",
      "\n",
      "At random state 159, the training accuracy is: 0.8244394963144963\n",
      "At random state 159, the testing accuracy is: 0.8304668304668305\n",
      "\n",
      "\n",
      "At random state 160, the training accuracy is: 0.8261670761670762\n",
      "At random state 160, the testing accuracy is: 0.8191031941031941\n",
      "\n",
      "\n",
      "At random state 161, the training accuracy is: 0.8234029484029484\n",
      "At random state 161, the testing accuracy is: 0.8346130221130221\n",
      "\n",
      "\n",
      "At random state 162, the training accuracy is: 0.8247466216216216\n",
      "At random state 162, the testing accuracy is: 0.8252457002457002\n",
      "\n",
      "\n",
      "At random state 163, the training accuracy is: 0.8249001842751843\n",
      "At random state 163, the testing accuracy is: 0.8286240786240786\n",
      "\n",
      "\n",
      "At random state 164, the training accuracy is: 0.8237484643734644\n",
      "At random state 164, the testing accuracy is: 0.8327702702702703\n",
      "\n",
      "\n",
      "At random state 165, the training accuracy is: 0.8255144348894349\n",
      "At random state 165, the testing accuracy is: 0.8229422604422605\n",
      "\n",
      "\n",
      "At random state 166, the training accuracy is: 0.8250153562653563\n",
      "At random state 166, the testing accuracy is: 0.8249385749385749\n",
      "\n",
      "\n",
      "At random state 167, the training accuracy is: 0.824017199017199\n",
      "At random state 167, the testing accuracy is: 0.828470515970516\n",
      "\n",
      "\n",
      "At random state 168, the training accuracy is: 0.8257831695331695\n",
      "At random state 168, the testing accuracy is: 0.8206388206388207\n",
      "\n",
      "\n",
      "At random state 169, the training accuracy is: 0.8261286855036855\n",
      "At random state 169, the testing accuracy is: 0.8221744471744472\n",
      "\n",
      "\n",
      "At random state 170, the training accuracy is: 0.8260135135135135\n",
      "At random state 170, the testing accuracy is: 0.8230958230958231\n",
      "\n",
      "\n",
      "At random state 171, the training accuracy is: 0.8250921375921376\n",
      "At random state 171, the testing accuracy is: 0.8277027027027027\n",
      "\n",
      "\n",
      "At random state 172, the training accuracy is: 0.8250537469287469\n",
      "At random state 172, the testing accuracy is: 0.8300061425061425\n",
      "\n",
      "\n",
      "At random state 173, the training accuracy is: 0.8264742014742015\n",
      "At random state 173, the testing accuracy is: 0.8226351351351351\n",
      "\n",
      "\n",
      "At random state 174, the training accuracy is: 0.8246698402948403\n",
      "At random state 174, the testing accuracy is: 0.8287776412776413\n",
      "\n",
      "\n",
      "At random state 175, the training accuracy is: 0.8247850122850123\n",
      "At random state 175, the testing accuracy is: 0.8266277641277642\n",
      "\n",
      "\n",
      "At random state 176, the training accuracy is: 0.8260519041769042\n",
      "At random state 176, the testing accuracy is: 0.8212530712530712\n",
      "\n",
      "\n",
      "At random state 177, the training accuracy is: 0.8257063882063882\n",
      "At random state 177, the testing accuracy is: 0.8243243243243243\n",
      "\n",
      "\n",
      "At random state 178, the training accuracy is: 0.8240939803439803\n",
      "At random state 178, the testing accuracy is: 0.8296990171990172\n",
      "\n",
      "\n",
      "At random state 179, the training accuracy is: 0.8239404176904177\n",
      "At random state 179, the testing accuracy is: 0.8300061425061425\n",
      "\n",
      "\n",
      "At random state 180, the training accuracy is: 0.8253992628992629\n",
      "At random state 180, the testing accuracy is: 0.8246314496314496\n",
      "\n",
      "\n",
      "At random state 181, the training accuracy is: 0.8253608722358723\n",
      "At random state 181, the testing accuracy is: 0.8249385749385749\n",
      "\n",
      "\n",
      "At random state 182, the training accuracy is: 0.8259751228501229\n",
      "At random state 182, the testing accuracy is: 0.8230958230958231\n",
      "\n",
      "\n",
      "At random state 183, the training accuracy is: 0.8257831695331695\n",
      "At random state 183, the testing accuracy is: 0.8253992628992629\n",
      "\n",
      "\n",
      "At random state 184, the training accuracy is: 0.8249001842751843\n",
      "At random state 184, the testing accuracy is: 0.8278562653562653\n",
      "\n",
      "\n",
      "At random state 185, the training accuracy is: 0.824708230958231\n",
      "At random state 185, the testing accuracy is: 0.8264742014742015\n",
      "\n",
      "\n",
      "At random state 186, the training accuracy is: 0.8267813267813268\n",
      "At random state 186, the testing accuracy is: 0.8184889434889435\n",
      "\n",
      "\n",
      "At random state 187, the training accuracy is: 0.8245162776412777\n",
      "At random state 187, the testing accuracy is: 0.8269348894348895\n",
      "\n",
      "\n",
      "At random state 188, the training accuracy is: 0.8239404176904177\n",
      "At random state 188, the testing accuracy is: 0.8309275184275184\n",
      "\n",
      "\n"
     ]
    },
    {
     "name": "stdout",
     "output_type": "stream",
     "text": [
      "At random state 189, the training accuracy is: 0.824247542997543\n",
      "At random state 189, the testing accuracy is: 0.8304668304668305\n",
      "\n",
      "\n",
      "At random state 190, the training accuracy is: 0.8234413390663391\n",
      "At random state 190, the testing accuracy is: 0.8343058968058968\n",
      "\n",
      "\n",
      "At random state 191, the training accuracy is: 0.8261286855036855\n",
      "At random state 191, the testing accuracy is: 0.8229422604422605\n",
      "\n",
      "\n",
      "At random state 192, the training accuracy is: 0.8237100737100738\n",
      "At random state 192, the testing accuracy is: 0.831081081081081\n",
      "\n",
      "\n",
      "At random state 193, the training accuracy is: 0.8242091523341524\n",
      "At random state 193, the testing accuracy is: 0.8287776412776413\n",
      "\n",
      "\n",
      "At random state 194, the training accuracy is: 0.8250921375921376\n",
      "At random state 194, the testing accuracy is: 0.8272420147420148\n",
      "\n",
      "\n",
      "At random state 195, the training accuracy is: 0.824247542997543\n",
      "At random state 195, the testing accuracy is: 0.8303132678132679\n",
      "\n",
      "\n",
      "At random state 196, the training accuracy is: 0.8257447788697788\n",
      "At random state 196, the testing accuracy is: 0.8224815724815725\n",
      "\n",
      "\n",
      "At random state 197, the training accuracy is: 0.8269348894348895\n",
      "At random state 197, the testing accuracy is: 0.8212530712530712\n",
      "\n",
      "\n",
      "At random state 198, the training accuracy is: 0.8248617936117936\n",
      "At random state 198, the testing accuracy is: 0.8277027027027027\n",
      "\n",
      "\n",
      "At random state 199, the training accuracy is: 0.8235949017199017\n",
      "At random state 199, the testing accuracy is: 0.8298525798525799\n",
      "\n",
      "\n"
     ]
    }
   ],
   "source": [
    "#Code for finding best random state\n",
    "lr=LogisticRegression()\n",
    "for i in range(0,200):\n",
    "    x_train,x_test,y_train,y_test=train_test_split(x,y,test_size=0.2,random_state=i)\n",
    "    lr.fit(x_train,y_train)\n",
    "    pred_train=lr.predict(x_train)\n",
    "    pred_test=lr.predict(x_test)\n",
    "    print(f'At random state {i}, the training accuracy is: {accuracy_score(y_train,pred_train)}')\n",
    "    print(f'At random state {i}, the testing accuracy is: {accuracy_score(y_test,pred_test)}')\n",
    "    print(\"\\n\")"
   ]
  },
  {
   "cell_type": "markdown",
   "metadata": {},
   "source": [
    "At random state 109, we get our best training accuracy at 82.04% and testing accuracy at 84.29%"
   ]
  },
  {
   "cell_type": "code",
   "execution_count": 50,
   "metadata": {},
   "outputs": [],
   "source": [
    "x_train,x_test,y_train,y_test=train_test_split(x,y,test_size=0.2,random_state=109)"
   ]
  },
  {
   "cell_type": "markdown",
   "metadata": {},
   "source": [
    "We split our data into Training and Testing giving 80% data for Training and 20% for Testing at best random state 109. We will use different algorithms for comparing accuracies and attain the best model. We will compare Logitic Regression, GaussianNB & Support Vector Classifier in this case."
   ]
  },
  {
   "cell_type": "code",
   "execution_count": 51,
   "metadata": {},
   "outputs": [
    {
     "name": "stdout",
     "output_type": "stream",
     "text": [
      "0.8429054054054054\n",
      "[[4769  298]\n",
      " [ 725  720]]\n",
      "              precision    recall  f1-score   support\n",
      "\n",
      "         0.0       0.87      0.94      0.90      5067\n",
      "         1.0       0.71      0.50      0.58      1445\n",
      "\n",
      "   micro avg       0.84      0.84      0.84      6512\n",
      "   macro avg       0.79      0.72      0.74      6512\n",
      "weighted avg       0.83      0.84      0.83      6512\n",
      "\n"
     ]
    }
   ],
   "source": [
    "#Code for Logistic regression\n",
    "lr=LogisticRegression()\n",
    "lr.fit(x_train,y_train)\n",
    "predlr=lr.predict(x_test)\n",
    "print(accuracy_score(y_test,predlr))\n",
    "print(confusion_matrix(y_test,predlr))\n",
    "print(classification_report(y_test,predlr))"
   ]
  },
  {
   "cell_type": "code",
   "execution_count": 52,
   "metadata": {},
   "outputs": [
    {
     "name": "stdout",
     "output_type": "stream",
     "text": [
      "0.8502764127764127\n",
      "[[4770  297]\n",
      " [ 678  767]]\n",
      "              precision    recall  f1-score   support\n",
      "\n",
      "         0.0       0.88      0.94      0.91      5067\n",
      "         1.0       0.72      0.53      0.61      1445\n",
      "\n",
      "   micro avg       0.85      0.85      0.85      6512\n",
      "   macro avg       0.80      0.74      0.76      6512\n",
      "weighted avg       0.84      0.85      0.84      6512\n",
      "\n"
     ]
    }
   ],
   "source": [
    "svc=SVC(kernel='rbf')  \n",
    "svc.fit(x_train,y_train)\n",
    "svc.score(x_train,y_train)\n",
    "predsvc=svc.predict(x_test)\n",
    "print(accuracy_score(y_test,predsvc))\n",
    "print(confusion_matrix(y_test,predsvc))\n",
    "print(classification_report(y_test,predsvc))"
   ]
  },
  {
   "cell_type": "code",
   "execution_count": 53,
   "metadata": {},
   "outputs": [
    {
     "name": "stdout",
     "output_type": "stream",
     "text": [
      "0.8106572481572482\n",
      "[[4277  790]\n",
      " [ 443 1002]]\n",
      "              precision    recall  f1-score   support\n",
      "\n",
      "         0.0       0.91      0.84      0.87      5067\n",
      "         1.0       0.56      0.69      0.62      1445\n",
      "\n",
      "   micro avg       0.81      0.81      0.81      6512\n",
      "   macro avg       0.73      0.77      0.75      6512\n",
      "weighted avg       0.83      0.81      0.82      6512\n",
      "\n"
     ]
    }
   ],
   "source": [
    "gnb=GaussianNB()\n",
    "gnb.fit(x_train,y_train)\n",
    "pred=gnb.predict(x_test)\n",
    "print(accuracy_score(y_test,pred))\n",
    "print(confusion_matrix(y_test,pred))\n",
    "print(classification_report(y_test,pred))"
   ]
  },
  {
   "cell_type": "markdown",
   "metadata": {},
   "source": [
    "We get accuracy 84.29% for Logistic Regression, 85.02 for SVC and 81.06 for GaussianNB.\n",
    "\n",
    "We might attain this accuracy due to Overfitting/Underfitting problems as well. Let's use different Testing Techniques to test accuracy. "
   ]
  },
  {
   "cell_type": "markdown",
   "metadata": {},
   "source": [
    "# Cross Validation"
   ]
  },
  {
   "cell_type": "code",
   "execution_count": 54,
   "metadata": {},
   "outputs": [
    {
     "name": "stdout",
     "output_type": "stream",
     "text": [
      "At cross fold 2 the cv score is 0.8249078674067905 and accuracy score for training is 0.6710304054054054 and accuracy for the testing is 0.6710687960687961\n",
      "\n",
      "\n",
      "At cross fold 3 the cv score is 0.825000074144755 and accuracy score for training is 0.6710304054054054 and accuracy for the testing is 0.6710687960687961\n",
      "\n",
      "\n",
      "At cross fold 4 the cv score is 0.824877224002982 and accuracy score for training is 0.6710304054054054 and accuracy for the testing is 0.6710687960687961\n",
      "\n",
      "\n",
      "At cross fold 5 the cv score is 0.8246930192272689 and accuracy score for training is 0.6710304054054054 and accuracy for the testing is 0.6710687960687961\n",
      "\n",
      "\n",
      "At cross fold 6 the cv score is 0.8250922493976044 and accuracy score for training is 0.6710304054054054 and accuracy for the testing is 0.6710687960687961\n",
      "\n",
      "\n",
      "At cross fold 7 the cv score is 0.8249388356181291 and accuracy score for training is 0.6710304054054054 and accuracy for the testing is 0.6710687960687961\n",
      "\n",
      "\n",
      "At cross fold 8 the cv score is 0.8248465402734415 and accuracy score for training is 0.6710304054054054 and accuracy for the testing is 0.6710687960687961\n",
      "\n",
      "\n",
      "At cross fold 9 the cv score is 0.8251229549404974 and accuracy score for training is 0.6710304054054054 and accuracy for the testing is 0.6710687960687961\n",
      "\n",
      "\n"
     ]
    }
   ],
   "source": [
    "#Finding cv value at best cv score\n",
    "train_accuracy=accuracy_score(y_train,pred_train)\n",
    "test_accuracy=accuracy_score(y_test,pred_test)\n",
    "\n",
    "from sklearn.model_selection import cross_val_score\n",
    "for j in range(2,10):\n",
    "    cv_score=cross_val_score(lr,x,y,cv=j)\n",
    "    cv_mean=cv_score.mean()\n",
    "    print(f\"At cross fold {j} the cv score is {cv_mean} and accuracy score for training is {train_accuracy} and accuracy for the testing is {test_accuracy}\")\n",
    "    print(\"\\n\")"
   ]
  },
  {
   "cell_type": "markdown",
   "metadata": {},
   "source": [
    "We are getting the best cv score accuracy at cv=9 with 82.51%. Hence we use cv=9."
   ]
  },
  {
   "cell_type": "code",
   "execution_count": 55,
   "metadata": {},
   "outputs": [
    {
     "name": "stdout",
     "output_type": "stream",
     "text": [
      "Cross Validation score of LogisticRegression model:  0.8251229549404974\n"
     ]
    }
   ],
   "source": [
    "#Applying cross validation techniques for Logistic Regression\n",
    "from sklearn.model_selection import cross_val_score\n",
    "scr=cross_val_score(lr,x,y,cv=9)\n",
    "print(\"Cross Validation score of LogisticRegression model: \",scr.mean())"
   ]
  },
  {
   "cell_type": "code",
   "execution_count": 56,
   "metadata": {},
   "outputs": [
    {
     "name": "stdout",
     "output_type": "stream",
     "text": [
      "Cross Validation score of SVC model:  0.8367633254047082\n"
     ]
    }
   ],
   "source": [
    "#Applying cross validation techniques for Logistic Regression\n",
    "from sklearn.model_selection import cross_val_score\n",
    "scr=cross_val_score(svc,x,y,cv=9)\n",
    "print(\"Cross Validation score of SVC model: \",scr.mean())"
   ]
  },
  {
   "cell_type": "code",
   "execution_count": 57,
   "metadata": {},
   "outputs": [
    {
     "name": "stdout",
     "output_type": "stream",
     "text": [
      "Cross Validation score of GaussianNB model:  0.7993861265545325\n"
     ]
    }
   ],
   "source": [
    "#Applying cross validation techniques for Logistic Regression\n",
    "from sklearn.model_selection import cross_val_score\n",
    "scr=cross_val_score(gnb,x,y,cv=9)\n",
    "print(\"Cross Validation score of GaussianNB model: \",scr.mean())"
   ]
  },
  {
   "cell_type": "markdown",
   "metadata": {},
   "source": [
    "The cross Validation score for Logistic Regression is 82.51%, SVC is 83.67 and the cv score for GaussianNB is 79.93%\n",
    "\n",
    "Hence, GaussianNB is giving us better accuracy than that of Logistic Regreesion & SVC. So we proceed using GaussianNB for our project."
   ]
  },
  {
   "cell_type": "markdown",
   "metadata": {},
   "source": [
    "# Creating Confusion Matrix"
   ]
  },
  {
   "cell_type": "code",
   "execution_count": 58,
   "metadata": {},
   "outputs": [],
   "source": [
    "#Importing Libraries to create confusion matrix\n",
    "from sklearn.model_selection import cross_val_score\n",
    "from sklearn.model_selection import cross_val_predict\n",
    "from sklearn.metrics import confusion_matrix\n",
    "\n",
    "import warnings\n",
    "warnings.filterwarnings('ignore')\n",
    "\n"
   ]
  },
  {
   "cell_type": "code",
   "execution_count": 59,
   "metadata": {},
   "outputs": [
    {
     "name": "stdout",
     "output_type": "stream",
     "text": [
      "Score: [0.79276043 0.79635258 0.802377   0.80182421 0.80099502 0.79347526\n",
      " 0.79623998 0.80619298 0.80425767]\n",
      "Mean Scores 0.7993861265545325\n",
      "Standard deviation 0.004539728445124847\n",
      "Y Prediction values \n",
      "[0. 0. 0. ... 0. 0. 1.]\n"
     ]
    },
    {
     "data": {
      "text/plain": [
       "array([[20637,  4082],\n",
       "       [ 2450,  5391]], dtype=int64)"
      ]
     },
     "execution_count": 59,
     "metadata": {},
     "output_type": "execute_result"
    }
   ],
   "source": [
    "#Creating confusion matrix\n",
    "gnb=GaussianNB()\n",
    "\n",
    "score=cross_val_score(gnb,x,y,cv=9)\n",
    "print(\"Score:\",score)\n",
    "\n",
    "print(\"Mean Scores\",score.mean())\n",
    "print(\"Standard deviation\",score.std())\n",
    "\n",
    "y_pred=cross_val_predict(gnb,x,y,cv=9)\n",
    "\n",
    "print('Y Prediction values ')\n",
    "print(y_pred)\n",
    "conf_mat=confusion_matrix(y,y_pred)\n",
    "conf_mat"
   ]
  },
  {
   "cell_type": "markdown",
   "metadata": {},
   "source": [
    "From the above confusion matrix, we can observe that True Positive is 20637 and True Negative is 5391, rest all are Type 1 and Type 2 errors."
   ]
  },
  {
   "cell_type": "markdown",
   "metadata": {},
   "source": [
    "# Plotting AUC ROC Curve"
   ]
  },
  {
   "cell_type": "code",
   "execution_count": 60,
   "metadata": {},
   "outputs": [],
   "source": [
    "#Importing libraries to plot auc roc curve\n",
    "from sklearn.metrics import roc_curve,auc\n",
    "import matplotlib.pyplot as plt\n",
    "\n",
    "from sklearn.metrics import roc_auc_score\n"
   ]
  },
  {
   "cell_type": "code",
   "execution_count": 61,
   "metadata": {},
   "outputs": [],
   "source": [
    "#Creating AUC ROC curve for GaussianNb\n",
    "gnb.fit(x,y)\n",
    "y_pred_prob=gnb.predict_proba(x_test)[:,1]\n",
    "y_pred_prob\n",
    "fpr,tpr,thresholds=roc_curve(y_test,y_pred_prob)\n",
    "roc_auc=auc(fpr,tpr)"
   ]
  },
  {
   "cell_type": "code",
   "execution_count": 62,
   "metadata": {},
   "outputs": [
    {
     "data": {
      "image/png": "[encoded data removed]",
      "text/plain": [
       "<Figure size 432x288 with 1 Axes>"
      ]
     },
     "metadata": {
      "needs_background": "light"
     },
     "output_type": "display_data"
    }
   ],
   "source": [
    "plt.plot([0,1],[0,1],color='navy',lw=10,linestyle='--')\n",
    "plt.plot(fpr,tpr,color='darkorange',lw=10,label='ROC curve (area= %0.2f)'%roc_auc)\n",
    "plt.xlim([0.0,1.0])\n",
    "plt.ylim([0.0,1.05])\n",
    "plt.xlabel('Falsepositive rate')\n",
    "plt.ylabel('True positive rate')\n",
    "plt.title('GaussianNB')\n",
    "plt.legend(loc='lower right')\n",
    "plt.show()"
   ]
  },
  {
   "cell_type": "markdown",
   "metadata": {},
   "source": [
    "We get auc score as 86% which means our model is working rightly at 86%. Higher the curve, better the model. Our model is giving a good training and testing accuracy at different threshold values."
   ]
  },
  {
   "cell_type": "markdown",
   "metadata": {},
   "source": [
    "# Saving The Model"
   ]
  },
  {
   "cell_type": "code",
   "execution_count": 63,
   "metadata": {},
   "outputs": [
    {
     "data": {
      "text/plain": [
       "['gnbfile.obj']"
      ]
     },
     "execution_count": 63,
     "metadata": {},
     "output_type": "execute_result"
    }
   ],
   "source": [
    "from sklearn.externals import joblib\n",
    "joblib.dump(gnb,'gnbfile.obj')"
   ]
  },
  {
   "cell_type": "code",
   "execution_count": null,
   "metadata": {},
   "outputs": [],
   "source": []
  },
  {
   "cell_type": "code",
   "execution_count": null,
   "metadata": {},
   "outputs": [],
   "source": []
  },
  {
   "cell_type": "code",
   "execution_count": null,
   "metadata": {},
   "outputs": [],
   "source": []
  },
  {
   "cell_type": "code",
   "execution_count": null,
   "metadata": {},
   "outputs": [],
   "source": []
  },
  {
   "cell_type": "code",
   "execution_count": null,
   "metadata": {},
   "outputs": [],
   "source": []
  },
  {
   "cell_type": "code",
   "execution_count": null,
   "metadata": {},
   "outputs": [],
   "source": []
  },
  {
   "cell_type": "code",
   "execution_count": null,
   "metadata": {},
   "outputs": [],
   "source": []
  },
  {
   "cell_type": "code",
   "execution_count": null,
   "metadata": {},
   "outputs": [],
   "source": []
  },
  {
   "cell_type": "code",
   "execution_count": null,
   "metadata": {},
   "outputs": [],
   "source": []
  },
  {
   "cell_type": "code",
   "execution_count": null,
   "metadata": {},
   "outputs": [],
   "source": []
  },
  {
   "cell_type": "code",
   "execution_count": null,
   "metadata": {},
   "outputs": [],
   "source": []
  },
  {
   "cell_type": "code",
   "execution_count": null,
   "metadata": {},
   "outputs": [],
   "source": []
  },
  {
   "cell_type": "code",
   "execution_count": null,
   "metadata": {},
   "outputs": [],
   "source": []
  },
  {
   "cell_type": "code",
   "execution_count": null,
   "metadata": {},
   "outputs": [],
   "source": []
  },
  {
   "cell_type": "code",
   "execution_count": null,
   "metadata": {},
   "outputs": [],
   "source": []
  },
  {
   "cell_type": "code",
   "execution_count": null,
   "metadata": {},
   "outputs": [],
   "source": []
  },
  {
   "cell_type": "code",
   "execution_count": null,
   "metadata": {},
   "outputs": [],
   "source": []
  },
  {
   "cell_type": "code",
   "execution_count": null,
   "metadata": {},
   "outputs": [],
   "source": []
  },
  {
   "cell_type": "code",
   "execution_count": null,
   "metadata": {},
   "outputs": [],
   "source": []
  },
  {
   "cell_type": "code",
   "execution_count": null,
   "metadata": {},
   "outputs": [],
   "source": []
  },
  {
   "cell_type": "code",
   "execution_count": null,
   "metadata": {},
   "outputs": [],
   "source": []
  },
  {
   "cell_type": "code",
   "execution_count": null,
   "metadata": {},
   "outputs": [],
   "source": []
  },
  {
   "cell_type": "code",
   "execution_count": null,
   "metadata": {},
   "outputs": [],
   "source": []
  },
  {
   "cell_type": "code",
   "execution_count": null,
   "metadata": {},
   "outputs": [],
   "source": []
  },
  {
   "cell_type": "code",
   "execution_count": null,
   "metadata": {},
   "outputs": [],
   "source": []
  },
  {
   "cell_type": "code",
   "execution_count": null,
   "metadata": {},
   "outputs": [],
   "source": []
  },
  {
   "cell_type": "code",
   "execution_count": null,
   "metadata": {},
   "outputs": [],
   "source": []
  },
  {
   "cell_type": "code",
   "execution_count": null,
   "metadata": {},
   "outputs": [],
   "source": []
  },
  {
   "cell_type": "code",
   "execution_count": null,
   "metadata": {},
   "outputs": [],
   "source": []
  },
  {
   "cell_type": "code",
   "execution_count": null,
   "metadata": {},
   "outputs": [],
   "source": []
  },
  {
   "cell_type": "code",
   "execution_count": null,
   "metadata": {},
   "outputs": [],
   "source": []
  },
  {
   "cell_type": "code",
   "execution_count": null,
   "metadata": {},
   "outputs": [],
   "source": []
  },
  {
   "cell_type": "code",
   "execution_count": null,
   "metadata": {},
   "outputs": [],
   "source": []
  },
  {
   "cell_type": "code",
   "execution_count": null,
   "metadata": {},
   "outputs": [],
   "source": []
  },
  {
   "cell_type": "code",
   "execution_count": null,
   "metadata": {},
   "outputs": [],
   "source": []
  },
  {
   "cell_type": "code",
   "execution_count": null,
   "metadata": {},
   "outputs": [],
   "source": []
  },
  {
   "cell_type": "code",
   "execution_count": null,
   "metadata": {},
   "outputs": [],
   "source": []
  }
 ],
 "metadata": {
  "kernelspec": {
   "display_name": "Python 3",
   "language": "python",
   "name": "python3"
  },
  "language_info": {
   "codemirror_mode": {
    "name": "ipython",
    "version": 3
   },
   "file_extension": ".py",
   "mimetype": "text/x-python",
   "name": "python",
   "nbconvert_exporter": "python",
   "pygments_lexer": "ipython3",
   "version": "3.7.3"
  }
 },
 "nbformat": 4,
 "nbformat_minor": 2
}
